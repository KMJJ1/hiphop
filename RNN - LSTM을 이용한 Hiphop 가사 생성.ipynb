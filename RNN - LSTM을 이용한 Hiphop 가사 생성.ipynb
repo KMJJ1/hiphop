{
 "cells": [
  {
   "cell_type": "markdown",
   "metadata": {},
   "source": [
    "     "
   ]
  },
  {
   "cell_type": "markdown",
   "metadata": {},
   "source": [
    "# RNN - LSTM을 이용한 Hiphop 가사 만들기\n",
    "-------"
   ]
  },
  {
   "cell_type": "markdown",
   "metadata": {},
   "source": [
    "자신의 진솔한 이야기를 간결하게 담아낸 Hiphop 가사.\n",
    "\n",
    "많은 가사를 인공지능으로 학습시켜 새로운 가사를 만들어내자!"
   ]
  },
  {
   "cell_type": "markdown",
   "metadata": {},
   "source": [
    "**주제 선정 이유**\n",
    "- 국어국문학과 출신으로 머신러닝, 딥러닝을 배우며 컴퓨터 언어로 자연어를 처리하는 것의 매력을 느꼈다\n",
    "- 현실 세계의 언어를 학습시켜 새로운 문장을 만들어내는 것을 프로젝트 주제로 선정하여, 얼마나 잘 학습이 가능한지, 어떤 방법을 취하는 것이 효율적인지 알아보고자 한다"
   ]
  },
  {
   "cell_type": "markdown",
   "metadata": {},
   "source": [
    "> **1. 목표**\n",
    "\n",
    "> - Rap/Hiphop 장르의 가사들을 학습시켜 새로운 가사를 생성해내고, **말이 되게끔** 만든다\n",
    "\n",
    "\n",
    "> **2. 분석 내용**\n",
    "\n",
    "> - 웹 크롤링, DB 관리\n",
    "> - n-gram / Word2Vec / t-SNE 를 통한 자연어 처리\n",
    "> - 딥러닝의 RNN - LSTM 알고리즘으로 가사 학습 및 생성\n",
    "> - Flask 모듈, html 활용을 통한 웹페이지 구현\n",
    "\n",
    "\n",
    "> **3. Workflow**\n",
    "\n",
    "> 1) Data 수집\n",
    ">    - Hiphop 가사를 웹 크롤링 (각종 문장부호 함께 제거)\n",
    ">    - MySQL에 저장\n",
    ">\n",
    "> 2) 워드클라우드\n",
    ">    - Hiphop 장르 9000여 곡의 가사를 명사화시켜 워드클라우드 생성\n",
    ">    - 좋아요 기준 상위 1000곡의 인기곡 가사를 명사화시켜 워드클라우드 생성\n",
    "        \n",
    "> 3) 전처리\n",
    ">    - 자주 나오는 문구를 엮어 bigram 처리\n",
    "        \n",
    "> 4) Word2Vec (Skip-gram 방식)\n",
    ">    - bigram 처리한 텍스트의 단어들을 vector화\n",
    "\n",
    "> 5) t-SNE\n",
    ">    - Word2Vec 처리한 단어 중 100회 이상 등장하는 단어들의 유사도를 찾아 시각화\n",
    "\n",
    "> 6) RNN - LSTM으로 가사 생성\n",
    "\n",
    "> 7) Python Flask를 이용한 웹페이지 구현"
   ]
  },
  {
   "cell_type": "code",
   "execution_count": 61,
   "metadata": {},
   "outputs": [
    {
     "data": {
      "text/html": [
       "\n",
       "    <div class=\"bk-root\">\n",
       "        <a href=\"http://bokeh.pydata.org\" target=\"_blank\" class=\"bk-logo bk-logo-small bk-logo-notebook\"></a>\n",
       "        <span id=\"fafd992a-2c4c-4102-9097-991a20d9ec3c\">Loading BokehJS ...</span>\n",
       "    </div>"
      ]
     },
     "metadata": {},
     "output_type": "display_data"
    },
    {
     "data": {
      "application/javascript": [
       "\n",
       "(function(global) {\n",
       "  function now() {\n",
       "    return new Date();\n",
       "  }\n",
       "\n",
       "  var force = true;\n",
       "\n",
       "  if (typeof (window._bokeh_onload_callbacks) === \"undefined\" || force === true) {\n",
       "    window._bokeh_onload_callbacks = [];\n",
       "    window._bokeh_is_loading = undefined;\n",
       "  }\n",
       "\n",
       "\n",
       "  \n",
       "  if (typeof (window._bokeh_timeout) === \"undefined\" || force === true) {\n",
       "    window._bokeh_timeout = Date.now() + 5000;\n",
       "    window._bokeh_failed_load = false;\n",
       "  }\n",
       "\n",
       "  var NB_LOAD_WARNING = {'data': {'text/html':\n",
       "     \"<div style='background-color: #fdd'>\\n\"+\n",
       "     \"<p>\\n\"+\n",
       "     \"BokehJS does not appear to have successfully loaded. If loading BokehJS from CDN, this \\n\"+\n",
       "     \"may be due to a slow or bad network connection. Possible fixes:\\n\"+\n",
       "     \"</p>\\n\"+\n",
       "     \"<ul>\\n\"+\n",
       "     \"<li>re-rerun `output_notebook()` to attempt to load from CDN again, or</li>\\n\"+\n",
       "     \"<li>use INLINE resources instead, as so:</li>\\n\"+\n",
       "     \"</ul>\\n\"+\n",
       "     \"<code>\\n\"+\n",
       "     \"from bokeh.resources import INLINE\\n\"+\n",
       "     \"output_notebook(resources=INLINE)\\n\"+\n",
       "     \"</code>\\n\"+\n",
       "     \"</div>\"}};\n",
       "\n",
       "  function display_loaded() {\n",
       "    if (window.Bokeh !== undefined) {\n",
       "      var el = document.getElementById(\"fafd992a-2c4c-4102-9097-991a20d9ec3c\");\n",
       "      el.textContent = \"BokehJS \" + Bokeh.version + \" successfully loaded.\";\n",
       "    } else if (Date.now() < window._bokeh_timeout) {\n",
       "      setTimeout(display_loaded, 100)\n",
       "    }\n",
       "  }\n",
       "\n",
       "  function run_callbacks() {\n",
       "    try {\n",
       "      window._bokeh_onload_callbacks.forEach(function(callback) { callback() });\n",
       "    }\n",
       "    finally {\n",
       "      delete window._bokeh_onload_callbacks\n",
       "    }\n",
       "    console.info(\"Bokeh: all callbacks have finished\");\n",
       "  }\n",
       "\n",
       "  function load_libs(js_urls, callback) {\n",
       "    window._bokeh_onload_callbacks.push(callback);\n",
       "    if (window._bokeh_is_loading > 0) {\n",
       "      console.log(\"Bokeh: BokehJS is being loaded, scheduling callback at\", now());\n",
       "      return null;\n",
       "    }\n",
       "    if (js_urls == null || js_urls.length === 0) {\n",
       "      run_callbacks();\n",
       "      return null;\n",
       "    }\n",
       "    console.log(\"Bokeh: BokehJS not loaded, scheduling load and callback at\", now());\n",
       "    window._bokeh_is_loading = js_urls.length;\n",
       "    for (var i = 0; i < js_urls.length; i++) {\n",
       "      var url = js_urls[i];\n",
       "      var s = document.createElement('script');\n",
       "      s.src = url;\n",
       "      s.async = false;\n",
       "      s.onreadystatechange = s.onload = function() {\n",
       "        window._bokeh_is_loading--;\n",
       "        if (window._bokeh_is_loading === 0) {\n",
       "          console.log(\"Bokeh: all BokehJS libraries loaded\");\n",
       "          run_callbacks()\n",
       "        }\n",
       "      };\n",
       "      s.onerror = function() {\n",
       "        console.warn(\"failed to load library \" + url);\n",
       "      };\n",
       "      console.log(\"Bokeh: injecting script tag for BokehJS library: \", url);\n",
       "      document.getElementsByTagName(\"head\")[0].appendChild(s);\n",
       "    }\n",
       "  };var element = document.getElementById(\"fafd992a-2c4c-4102-9097-991a20d9ec3c\");\n",
       "  if (element == null) {\n",
       "    console.log(\"Bokeh: ERROR: autoload.js configured with elementid 'fafd992a-2c4c-4102-9097-991a20d9ec3c' but no matching script tag was found. \")\n",
       "    return false;\n",
       "  }\n",
       "\n",
       "  var js_urls = [\"https://cdn.pydata.org/bokeh/release/bokeh-0.12.6.min.js\", \"https://cdn.pydata.org/bokeh/release/bokeh-widgets-0.12.6.min.js\"];\n",
       "\n",
       "  var inline_js = [\n",
       "    function(Bokeh) {\n",
       "      Bokeh.set_log_level(\"info\");\n",
       "    },\n",
       "    \n",
       "    function(Bokeh) {\n",
       "      \n",
       "    },\n",
       "    \n",
       "    function(Bokeh) {\n",
       "      \n",
       "      document.getElementById(\"fafd992a-2c4c-4102-9097-991a20d9ec3c\").textContent = \"BokehJS is loading...\";\n",
       "    },\n",
       "    function(Bokeh) {\n",
       "      console.log(\"Bokeh: injecting CSS: https://cdn.pydata.org/bokeh/release/bokeh-0.12.6.min.css\");\n",
       "      Bokeh.embed.inject_css(\"https://cdn.pydata.org/bokeh/release/bokeh-0.12.6.min.css\");\n",
       "      console.log(\"Bokeh: injecting CSS: https://cdn.pydata.org/bokeh/release/bokeh-widgets-0.12.6.min.css\");\n",
       "      Bokeh.embed.inject_css(\"https://cdn.pydata.org/bokeh/release/bokeh-widgets-0.12.6.min.css\");\n",
       "    }\n",
       "  ];\n",
       "\n",
       "  function run_inline_js() {\n",
       "    \n",
       "    if ((window.Bokeh !== undefined) || (force === true)) {\n",
       "      for (var i = 0; i < inline_js.length; i++) {\n",
       "        inline_js[i](window.Bokeh);\n",
       "      }if (force === true) {\n",
       "        display_loaded();\n",
       "      }} else if (Date.now() < window._bokeh_timeout) {\n",
       "      setTimeout(run_inline_js, 100);\n",
       "    } else if (!window._bokeh_failed_load) {\n",
       "      console.log(\"Bokeh: BokehJS failed to load within specified timeout.\");\n",
       "      window._bokeh_failed_load = true;\n",
       "    } else if (force !== true) {\n",
       "      var cell = $(document.getElementById(\"fafd992a-2c4c-4102-9097-991a20d9ec3c\")).parents('.cell').data().cell;\n",
       "      cell.output_area.append_execute_result(NB_LOAD_WARNING)\n",
       "    }\n",
       "\n",
       "  }\n",
       "\n",
       "  if (window._bokeh_is_loading === 0) {\n",
       "    console.log(\"Bokeh: BokehJS loaded, going straight to plotting\");\n",
       "    run_inline_js();\n",
       "  } else {\n",
       "    load_libs(js_urls, function() {\n",
       "      console.log(\"Bokeh: BokehJS plotting callback run at\", now());\n",
       "      run_inline_js();\n",
       "    });\n",
       "  }\n",
       "}(this));"
      ]
     },
     "metadata": {},
     "output_type": "display_data"
    }
   ],
   "source": [
    "from selenium import webdriver\n",
    "from selenium.webdriver.common.keys import Keys\n",
    "\n",
    "import pandas as pd\n",
    "import MySQLdb\n",
    "import sklearn\n",
    "\n",
    "import konlpy\n",
    "from konlpy.tag import Twitter\n",
    "\n",
    "import gensim\n",
    "from gensim.models import Phrases\n",
    "from gensim.models.word2vec import LineSentence\n",
    "from gensim import corpora, models\n",
    "from gensim.models import LdaMulticore\n",
    "from gensim.models import Word2Vec\n",
    "from gensim.corpora import Dictionary, MmCorpus\n",
    "\n",
    "import pyLDAvis\n",
    "import pyLDAvis.gensim\n",
    "import pickle\n",
    "\n",
    "from wordcloud import WordCloud\n",
    "from collections import Counter\n",
    "\n",
    "from sklearn.feature_extraction.text import CountVectorizer\n",
    "from sklearn.manifold import TSNE\n",
    "\n",
    "# from nltk.tokenize import RegexpTokenizer\n",
    "from os import path\n",
    "# from itertools import islice\n",
    "\n",
    "from bokeh.plotting import figure, show, output_notebook\n",
    "from bokeh.models import HoverTool, ColumnDataSource, value\n",
    "output_notebook()"
   ]
  },
  {
   "cell_type": "markdown",
   "metadata": {},
   "source": [
    "## 1. Data 수집\n",
    "- 국내 최대 음원사이트 Melon에서 Rap/Hiphp 장르의 전체 곡을 selenium을 이용해 크롤링"
   ]
  },
  {
   "cell_type": "markdown",
   "metadata": {},
   "source": [
    "### 1) 가사 웹 크롤링"
   ]
  },
  {
   "cell_type": "markdown",
   "metadata": {},
   "source": [
    "1-1. 노래 1곡의 제목, 좋아요, 가수, 가사 크롤링"
   ]
  },
  {
   "cell_type": "code",
   "execution_count": null,
   "metadata": {
    "collapsed": true
   },
   "outputs": [],
   "source": [
    "driver = webdriver.Chrome()\n",
    "driver.get(\"http://www.melon.com/genre/song_list.htm?gnrCode=GN0200\")\n",
    "\n",
    "\n",
    "lyric_page = driver.find_element_by_xpath(\"//a[@class='btn btn_icon_detail']\")\n",
    "lyric_page.click()\n",
    "\n",
    "title = driver.find_element_by_xpath(\"//p[@class='songname']\")\n",
    "print (\"제목 :\",title.text)\n",
    "\n",
    "likes = driver.find_element_by_xpath(\"//span[@id='d_like_count']\")\n",
    "print (\"좋아요 :\",likes.text)\n",
    "\n",
    "singer = driver.find_element_by_xpath(\"//a[@class='atistname']\")\n",
    "print (\"가수 :\",singer.text)\n",
    "\n",
    "lyrics = driver.find_element_by_xpath(\"//div[@class='lyric']\")\n",
    "print (\"가사 :\")\n",
    "print (lyrics.text)"
   ]
  },
  {
   "cell_type": "markdown",
   "metadata": {},
   "source": [
    "1-2. url 페이지를 넘기며 크롤러 완성"
   ]
  },
  {
   "cell_type": "code",
   "execution_count": null,
   "metadata": {
    "collapsed": true
   },
   "outputs": [],
   "source": [
    "driver = webdriver.Chrome()\n",
    "for i in range(10):\n",
    "    i = i * 50 + 1\n",
    "    url = \"http://www.melon.com/genre/song_list.htm?gnrCode=GN0300#params%5BgnrCode%5D=GN0300&params%5BdtlGnrCode%5D=&params%5BorderBy%5D=NEW&po=pageObj&startIndex={}\".format(i)\n",
    "    driver.get(url)\n",
    "    for i in range(50):\n",
    "        try:\n",
    "            element = driver.find_elements_by_xpath(\"//a[@class='btn btn_icon_detail']\")\n",
    "            element[i].click()\n",
    "            title = driver.find_element_by_xpath(\"//p[@class='songname']\")\n",
    "            print (\"Title :\",title.text)\n",
    "            likes = driver.find_element_by_xpath(\"//span[@id='d_like_count']\")\n",
    "            print (\"Likes :\",likes.text)\n",
    "            singer = driver.find_element_by_xpath(\"//a[@class='atistname']\")\n",
    "            print (\"Singer :\",singer.text)\n",
    "            lyrics = driver.find_element_by_xpath(\"//div[@class='lyric']\")\n",
    "            print (\"Lyrics :\")\n",
    "            print (lyrics.text)\n",
    "            driver.back()\n",
    "            i += 1\n",
    "        except:\n",
    "            driver.back()\n",
    "            i += 1\n",
    "    driver.back()\n",
    "    i += 1 "
   ]
  },
  {
   "cell_type": "markdown",
   "metadata": {},
   "source": [
    "### 2) MySQL DB에 저장 - 총 9139곡"
   ]
  },
  {
   "cell_type": "markdown",
   "metadata": {},
   "source": [
    "2-1. 1곡만 넣어보기"
   ]
  },
  {
   "cell_type": "code",
   "execution_count": null,
   "metadata": {
    "collapsed": true
   },
   "outputs": [],
   "source": [
    "server = ''\n",
    "db_id = ''\n",
    "db_pwd = ''\n",
    "db_db = ''"
   ]
  },
  {
   "cell_type": "code",
   "execution_count": null,
   "metadata": {
    "collapsed": true
   },
   "outputs": [],
   "source": [
    "db = MySQLdb.connect(server, db_id, db_pwd, db_db)\n",
    "db.set_character_set('utf8') # 불러올 때 utf8로 선언\n",
    "cursor = db.cursor()\n",
    "\n",
    "driver = webdriver.Chrome()\n",
    "driver.get('http://www.melon.com/song/detail.htm?songId=30568338')\n",
    "\n",
    "singer = driver.find_element_by_xpath(\"//a[@class='atistname']\")\n",
    "title = driver.find_element_by_xpath(\"//p[@class='songname']\")\n",
    "likes = driver.find_element_by_xpath(\"//span[@id='d_like_count']\")\n",
    "lyrics = driver.find_element_by_xpath(\"//div[@class='lyric']\")\n",
    "\n",
    "try:\n",
    "    query = \"\"\"INSERT INTO lyrics\n",
    "                    VALUES ('{}', '{}', '{}', '{}')\"\"\" \\\n",
    "                    .format(singer.text.replace(\"'\", '').replace('\"', ''), title.text.replace(\"'\", '').replace('\"', ''), int(likes.text.replace(',', '')), lyrics.text.replace(\"'\", '').replace('\"', ''))\n",
    "    cursor.execute(query)\n",
    "\n",
    "    db.commit()\n",
    "except Exception as e:\n",
    "    db.rollback()\n",
    "    print (e )\n",
    "\n",
    "cursor.close()\n",
    "    \n",
    "# disconnect from server\n",
    "db.close()"
   ]
  },
  {
   "cell_type": "markdown",
   "metadata": {},
   "source": [
    "2-2. for문을 돌려 전체 저장"
   ]
  },
  {
   "cell_type": "code",
   "execution_count": null,
   "metadata": {
    "collapsed": true
   },
   "outputs": [],
   "source": [
    "db = MySQLdb.connect(server, db_id, db_pwd, db_db)\n",
    "db.set_character_set('utf8')\n",
    "cursor = db.cursor()\n",
    "\n",
    "driver = webdriver.Chrome()\n",
    "for a in range(271):\n",
    "    a = a * 50 + 1\n",
    "    url = \"http://www.melon.com/genre/song_list.htm?gnrCode=GN0300#params%5BgnrCode%5D=GN0300&params%5BdtlGnrCode%5D=&params%5BorderBy%5D=NEW&po=pageObj&startIndex={}\".format(a)\n",
    "    driver.get(url)\n",
    "    for i in range(50):\n",
    "        try:\n",
    "            element = driver.find_elements_by_xpath(\"//a[@class='btn btn_icon_detail']\")\n",
    "            element[i].click()\n",
    "            title = driver.find_element_by_xpath(\"//p[@class='songname']\")\n",
    "            likes = driver.find_element_by_xpath(\"//span[@id='d_like_count']\")\n",
    "            singer = driver.find_element_by_xpath(\"//a[@class='atistname']\")\n",
    "            lyrics = driver.find_element_by_xpath(\"//div[@class='lyric']\")\n",
    "            try:\n",
    "                query = \"\"\"INSERT INTO lyrics\n",
    "                    VALUES ('{}', '{}', '{}', '{}')\"\"\" \\\n",
    "                    .format(singer.text.replace(\"'\", '').replace('\"', ''), title.text.replace(\"'\", '').replace('\"', ''), int(likes.text.replace(',', '')), lyrics.text.replace(\".\", '').replace(\"*\", '').replace(\"-\", '').replace(\",\", '').replace(\"'\", '').replace('\"', ''))\n",
    "                cursor.execute(query)\n",
    "                db.commit()\n",
    "            except Exception as e:\n",
    "                db.rollback()\n",
    "                print (e)\n",
    "            driver.back()\n",
    "            i += 1\n",
    "        except:\n",
    "            driver.back()\n",
    "            i += 1\n",
    "    driver.back()\n",
    "    print(a)\n",
    "    a += 1\n",
    "    \n",
    "print(\"DONE\")\n",
    "\n",
    "db.close()"
   ]
  },
  {
   "cell_type": "markdown",
   "metadata": {},
   "source": [
    "> - selenium을 이용하여 직접 웹 크롤링을 실행하였고, MySQL과 Workbench를 사용함으로써 DB 사용 및 SQL 구문에 익숙해질 수 있었다."
   ]
  },
  {
   "cell_type": "markdown",
   "metadata": {},
   "source": [
    "## 2. 워드클라우드"
   ]
  },
  {
   "cell_type": "markdown",
   "metadata": {},
   "source": [
    "Hiphop 장르 전체의 가사 가져오기"
   ]
  },
  {
   "cell_type": "code",
   "execution_count": 3,
   "metadata": {
    "collapsed": true
   },
   "outputs": [],
   "source": [
    "with open('data/hiphop.txt', 'r', encoding = 'utf-8') as f:\n",
    "    hiphop_txt = f.read()"
   ]
  },
  {
   "cell_type": "code",
   "execution_count": 4,
   "metadata": {},
   "outputs": [
    {
     "name": "stdout",
     "output_type": "stream",
     "text": [
      "﻿women women women\n",
      "women women women\n",
      "why are you so sad why are you\n",
      "너무 지쳐보여 잠시 내려놔도 돼\n",
      "여긴 널 위한 paradi\n"
     ]
    }
   ],
   "source": [
    "print (hiphop_txt[:100])"
   ]
  },
  {
   "cell_type": "markdown",
   "metadata": {},
   "source": [
    "좋아요 상위 1000곡의 인기곡 가사 가져오기"
   ]
  },
  {
   "cell_type": "code",
   "execution_count": 5,
   "metadata": {
    "collapsed": true
   },
   "outputs": [],
   "source": [
    "with open('data/hiphop_1000.txt', 'r', encoding = 'utf-8') as f:\n",
    "    hiphop_1000 = f.read()"
   ]
  },
  {
   "cell_type": "code",
   "execution_count": 6,
   "metadata": {},
   "outputs": [
    {
     "name": "stdout",
     "output_type": "stream",
     "text": [
      "﻿보고 싶다\n",
      "이렇게\n"
     ]
    }
   ],
   "source": [
    "print(hiphop_1000[:10])"
   ]
  },
  {
   "cell_type": "markdown",
   "metadata": {},
   "source": [
    "힙합 장르 9139곡의 가사 / 좋아요 상위 1000곡 모두 명사화"
   ]
  },
  {
   "cell_type": "code",
   "execution_count": 7,
   "metadata": {
    "collapsed": true
   },
   "outputs": [],
   "source": [
    "tw = Twitter()\n",
    "stop_words = open('data/stop_words.txt', 'r').read().split('\\n')\n",
    "\n",
    "def normalize(lyric):\n",
    "    nouns = tw.nouns(lyric)\n",
    "    lyric_noun = [ noun for noun in nouns if len(noun) > 1 and noun not in stop_words]\n",
    "    return lyric_noun"
   ]
  },
  {
   "cell_type": "code",
   "execution_count": 8,
   "metadata": {},
   "outputs": [
    {
     "name": "stdout",
     "output_type": "stream",
     "text": [
      "Wall time: 5min 39s\n"
     ]
    }
   ],
   "source": [
    "%%time\n",
    "normalized_text = normalize(hiphop_txt)\n",
    "normalized_1000 = normalize(hiphop_1000)"
   ]
  },
  {
   "cell_type": "markdown",
   "metadata": {},
   "source": [
    "### 1) 힙합 장르 전체의 가사 워드클라우드"
   ]
  },
  {
   "cell_type": "code",
   "execution_count": 9,
   "metadata": {
    "collapsed": true
   },
   "outputs": [],
   "source": [
    "WC = WordCloud('font/Daum_SemiBold.ttf', width=700, height=700)"
   ]
  },
  {
   "cell_type": "code",
   "execution_count": 11,
   "metadata": {},
   "outputs": [
    {
     "name": "stdout",
     "output_type": "stream",
     "text": [
      "Wall time: 14 s\n"
     ]
    }
   ],
   "source": [
    "%%time\n",
    "hiphop_wc = WC.generate(' '.join(normalized_text))\n",
    "hiphop_wc.to_file('wordcloud/hiphopwordcloud.png')"
   ]
  },
  {
   "cell_type": "markdown",
   "metadata": {},
   "source": [
    "![Hiphop 9100곡 워드클라우드](wordcloud/hiphopwordcloud.png)"
   ]
  },
  {
   "cell_type": "markdown",
   "metadata": {},
   "source": [
    "이제, 우리, 지금 오늘, 시간, 모두, 사람, 너무 등이 많이 등장했다."
   ]
  },
  {
   "cell_type": "markdown",
   "metadata": {},
   "source": [
    "### 2) 인기곡 1000곡의 가사 워드클라우드"
   ]
  },
  {
   "cell_type": "code",
   "execution_count": 12,
   "metadata": {},
   "outputs": [
    {
     "name": "stdout",
     "output_type": "stream",
     "text": [
      "Wall time: 3.46 s\n"
     ]
    }
   ],
   "source": [
    "%%time\n",
    "hiphop_wc = WC.generate(' '.join(normalized_1000))\n",
    "hiphop_wc.to_file('wordcloud/wordcloud1000.png')"
   ]
  },
  {
   "cell_type": "markdown",
   "metadata": {},
   "source": [
    "![Hiphop 1000곡 워드클라우드](wordcloud/wordcloud1000.png)"
   ]
  },
  {
   "cell_type": "markdown",
   "metadata": {},
   "source": [
    "우리가 가장 크게 보이며, 지금, 이제, 사랑, 사람, 시간, 너무가 자주 등장한다."
   ]
  },
  {
   "cell_type": "markdown",
   "metadata": {},
   "source": [
    "> - 워드클라우드 처리를 통해, 가사에서 자주 등장하는 명사들을 알아볼 수 있었다.\n",
    "- 또한 9000곡과 인기곡 1000곡 간에 많이 등장하는 단어는 큰 차이가 없는 것이 확인 가능하다."
   ]
  },
  {
   "cell_type": "markdown",
   "metadata": {},
   "source": [
    "## 3. 전처리\n",
    "- RNN 모델에 넣을 텍스트 파일 전처리\n",
    "- '말이 되는' 가사 생성에 도움받기 위해 자주 나오는 단어들을 묶어 어구로 만들었다\n",
    "- n-gram 이라는 기법으로 bigram(두 단어씩 묶기), trigram(세 단어씩 묶기) 등의 방법이 있다\n",
    "- 여기서는 두 단어씩 묶는 bigram을 사용하였다"
   ]
  },
  {
   "cell_type": "markdown",
   "metadata": {},
   "source": [
    "### 1) 자주 나오는 어구의 bigram 처리"
   ]
  },
  {
   "cell_type": "markdown",
   "metadata": {},
   "source": [
    "1-1. 9139곡 가사 전체를 가져옴"
   ]
  },
  {
   "cell_type": "code",
   "execution_count": 15,
   "metadata": {},
   "outputs": [
    {
     "data": {
      "text/html": [
       "<div>\n",
       "<style>\n",
       "    .dataframe thead tr:only-child th {\n",
       "        text-align: right;\n",
       "    }\n",
       "\n",
       "    .dataframe thead th {\n",
       "        text-align: left;\n",
       "    }\n",
       "\n",
       "    .dataframe tbody tr th {\n",
       "        vertical-align: top;\n",
       "    }\n",
       "</style>\n",
       "<table border=\"1\" class=\"dataframe\">\n",
       "  <thead>\n",
       "    <tr style=\"text-align: right;\">\n",
       "      <th></th>\n",
       "      <th>singer</th>\n",
       "      <th>title</th>\n",
       "      <th>likes</th>\n",
       "      <th>lyrics</th>\n",
       "    </tr>\n",
       "  </thead>\n",
       "  <tbody>\n",
       "    <tr>\n",
       "      <th>0</th>\n",
       "      <td>러버소울 (Rubber Soul)</td>\n",
       "      <td>Beautiful Women</td>\n",
       "      <td>91</td>\n",
       "      <td>women women women\\nwomen women women\\nwhy are ...</td>\n",
       "    </tr>\n",
       "    <tr>\n",
       "      <th>1</th>\n",
       "      <td>PD 블루</td>\n",
       "      <td>빠빠야 빠빠</td>\n",
       "      <td>9</td>\n",
       "      <td>이젠 나와 함께할 널 놓치지 않아\\n이제는 용기 내겠어\\nhello baby in ...</td>\n",
       "    </tr>\n",
       "    <tr>\n",
       "      <th>2</th>\n",
       "      <td>Genius D</td>\n",
       "      <td>마주</td>\n",
       "      <td>16</td>\n",
       "      <td>나도 알아 원래부터 너는 예뻤어\\n머리부터 발 끝까지 다 완벽했어\\n분명 단점이라곤...</td>\n",
       "    </tr>\n",
       "    <tr>\n",
       "      <th>3</th>\n",
       "      <td>윤선생</td>\n",
       "      <td>놀러갈까? (Feat. 오요)</td>\n",
       "      <td>3</td>\n",
       "      <td>하 지겹다\\n아침에 일어나서 얼굴을 봐봐\\n미간에 주름 피려 억지로 활짝\\n매일 똑...</td>\n",
       "    </tr>\n",
       "    <tr>\n",
       "      <th>4</th>\n",
       "      <td>엠케이</td>\n",
       "      <td>최 문 기 와 이 원 미 (W E D D I N G V E R S I O N - F...</td>\n",
       "      <td>1</td>\n",
       "      <td>이건 그동안의 가사와는 다른\\n이건 리얼 스토리\\n이건 지금 벌어지고 있는 이야기\\...</td>\n",
       "    </tr>\n",
       "  </tbody>\n",
       "</table>\n",
       "</div>"
      ],
      "text/plain": [
       "               singer                                              title  \\\n",
       "0  러버소울 (Rubber Soul)                                    Beautiful Women   \n",
       "1               PD 블루                                             빠빠야 빠빠   \n",
       "2            Genius D                                                 마주   \n",
       "3                 윤선생                                   놀러갈까? (Feat. 오요)   \n",
       "4                 엠케이  최 문 기 와 이 원 미 (W E D D I N G V E R S I O N - F...   \n",
       "\n",
       "   likes                                             lyrics  \n",
       "0     91  women women women\\nwomen women women\\nwhy are ...  \n",
       "1      9  이젠 나와 함께할 널 놓치지 않아\\n이제는 용기 내겠어\\nhello baby in ...  \n",
       "2     16  나도 알아 원래부터 너는 예뻤어\\n머리부터 발 끝까지 다 완벽했어\\n분명 단점이라곤...  \n",
       "3      3  하 지겹다\\n아침에 일어나서 얼굴을 봐봐\\n미간에 주름 피려 억지로 활짝\\n매일 똑...  \n",
       "4      1  이건 그동안의 가사와는 다른\\n이건 리얼 스토리\\n이건 지금 벌어지고 있는 이야기\\...  "
      ]
     },
     "execution_count": 15,
     "metadata": {},
     "output_type": "execute_result"
    }
   ],
   "source": [
    "hiphop = pd.read_csv('data/hiphop.csv')\n",
    "hiphop.head()"
   ]
  },
  {
   "cell_type": "code",
   "execution_count": 16,
   "metadata": {},
   "outputs": [
    {
     "name": "stdout",
     "output_type": "stream",
     "text": [
      "Wall time: 394 ms\n"
     ]
    }
   ],
   "source": [
    "%%time\n",
    "USE_PREMADE_TEXT = False\n",
    "\n",
    "text_filepath = 'word2vec/all_lyrics_text.txt'\n",
    "if not USE_PREMADE_TEXT:\n",
    "    with open(text_filepath, 'w', encoding='utf-8') as f:\n",
    "        for lyrics in hiphop.lyrics.values:\n",
    "            if pd.isnull(lyrics): # null값 있다면 그 다음으로 넘어감\n",
    "                continue\n",
    "            f.write(lyrics + '\\n')\n",
    "else:\n",
    "    assert path.exists(text_filepath)"
   ]
  },
  {
   "cell_type": "markdown",
   "metadata": {},
   "source": [
    "1-2. Phrase modeling - bigram 모델 저장"
   ]
  },
  {
   "cell_type": "code",
   "execution_count": 17,
   "metadata": {},
   "outputs": [
    {
     "name": "stdout",
     "output_type": "stream",
     "text": [
      "Wall time: 18.9 s\n"
     ]
    }
   ],
   "source": [
    "%%time\n",
    "USE_PREMADE_BIGRAM_MODEL = False\n",
    "\n",
    "all_bigram_model_filepath = 'word2vec/all_bigram_model'\n",
    "all_sentences_normalized_filepath = 'word2vec/all_lyrics_text.txt'\n",
    "\n",
    "# gensim's LineSentence provies a convenient way to iterate over lines in a text file.\n",
    "# it outputs one line at a time, so you can save memory space. it works well with other gensim components.\n",
    "\n",
    "# we take normalized sentences as unigram sentences, which means we didn't apply any phrase modeling yet.\n",
    "all_unigram_sentences = LineSentence(all_sentences_normalized_filepath)\n",
    "\n",
    "if not USE_PREMADE_BIGRAM_MODEL:    \n",
    "    \n",
    "    all_bigram_model = Phrases(all_unigram_sentences) #phrase냐 아니냐를 판단해줌\n",
    "    all_bigram_model.save(all_bigram_model_filepath)\n",
    "    \n",
    "else:\n",
    "    all_bigram_model = Phrases.load(all_bigram_model_filepath)"
   ]
  },
  {
   "cell_type": "markdown",
   "metadata": {},
   "source": [
    "1-3. bigram txt파일 저장"
   ]
  },
  {
   "cell_type": "code",
   "execution_count": 19,
   "metadata": {},
   "outputs": [
    {
     "name": "stderr",
     "output_type": "stream",
     "text": [
      "C:\\Python3\\lib\\site-packages\\gensim\\models\\phrases.py:274: UserWarning: For a faster implementation, use the gensim.models.phrases.Phraser class\n",
      "  warnings.warn(\"For a faster implementation, use the gensim.models.phrases.Phraser class\")\n"
     ]
    },
    {
     "name": "stdout",
     "output_type": "stream",
     "text": [
      "Wall time: 34.1 s\n"
     ]
    }
   ],
   "source": [
    "%%time\n",
    "USE_PREMADE_BIGRAM_SENTENCES = False\n",
    "\n",
    "all_bigram_sentences_filepath = 'word2vec/all_sentences_for_word2vec.txt'\n",
    "\n",
    "if not USE_PREMADE_BIGRAM_SENTENCES:\n",
    "    \n",
    "    with open(all_bigram_sentences_filepath, 'w', encoding='utf-8') as f:\n",
    "        for unigram_sentence in all_unigram_sentences:\n",
    "            all_bigram_sentence = all_bigram_model[unigram_sentence]\n",
    "            f.write(' '.join(all_bigram_sentence) + '\\n')\n",
    "else:\n",
    "    assert path.exists(all_bigram_sentences_filepath)"
   ]
  },
  {
   "cell_type": "markdown",
   "metadata": {},
   "source": [
    "> - RNN 모델을 학습시킬 때, 말이 되는 어구가 나오도록 만들어주기 위하여 bigram 처리를 하였다."
   ]
  },
  {
   "cell_type": "markdown",
   "metadata": {},
   "source": [
    "## 4. Word2Vec\n",
    "- 컴퓨터가 자연어를 인식하려면 텍스트 그대로가 아닌, '숫자화'된 언어를 입력시켜야 한다\n",
    "- Word2Vec 는 텍스트 안의 각 단어를 벡터화시킨다\n",
    "- 또한 각 벡터에 의미를 담아 비슷한 의미의 단어가 비슷한 벡터로 표현되도록 만든다\n",
    "- bigram 처리한 텍스트로 Word2Vec 모델을 만들어, RNN에 함께 학습시켰다"
   ]
  },
  {
   "cell_type": "markdown",
   "metadata": {},
   "source": [
    "### 1) Word2Vec으로 자연어를 vector 처리"
   ]
  },
  {
   "cell_type": "markdown",
   "metadata": {},
   "source": [
    "1-1. bigram 처리한 Hiphop 장르 곡 전체를 word2vec"
   ]
  },
  {
   "cell_type": "code",
   "execution_count": 21,
   "metadata": {},
   "outputs": [
    {
     "name": "stdout",
     "output_type": "stream",
     "text": [
      "Wall time: 3min 41s\n"
     ]
    }
   ],
   "source": [
    "%%time\n",
    "USE_PREMADE_WORD2VEC = False\n",
    "\n",
    "all2vec_filepath = 'word2vec/all_word2vec_model'\n",
    "\n",
    "if not USE_PREMADE_WORD2VEC:\n",
    "    \n",
    "    lyrics_for_word2vec = LineSentence(all_bigram_sentences_filepath)\n",
    "\n",
    "    all2vec = Word2Vec(lyrics_for_word2vec, size=100, window=5, min_count=1, sg=1)\n",
    "    # sg=0 cbow 1=Skip-Gram Model\n",
    "    # 100차원으로 가져옴 / 보통 20~100 정도\n",
    "    # window = 5 앞5개, 뒤5개 // 가장 효과가 큰 게 window size임!!!!\n",
    "    # window size 작을수록 문법적인 의미가 너무 중요해짐, 클수록 주제 지향적으로 문맥적인 정보를 많이 담게 됨    \n",
    "    for _ in range(9):\n",
    "        all2vec.train(lyrics_for_word2vec, total_examples=789847, epochs=1)\n",
    "        # 문장 총 789847\n",
    "\n",
    "    all2vec.save(all2vec_filepath)\n",
    "else:\n",
    "    all2vec = Word2Vec.load(all2vec_filepath)\n",
    "all2vec.init_sims()"
   ]
  },
  {
   "cell_type": "markdown",
   "metadata": {},
   "source": [
    "1-2. 저장한 모델 불러오기"
   ]
  },
  {
   "cell_type": "code",
   "execution_count": 22,
   "metadata": {
    "collapsed": true
   },
   "outputs": [],
   "source": [
    "all2vec_filepath = 'word2vec/all_word2vec_model'\n",
    "all2vec = Word2Vec.load(all2vec_filepath)"
   ]
  },
  {
   "cell_type": "markdown",
   "metadata": {},
   "source": [
    "1-3. Word2Vec 내용 확인"
   ]
  },
  {
   "cell_type": "code",
   "execution_count": 99,
   "metadata": {
    "scrolled": true
   },
   "outputs": [
    {
     "data": {
      "text/plain": [
       "[('이별', 0.6620835661888123),\n",
       " ('고백', 0.6474951505661011),\n",
       " ('연애', 0.6245040893554688),\n",
       " ('되갚을', 0.6115529537200928),\n",
       " ('우정', 0.5924676656723022)]"
      ]
     },
     "execution_count": 99,
     "metadata": {},
     "output_type": "execute_result"
    }
   ],
   "source": [
    "all2vec.most_similar(positive=['사랑'], topn=5)"
   ]
  },
  {
   "cell_type": "code",
   "execution_count": 98,
   "metadata": {},
   "outputs": [
    {
     "data": {
      "text/plain": [
       "[('최선의', 0.7836522459983826),\n",
       " ('유일한', 0.7827488780021667),\n",
       " ('신이_주신', 0.778355598449707),\n",
       " ('단_하나의', 0.7782732248306274),\n",
       " ('LP와', 0.7718019485473633)]"
      ]
     },
     "execution_count": 98,
     "metadata": {},
     "output_type": "execute_result"
    }
   ],
   "source": [
    "all2vec.most_similar(positive=['첫번째'], topn=5)"
   ]
  },
  {
   "cell_type": "markdown",
   "metadata": {},
   "source": [
    "> - Word2Vec 에서는 한 단어의 앞뒤로 각각 5개, 총 10개의 단어를 보도록 했으며, 1번이라도 등장한 단어까지 모두 포함시켰다.\n",
    "- 모델 생성 시 Skip-gram 방식을 사용했는데, 현재 주어진 단어 하나를 가지고 주위에 등장하는 나머지 단어들의 등장 여부를 유추하는 방법이다.\n",
    "- 위 코드는 각 단어와 유사도가 높은 다른 단어를 순서대로 정렬한 것이다. '사랑'과 '이별', '고백', '연애' 등이 높은 수치로 가깝게 있음을 알 수 있다.\n",
    "- '첫번째' 라는 단어는 '최선의', '유일한', '신이 주신', '단 하나의' 등과 유사하게 나타난다.\n",
    "- 이와 같이 Word2Vec 기법은 단어를 벡터화하며 유사한 단어를 최대한 유사한 벡터값으로 처리해준다."
   ]
  },
  {
   "cell_type": "markdown",
   "metadata": {},
   "source": [
    "## 5. t-SNE\n",
    "- t-SNE란 차원축소 기법의 하나로 시각화를 위해 주로 사용된다\n",
    "- t-SNE는 고차원에서 가까운 포인트를 저차원에서도 계속 가깝게 두고, 먼 포인트는 계속 멀게 유지시킨다\n",
    "- 데이터간의 유사도를 통해 데이터의 패턴을 찾을 수 있다\n",
    "- 여기서는 9000여 곡 가사 단어 중 100회 초과 등장한 단어들을 대상으로, word2vec로 얻어진 각 단어의 numpy 행렬값을 매핑시킨 후 2차원 그래프로 시각화하였다."
   ]
  },
  {
   "cell_type": "markdown",
   "metadata": {},
   "source": [
    "5-1. word2vec 모델링을 통해 얻어진 단어는 총 278901개"
   ]
  },
  {
   "cell_type": "code",
   "execution_count": 102,
   "metadata": {},
   "outputs": [
    {
     "data": {
      "text/html": [
       "<div>\n",
       "<style>\n",
       "    .dataframe thead tr:only-child th {\n",
       "        text-align: right;\n",
       "    }\n",
       "\n",
       "    .dataframe thead th {\n",
       "        text-align: left;\n",
       "    }\n",
       "\n",
       "    .dataframe tbody tr th {\n",
       "        vertical-align: top;\n",
       "    }\n",
       "</style>\n",
       "<table border=\"1\" class=\"dataframe\">\n",
       "  <thead>\n",
       "    <tr style=\"text-align: right;\">\n",
       "      <th></th>\n",
       "      <th>0</th>\n",
       "    </tr>\n",
       "  </thead>\n",
       "  <tbody>\n",
       "    <tr>\n",
       "      <th>0</th>\n",
       "      <td>난</td>\n",
       "    </tr>\n",
       "    <tr>\n",
       "      <th>1</th>\n",
       "      <td>내</td>\n",
       "    </tr>\n",
       "    <tr>\n",
       "      <th>2</th>\n",
       "      <td>내가</td>\n",
       "    </tr>\n",
       "    <tr>\n",
       "      <th>3</th>\n",
       "      <td>다</td>\n",
       "    </tr>\n",
       "    <tr>\n",
       "      <th>4</th>\n",
       "      <td>you</td>\n",
       "    </tr>\n",
       "  </tbody>\n",
       "</table>\n",
       "</div>"
      ],
      "text/plain": [
       "     0\n",
       "0    난\n",
       "1    내\n",
       "2   내가\n",
       "3    다\n",
       "4  you"
      ]
     },
     "execution_count": 102,
     "metadata": {},
     "output_type": "execute_result"
    }
   ],
   "source": [
    "a = pd.DataFrame(all2vec.wv.index2word)\n",
    "a.head()"
   ]
  },
  {
   "cell_type": "code",
   "execution_count": 101,
   "metadata": {},
   "outputs": [
    {
     "data": {
      "text/plain": [
       "278901"
      ]
     },
     "execution_count": 101,
     "metadata": {},
     "output_type": "execute_result"
    }
   ],
   "source": [
    "len (a)"
   ]
  },
  {
   "cell_type": "markdown",
   "metadata": {},
   "source": [
    "5-2. 이 중 100회 이상 등장한 단어들만 리스트화"
   ]
  },
  {
   "cell_type": "code",
   "execution_count": 70,
   "metadata": {},
   "outputs": [
    {
     "name": "stdout",
     "output_type": "stream",
     "text": [
      "Wall time: 10.2 s\n"
     ]
    }
   ],
   "source": [
    "%%time\n",
    "words = []\n",
    "for i in (range(278901)):\n",
    "    cnt = all2vec.wv.vocab[a[0][i]] # 횟수 카운트\n",
    "    if cnt.count > 100:\n",
    "        words.append(a[0][i]) # 횟수 100회 초과하는 단어만 리스트화\n",
    "    i += 1"
   ]
  },
  {
   "cell_type": "markdown",
   "metadata": {},
   "source": [
    "가사 전체에서 100회 초과 등장하는 단어는 총 2876개"
   ]
  },
  {
   "cell_type": "code",
   "execution_count": 89,
   "metadata": {},
   "outputs": [
    {
     "data": {
      "text/plain": [
       "2876"
      ]
     },
     "execution_count": 89,
     "metadata": {},
     "output_type": "execute_result"
    }
   ],
   "source": [
    "len (words)"
   ]
  },
  {
   "cell_type": "markdown",
   "metadata": {},
   "source": [
    "5-3. 100회 이상 등장한 단어들에 대해 vector 값 가져옴"
   ]
  },
  {
   "cell_type": "code",
   "execution_count": 90,
   "metadata": {
    "collapsed": true
   },
   "outputs": [],
   "source": [
    "X = []\n",
    "for i in words:\n",
    "    X.append(all2vec.wv[i])"
   ]
  },
  {
   "cell_type": "code",
   "execution_count": 91,
   "metadata": {},
   "outputs": [
    {
     "data": {
      "text/plain": [
       "list"
      ]
     },
     "execution_count": 91,
     "metadata": {},
     "output_type": "execute_result"
    }
   ],
   "source": [
    "type (X)"
   ]
  },
  {
   "cell_type": "markdown",
   "metadata": {},
   "source": [
    "5-4. 단어와 각 vector 값으로 데이터 프레임 생성"
   ]
  },
  {
   "cell_type": "code",
   "execution_count": 92,
   "metadata": {
    "collapsed": true
   },
   "outputs": [],
   "source": [
    "X2 = pd.DataFrame(X, index = words)"
   ]
  },
  {
   "cell_type": "code",
   "execution_count": 93,
   "metadata": {},
   "outputs": [
    {
     "data": {
      "text/html": [
       "<div>\n",
       "<style>\n",
       "    .dataframe thead tr:only-child th {\n",
       "        text-align: right;\n",
       "    }\n",
       "\n",
       "    .dataframe thead th {\n",
       "        text-align: left;\n",
       "    }\n",
       "\n",
       "    .dataframe tbody tr th {\n",
       "        vertical-align: top;\n",
       "    }\n",
       "</style>\n",
       "<table border=\"1\" class=\"dataframe\">\n",
       "  <thead>\n",
       "    <tr style=\"text-align: right;\">\n",
       "      <th></th>\n",
       "      <th>0</th>\n",
       "      <th>1</th>\n",
       "      <th>2</th>\n",
       "      <th>3</th>\n",
       "      <th>4</th>\n",
       "      <th>5</th>\n",
       "      <th>6</th>\n",
       "      <th>7</th>\n",
       "      <th>8</th>\n",
       "      <th>9</th>\n",
       "      <th>...</th>\n",
       "      <th>90</th>\n",
       "      <th>91</th>\n",
       "      <th>92</th>\n",
       "      <th>93</th>\n",
       "      <th>94</th>\n",
       "      <th>95</th>\n",
       "      <th>96</th>\n",
       "      <th>97</th>\n",
       "      <th>98</th>\n",
       "      <th>99</th>\n",
       "    </tr>\n",
       "  </thead>\n",
       "  <tbody>\n",
       "    <tr>\n",
       "      <th>난</th>\n",
       "      <td>0.458440</td>\n",
       "      <td>0.557801</td>\n",
       "      <td>-0.333001</td>\n",
       "      <td>1.032216</td>\n",
       "      <td>0.058768</td>\n",
       "      <td>0.170677</td>\n",
       "      <td>0.228761</td>\n",
       "      <td>-0.139880</td>\n",
       "      <td>0.299976</td>\n",
       "      <td>0.576202</td>\n",
       "      <td>...</td>\n",
       "      <td>-1.126730</td>\n",
       "      <td>-0.229988</td>\n",
       "      <td>-0.278105</td>\n",
       "      <td>-0.545295</td>\n",
       "      <td>0.170282</td>\n",
       "      <td>0.829141</td>\n",
       "      <td>-0.033361</td>\n",
       "      <td>0.304362</td>\n",
       "      <td>0.963970</td>\n",
       "      <td>0.510931</td>\n",
       "    </tr>\n",
       "    <tr>\n",
       "      <th>내</th>\n",
       "      <td>0.110845</td>\n",
       "      <td>0.350505</td>\n",
       "      <td>-0.221804</td>\n",
       "      <td>0.237350</td>\n",
       "      <td>0.064332</td>\n",
       "      <td>0.006314</td>\n",
       "      <td>0.616054</td>\n",
       "      <td>0.294108</td>\n",
       "      <td>0.444770</td>\n",
       "      <td>-0.558680</td>\n",
       "      <td>...</td>\n",
       "      <td>-0.536083</td>\n",
       "      <td>0.086402</td>\n",
       "      <td>-0.160988</td>\n",
       "      <td>0.277951</td>\n",
       "      <td>0.167073</td>\n",
       "      <td>0.487603</td>\n",
       "      <td>-0.166118</td>\n",
       "      <td>0.467342</td>\n",
       "      <td>-0.108386</td>\n",
       "      <td>-0.108666</td>\n",
       "    </tr>\n",
       "    <tr>\n",
       "      <th>내가</th>\n",
       "      <td>-1.103762</td>\n",
       "      <td>-0.161733</td>\n",
       "      <td>-0.241357</td>\n",
       "      <td>0.283349</td>\n",
       "      <td>-0.334328</td>\n",
       "      <td>0.089152</td>\n",
       "      <td>0.549801</td>\n",
       "      <td>0.834607</td>\n",
       "      <td>0.116966</td>\n",
       "      <td>0.049266</td>\n",
       "      <td>...</td>\n",
       "      <td>-0.703710</td>\n",
       "      <td>0.412801</td>\n",
       "      <td>0.607993</td>\n",
       "      <td>-0.473825</td>\n",
       "      <td>-0.536843</td>\n",
       "      <td>-0.316118</td>\n",
       "      <td>0.487226</td>\n",
       "      <td>-0.925775</td>\n",
       "      <td>-0.244928</td>\n",
       "      <td>1.271176</td>\n",
       "    </tr>\n",
       "    <tr>\n",
       "      <th>다</th>\n",
       "      <td>-1.013392</td>\n",
       "      <td>-0.090737</td>\n",
       "      <td>-0.933017</td>\n",
       "      <td>1.093223</td>\n",
       "      <td>-0.205201</td>\n",
       "      <td>0.016055</td>\n",
       "      <td>1.284712</td>\n",
       "      <td>-1.158620</td>\n",
       "      <td>0.457222</td>\n",
       "      <td>-0.611903</td>\n",
       "      <td>...</td>\n",
       "      <td>-0.848001</td>\n",
       "      <td>-0.842088</td>\n",
       "      <td>0.441641</td>\n",
       "      <td>-0.791193</td>\n",
       "      <td>0.284579</td>\n",
       "      <td>-1.309415</td>\n",
       "      <td>0.975858</td>\n",
       "      <td>-0.378933</td>\n",
       "      <td>-0.519747</td>\n",
       "      <td>0.948633</td>\n",
       "    </tr>\n",
       "    <tr>\n",
       "      <th>you</th>\n",
       "      <td>-1.077578</td>\n",
       "      <td>0.758905</td>\n",
       "      <td>-1.519394</td>\n",
       "      <td>-0.414121</td>\n",
       "      <td>-0.136386</td>\n",
       "      <td>0.548430</td>\n",
       "      <td>0.356182</td>\n",
       "      <td>-0.289389</td>\n",
       "      <td>0.126165</td>\n",
       "      <td>0.971461</td>\n",
       "      <td>...</td>\n",
       "      <td>-1.378384</td>\n",
       "      <td>-1.193813</td>\n",
       "      <td>-0.288117</td>\n",
       "      <td>0.135336</td>\n",
       "      <td>0.321420</td>\n",
       "      <td>-0.082028</td>\n",
       "      <td>-0.362976</td>\n",
       "      <td>-0.410056</td>\n",
       "      <td>0.228079</td>\n",
       "      <td>0.809649</td>\n",
       "    </tr>\n",
       "  </tbody>\n",
       "</table>\n",
       "<p>5 rows × 100 columns</p>\n",
       "</div>"
      ],
      "text/plain": [
       "           0         1         2         3         4         5         6   \\\n",
       "난    0.458440  0.557801 -0.333001  1.032216  0.058768  0.170677  0.228761   \n",
       "내    0.110845  0.350505 -0.221804  0.237350  0.064332  0.006314  0.616054   \n",
       "내가  -1.103762 -0.161733 -0.241357  0.283349 -0.334328  0.089152  0.549801   \n",
       "다   -1.013392 -0.090737 -0.933017  1.093223 -0.205201  0.016055  1.284712   \n",
       "you -1.077578  0.758905 -1.519394 -0.414121 -0.136386  0.548430  0.356182   \n",
       "\n",
       "           7         8         9     ...           90        91        92  \\\n",
       "난   -0.139880  0.299976  0.576202    ...    -1.126730 -0.229988 -0.278105   \n",
       "내    0.294108  0.444770 -0.558680    ...    -0.536083  0.086402 -0.160988   \n",
       "내가   0.834607  0.116966  0.049266    ...    -0.703710  0.412801  0.607993   \n",
       "다   -1.158620  0.457222 -0.611903    ...    -0.848001 -0.842088  0.441641   \n",
       "you -0.289389  0.126165  0.971461    ...    -1.378384 -1.193813 -0.288117   \n",
       "\n",
       "           93        94        95        96        97        98        99  \n",
       "난   -0.545295  0.170282  0.829141 -0.033361  0.304362  0.963970  0.510931  \n",
       "내    0.277951  0.167073  0.487603 -0.166118  0.467342 -0.108386 -0.108666  \n",
       "내가  -0.473825 -0.536843 -0.316118  0.487226 -0.925775 -0.244928  1.271176  \n",
       "다   -0.791193  0.284579 -1.309415  0.975858 -0.378933 -0.519747  0.948633  \n",
       "you  0.135336  0.321420 -0.082028 -0.362976 -0.410056  0.228079  0.809649  \n",
       "\n",
       "[5 rows x 100 columns]"
      ]
     },
     "execution_count": 93,
     "metadata": {},
     "output_type": "execute_result"
    }
   ],
   "source": [
    "X2.head()"
   ]
  },
  {
   "cell_type": "markdown",
   "metadata": {},
   "source": [
    "5-4. t-SNE 모델링"
   ]
  },
  {
   "cell_type": "code",
   "execution_count": 103,
   "metadata": {},
   "outputs": [
    {
     "name": "stdout",
     "output_type": "stream",
     "text": [
      "Wall time: 1min 11s\n"
     ]
    }
   ],
   "source": [
    "%%time\n",
    "USE_PREMADE_TSNE = False\n",
    "\n",
    "tsne_filepath = 'Example/tsne.pkl'\n",
    "\n",
    "if not USE_PREMADE_TSNE:\n",
    "    \n",
    "    tsne = TSNE(random_state=0)\n",
    "    tsne_points = tsne.fit_transform(X2)\n",
    "    with open(tsne_filepath, 'wb') as f:\n",
    "        pickle.dump(tsne_points, f)\n",
    "else:\n",
    "    with open(tsne_filepath, 'rb') as f:\n",
    "        tsne_points = pickle.load(f)\n",
    "\n",
    "tsne_df = pd.DataFrame(tsne_points, index=X2.index, columns=['x_coord', 'y_coord'])\n",
    "tsne_df['word'] = tsne_df.index"
   ]
  },
  {
   "cell_type": "markdown",
   "metadata": {},
   "source": [
    "5-5. t-SNE 모델 시각화"
   ]
  },
  {
   "cell_type": "code",
   "execution_count": 104,
   "metadata": {},
   "outputs": [
    {
     "data": {
      "text/html": [
       "\n",
       "\n",
       "    <div class=\"bk-root\">\n",
       "        <div class=\"bk-plotdiv\" id=\"20a6bd10-5ebe-441a-9e80-e19953162484\"></div>\n",
       "    </div>\n",
       "<script type=\"text/javascript\">\n",
       "  \n",
       "  (function(global) {\n",
       "    function now() {\n",
       "      return new Date();\n",
       "    }\n",
       "  \n",
       "    var force = false;\n",
       "  \n",
       "    if (typeof (window._bokeh_onload_callbacks) === \"undefined\" || force === true) {\n",
       "      window._bokeh_onload_callbacks = [];\n",
       "      window._bokeh_is_loading = undefined;\n",
       "    }\n",
       "  \n",
       "  \n",
       "    \n",
       "    if (typeof (window._bokeh_timeout) === \"undefined\" || force === true) {\n",
       "      window._bokeh_timeout = Date.now() + 0;\n",
       "      window._bokeh_failed_load = false;\n",
       "    }\n",
       "  \n",
       "    var NB_LOAD_WARNING = {'data': {'text/html':\n",
       "       \"<div style='background-color: #fdd'>\\n\"+\n",
       "       \"<p>\\n\"+\n",
       "       \"BokehJS does not appear to have successfully loaded. If loading BokehJS from CDN, this \\n\"+\n",
       "       \"may be due to a slow or bad network connection. Possible fixes:\\n\"+\n",
       "       \"</p>\\n\"+\n",
       "       \"<ul>\\n\"+\n",
       "       \"<li>re-rerun `output_notebook()` to attempt to load from CDN again, or</li>\\n\"+\n",
       "       \"<li>use INLINE resources instead, as so:</li>\\n\"+\n",
       "       \"</ul>\\n\"+\n",
       "       \"<code>\\n\"+\n",
       "       \"from bokeh.resources import INLINE\\n\"+\n",
       "       \"output_notebook(resources=INLINE)\\n\"+\n",
       "       \"</code>\\n\"+\n",
       "       \"</div>\"}};\n",
       "  \n",
       "    function display_loaded() {\n",
       "      if (window.Bokeh !== undefined) {\n",
       "        var el = document.getElementById(\"20a6bd10-5ebe-441a-9e80-e19953162484\");\n",
       "        el.textContent = \"BokehJS \" + Bokeh.version + \" successfully loaded.\";\n",
       "      } else if (Date.now() < window._bokeh_timeout) {\n",
       "        setTimeout(display_loaded, 100)\n",
       "      }\n",
       "    }\n",
       "  \n",
       "    function run_callbacks() {\n",
       "      try {\n",
       "        window._bokeh_onload_callbacks.forEach(function(callback) { callback() });\n",
       "      }\n",
       "      finally {\n",
       "        delete window._bokeh_onload_callbacks\n",
       "      }\n",
       "      console.info(\"Bokeh: all callbacks have finished\");\n",
       "    }\n",
       "  \n",
       "    function load_libs(js_urls, callback) {\n",
       "      window._bokeh_onload_callbacks.push(callback);\n",
       "      if (window._bokeh_is_loading > 0) {\n",
       "        console.log(\"Bokeh: BokehJS is being loaded, scheduling callback at\", now());\n",
       "        return null;\n",
       "      }\n",
       "      if (js_urls == null || js_urls.length === 0) {\n",
       "        run_callbacks();\n",
       "        return null;\n",
       "      }\n",
       "      console.log(\"Bokeh: BokehJS not loaded, scheduling load and callback at\", now());\n",
       "      window._bokeh_is_loading = js_urls.length;\n",
       "      for (var i = 0; i < js_urls.length; i++) {\n",
       "        var url = js_urls[i];\n",
       "        var s = document.createElement('script');\n",
       "        s.src = url;\n",
       "        s.async = false;\n",
       "        s.onreadystatechange = s.onload = function() {\n",
       "          window._bokeh_is_loading--;\n",
       "          if (window._bokeh_is_loading === 0) {\n",
       "            console.log(\"Bokeh: all BokehJS libraries loaded\");\n",
       "            run_callbacks()\n",
       "          }\n",
       "        };\n",
       "        s.onerror = function() {\n",
       "          console.warn(\"failed to load library \" + url);\n",
       "        };\n",
       "        console.log(\"Bokeh: injecting script tag for BokehJS library: \", url);\n",
       "        document.getElementsByTagName(\"head\")[0].appendChild(s);\n",
       "      }\n",
       "    };var element = document.getElementById(\"20a6bd10-5ebe-441a-9e80-e19953162484\");\n",
       "    if (element == null) {\n",
       "      console.log(\"Bokeh: ERROR: autoload.js configured with elementid '20a6bd10-5ebe-441a-9e80-e19953162484' but no matching script tag was found. \")\n",
       "      return false;\n",
       "    }\n",
       "  \n",
       "    var js_urls = [];\n",
       "  \n",
       "    var inline_js = [\n",
       "      function(Bokeh) {\n",
       "        (function() {\n",
       "          var fn = function() {\n",
       "            var docs_json = {\"1946e8ff-ecd6-4087-aca7-51fb9a5994b2\":{\"roots\":{\"references\":[{\"attributes\":{},\"id\":\"b39ff9a1-bfa1-4166-910a-bb23d01c8cf2\",\"type\":\"BasicTickFormatter\"},{\"attributes\":{\"data_source\":{\"id\":\"14e45f2c-7469-4ecc-ba67-e73f61fefa71\",\"type\":\"ColumnDataSource\"},\"glyph\":{\"id\":\"6a4b8ae3-6ae7-422b-8aa1-1ac01e207240\",\"type\":\"Circle\"},\"hover_glyph\":{\"id\":\"2bbca820-1fff-428c-b9ff-2d18e6c46598\",\"type\":\"Circle\"},\"muted_glyph\":null,\"nonselection_glyph\":{\"id\":\"9db2410d-dd35-484a-833f-3d4a7c9ea26b\",\"type\":\"Circle\"},\"selection_glyph\":null},\"id\":\"0e5a7e97-5d6d-4d2a-adde-a17153861848\",\"type\":\"GlyphRenderer\"},{\"attributes\":{\"plot\":{\"id\":\"04dd008c-0566-48be-811a-7442a6131c09\",\"subtype\":\"Figure\",\"type\":\"Plot\"}},\"id\":\"57154b20-089a-4466-92bf-7469fcc5b129\",\"type\":\"PanTool\"},{\"attributes\":{\"plot\":{\"id\":\"04dd008c-0566-48be-811a-7442a6131c09\",\"subtype\":\"Figure\",\"type\":\"Plot\"}},\"id\":\"ccfb7997-95b5-410b-815c-5c82f90ea0ee\",\"type\":\"ResetTool\"},{\"attributes\":{},\"id\":\"a46a2ce8-48cd-449d-8358-62972129e31d\",\"type\":\"BasicTicker\"},{\"attributes\":{},\"id\":\"56092a0d-9873-4c65-b385-524211bf677c\",\"type\":\"BasicTickFormatter\"},{\"attributes\":{\"callback\":null},\"id\":\"4769f0f8-cb69-4531-b9ad-23fb00b6d5de\",\"type\":\"DataRange1d\"},{\"attributes\":{},\"id\":\"4b75057d-7891-4de7-b0c4-d55e85929051\",\"type\":\"ToolEvents\"},{\"attributes\":{\"active_drag\":\"auto\",\"active_inspect\":\"auto\",\"active_scroll\":{\"id\":\"b1d24500-6264-413c-b24f-1c997421f03a\",\"type\":\"WheelZoomTool\"},\"active_tap\":\"auto\",\"tools\":[{\"id\":\"57154b20-089a-4466-92bf-7469fcc5b129\",\"type\":\"PanTool\"},{\"id\":\"b1d24500-6264-413c-b24f-1c997421f03a\",\"type\":\"WheelZoomTool\"},{\"id\":\"471730b7-6222-4cf7-9443-88630ab937cd\",\"type\":\"BoxZoomTool\"},{\"id\":\"ff3dc4e3-75f7-4e11-91ce-d9e8ece0fd7d\",\"type\":\"SaveTool\"},{\"id\":\"ccfb7997-95b5-410b-815c-5c82f90ea0ee\",\"type\":\"ResetTool\"},{\"id\":\"040408dc-8a04-4ec6-90ae-5bbc1685173f\",\"type\":\"HelpTool\"},{\"id\":\"c428b1c0-8dd6-40d0-bc20-6851c70de809\",\"type\":\"HoverTool\"}]},\"id\":\"b9e10176-c9fc-495b-810e-b569be95a6f7\",\"type\":\"Toolbar\"},{\"attributes\":{\"fill_alpha\":{\"value\":0.1},\"fill_color\":{\"value\":\"#1f77b4\"},\"line_alpha\":{\"value\":0.1},\"line_color\":{\"value\":\"#1f77b4\"},\"size\":{\"units\":\"screen\",\"value\":10},\"x\":{\"field\":\"x_coord\"},\"y\":{\"field\":\"y_coord\"}},\"id\":\"9db2410d-dd35-484a-833f-3d4a7c9ea26b\",\"type\":\"Circle\"},{\"attributes\":{\"callback\":null,\"plot\":{\"id\":\"04dd008c-0566-48be-811a-7442a6131c09\",\"subtype\":\"Figure\",\"type\":\"Plot\"},\"tooltips\":\"@word\"},\"id\":\"c428b1c0-8dd6-40d0-bc20-6851c70de809\",\"type\":\"HoverTool\"},{\"attributes\":{},\"id\":\"8d4ee821-0179-454d-a2f7-ab060955a100\",\"type\":\"LinearScale\"},{\"attributes\":{\"overlay\":{\"id\":\"9e1e224a-5791-457e-8802-99de6e5f3c65\",\"type\":\"BoxAnnotation\"},\"plot\":{\"id\":\"04dd008c-0566-48be-811a-7442a6131c09\",\"subtype\":\"Figure\",\"type\":\"Plot\"}},\"id\":\"471730b7-6222-4cf7-9443-88630ab937cd\",\"type\":\"BoxZoomTool\"},{\"attributes\":{\"callback\":null},\"id\":\"418a9ef5-5787-49a9-af6d-9ae3a688bb0b\",\"type\":\"DataRange1d\"},{\"attributes\":{\"dimension\":1,\"grid_line_color\":{\"value\":null},\"plot\":{\"id\":\"04dd008c-0566-48be-811a-7442a6131c09\",\"subtype\":\"Figure\",\"type\":\"Plot\"},\"ticker\":{\"id\":\"a46a2ce8-48cd-449d-8358-62972129e31d\",\"type\":\"BasicTicker\"}},\"id\":\"23d74d05-e24f-4ce7-96c9-d309c3a8aa2b\",\"type\":\"Grid\"},{\"attributes\":{},\"id\":\"7ceda0bb-0aab-49ff-a836-2706501686e6\",\"type\":\"LinearScale\"},{\"attributes\":{\"below\":[{\"id\":\"913de1bf-f201-4954-8144-ddfb114efacf\",\"type\":\"LinearAxis\"}],\"left\":[{\"id\":\"9abb7df3-f51c-452b-ac34-5a0386ff1cf1\",\"type\":\"LinearAxis\"}],\"outline_line_color\":{\"value\":null},\"plot_height\":800,\"plot_width\":800,\"renderers\":[{\"id\":\"913de1bf-f201-4954-8144-ddfb114efacf\",\"type\":\"LinearAxis\"},{\"id\":\"9ec60fa4-bd0b-4b75-b7e1-fad181a5d0e1\",\"type\":\"Grid\"},{\"id\":\"9abb7df3-f51c-452b-ac34-5a0386ff1cf1\",\"type\":\"LinearAxis\"},{\"id\":\"23d74d05-e24f-4ce7-96c9-d309c3a8aa2b\",\"type\":\"Grid\"},{\"id\":\"9e1e224a-5791-457e-8802-99de6e5f3c65\",\"type\":\"BoxAnnotation\"},{\"id\":\"0e5a7e97-5d6d-4d2a-adde-a17153861848\",\"type\":\"GlyphRenderer\"}],\"title\":{\"id\":\"d5bac140-3e47-4013-bbc0-cba231188fe0\",\"type\":\"Title\"},\"tool_events\":{\"id\":\"4b75057d-7891-4de7-b0c4-d55e85929051\",\"type\":\"ToolEvents\"},\"toolbar\":{\"id\":\"b9e10176-c9fc-495b-810e-b569be95a6f7\",\"type\":\"Toolbar\"},\"x_range\":{\"id\":\"4769f0f8-cb69-4531-b9ad-23fb00b6d5de\",\"type\":\"DataRange1d\"},\"x_scale\":{\"id\":\"8d4ee821-0179-454d-a2f7-ab060955a100\",\"type\":\"LinearScale\"},\"y_range\":{\"id\":\"418a9ef5-5787-49a9-af6d-9ae3a688bb0b\",\"type\":\"DataRange1d\"},\"y_scale\":{\"id\":\"7ceda0bb-0aab-49ff-a836-2706501686e6\",\"type\":\"LinearScale\"}},\"id\":\"04dd008c-0566-48be-811a-7442a6131c09\",\"subtype\":\"Figure\",\"type\":\"Plot\"},{\"attributes\":{\"plot\":{\"id\":\"04dd008c-0566-48be-811a-7442a6131c09\",\"subtype\":\"Figure\",\"type\":\"Plot\"}},\"id\":\"040408dc-8a04-4ec6-90ae-5bbc1685173f\",\"type\":\"HelpTool\"},{\"attributes\":{\"grid_line_color\":{\"value\":null},\"plot\":{\"id\":\"04dd008c-0566-48be-811a-7442a6131c09\",\"subtype\":\"Figure\",\"type\":\"Plot\"},\"ticker\":{\"id\":\"16354511-40f4-495f-a2c7-a672f38fd2c4\",\"type\":\"BasicTicker\"}},\"id\":\"9ec60fa4-bd0b-4b75-b7e1-fad181a5d0e1\",\"type\":\"Grid\"},{\"attributes\":{\"callback\":null,\"column_names\":[\"x_coord\",\"y_coord\",\"word\",\"index\"],\"data\":{\"index\":[\"\\ub09c\",\"\\ub0b4\",\"\\ub0b4\\uac00\",\"\\ub2e4\",\"you\",\"\\ub10c\",\"\\ub0a0\",\"\\uadf8\",\"I\",\"\\ub610\",\"\\ub098\\ub294\",\"\\ub098\",\"\\ub354\",\"\\uc774\",\"\\ub110\",\"\\ub108\\uc758\",\"\\ub098\\ub97c\",\"me\",\"\\ud574\",\"and\",\"\\ub098\\uc758\",\"it\",\"\\ub2c8\",\"\\uc5c6\\uc5b4\",\"the\",\"\\ub2c8\\uac00\",\"\\uc774\\uc81c\",\"\\ub2e4\\uc2dc\",\"\\uc9c0\\uae08\",\"\\ub108\",\"\\ub0b4\\uac8c\",\"\\uadf8\\ub0e5\",\"\\uadf8\\ub798\",\"baby\",\"\\uc6b0\\ub9b0\",\"\\uc6b0\\ub9ac\",\"\\uc65c\",\"my\",\"\\uc5c6\\ub294\",\"\\ub108\\ub97c\",\"\\ub124\",\"\\uc788\\uc5b4\",\"\\uc774\\uc820\",\"to\",\"like\",\"\\uac74\",\"\\uc880\",\"\\ub108\\ubb34\",\"up\",\"\\uc548\",\"yeah\",\"a\",\"Im\",\"\\ub3fc\",\"\\ubaa8\\ub450\",\"love\",\"\\ub108\\ub294\",\"\\uac78\",\"\\ud55c\",\"\\uc798\",\"\\ubd10\",\"girl\",\"that\",\"\\ub124\\uac00\",\"\\ubabb\",\"\\uacc4\\uc18d\",\"\\uac19\\uc740\",\"\\uc788\\ub294\",\"\\uc774\\uac74\",\"on\",\"\\ub108\\uc640\",\"\\uc54a\\uc544\",\"\\ub9d0\",\"\\uc544\\uc9c1\",\"oh\",\"\\ub9e4\\uc77c\",\"\\ub098\\ub3c4\",\"\\ub54c\",\"\\ud56d\\uc0c1\",\"\\uc774\\ub807\\uac8c\",\"\\uc774\\ub7f0\",\"\\uac8c\",\"go\",\"\\uac19\\uc774\",\"\\uadfc\\ub370\",\"\\ub2e4\\ub978\",\"\\uc774\\ubbf8\",\"\\ud558\\ub294\",\"\\uadf8\\uc800\",\"\\uc624\\ub298\\ub3c4\",\"\\ud558\\uc9c0\\ub9cc\",\"so\",\"\\uac83\",\"\\ubb50\",\"is\",\"be\",\"know\",\"all\",\"do\",\"we\",\"\\uadf8\\ub807\\uac8c\",\"but\",\"\\uc5c6\\uc774\",\"\\uadf8\\ub7f0\",\"i\",\"\\ub9c8\\uce58\",\"\\ubab0\\ub77c\",\"\\ub108\\uac00\",\"\\uac70\\uc57c\",\"\\uc815\\ub9d0\",\"\\uc808\\ub300\",\"\\uadf8\\ub9ac\\uace0\",\"in\",\"\\uc624\\ub298\",\"\\uadf8\\uac8c\",\"\\uc774\\uc81c\\ub294\",\"what\",\"\\uc2f6\\uc5b4\",\"\\ud558\\ub098\",\"your\",\"\\uac00\",\"\\ubabb\\ud574\",\"\\uc544\\ub0d0\",\"You\",\"\\uc5b8\\uc81c\\ub098\",\"uh\",\"I_dont\",\"\\ubc14\\ub85c\",\"\\ub204\\uac00\",\"Baby\",\"get\",\"\\ub9ce\\uc774\",\"just\",\"\\ub298\",\"\\uc544\\uc9c1\\ub3c4\",\"u\",\"now\",\"\\ubc24\",\"\\ud568\\uaed8\",\"man\",\"\\ub108\\ub3c4\",\"with\",\"for\",\"no\",\"\\ub108\\uc5d0\\uac8c\",\"\\uc9c4\\uc9dc\",\"Oh\",\"\\uc790\\uafb8\",\"\\uac19\\uc544\",\"\\uc804\\ubd80\",\"in_the\",\"Yeah\",\"shit\",\"\\uc2dc\\uac04\",\"\\uc704\\ud574\",\"\\uc88b\\uc544\",\"\\uc544\\ub2cc\",\"\\uc774\\uac8c\",\"\\ub9ce\\uc740\",\"\\ubaa8\\ub4e0\",\"\\uc0ac\\ub791\",\"\\uac70\",\"\\ub3c8\",\"say\",\"\\uc5ec\\uae30\",\"good\",\"of\",\"\\ud574\\ub3c4\",\"time\",\"\\ud63c\\uc790\",\"\\ub098\\uc640\",\"\\uc5c6\\uc9c0\",\"yo\",\"\\uc800\",\"to_the\",\"\\uc2dc\\uac04\\uc774\",\"\\ub9d0\\ud574\",\"\\uc81c\\ubc1c\",\"\\uadf8\\ub798\\ub3c4\",\"\\uc54c\\uc544\",\"\\ud558\\uace0\",\"\\ub0b4\\uac90\",\"\\ub9c8\",\"\\uc6d0\\ud574\",\"\\uc5ec\\uc804\\ud788\",\"\\uadf8\\ub798\\uc11c\",\"\\uc18d\\uc5d0\",\"this\",\"\\ub9d0\\uace0\",\"\\uc624\\ub298\\uc740\",\"\\uadf8\\ub300\",\"life\",\"I_got\",\"\\uc88b\\uc740\",\"back\",\"\\uaf2d\",\"\\uc0ac\\ub78c\",\"ma\",\"\\ubcf4\\uc5ec\",\"\\ud560\",\"\\uc704\\ub85c\",\"\\uad1c\\ucc2e\\uc544\",\"you_know\",\"its\",\"\\ubcf4\\uace0\",\"I_wanna\",\"got\",\"\\ucc38\",\"\\uc544\\ub2c8\",\"\\ubb58\",\"\\uc5b4\\ub5bb\\uac8c\",\"\\ub124\\uac8c\",\"do_it\",\"down\",\"im\",\"We\",\"\\ud560_\\uc218\",\"\\ub9c8\\uc74c\",\"money\",\"\\uc791\\uc740\",\"\\uac00\\ub054\",\"fuck\",\"\\ubc8c\\uc368\",\"\\uc6b0\\ub9ac\\uac00\",\"day\",\"\\uc2dc\\uac04\\uc740\",\"\\uadf8\\uac74\",\"\\uc5b4\\ub5a4\",\"\\ub531\",\"ya\",\"\\ub9d0\\uc744\",\"\\ubfd0\",\"So\",\"\\uadf8\\ub54c\",\"way\",\"\\uc77c\",\"\\uacb0\\uad6d\",\"Its\",\"\\uae30\\ubd84\",\"\\uafc8\\uc744\",\"\\uc544\\ub9c8\",\"\\ub4e4\\uc5b4\",\"\\uc2eb\\uc5b4\",\"\\ub2e4\\ub4e4\",\"feel\",\"\\uc0ac\\uc2e4\",\"\\uc55e\\uc5d0\",\"\\uae38\\uc744\",\"\\uc0ac\\ub791\\uc744\",\"\\uc880_\\ub354\",\"\\uc788\\uc9c0\",\"like_a\",\"\\uc0dd\\uac01\",\"on_my\",\"\\uac78\\uc5b4\",\"\\uc870\\uae08\",\"My\",\"\\uadf8\\ub300\\ub85c\",\"Girl\",\"\\ub208\",\"out\",\"one\",\"\\uc27d\\uac8c\",\"night\",\"\\ud55c\\ubc88\",\"\\ud558\\uc9c0\",\"\\uc544\",\"\\uc548\\uc5d0\",\"love_you\",\"\\uc544\\ubb34\\ub3c4\",\"\\uac00\\ub294\",\"\\ub2ec\\ub77c\",\"\\ub9d0\\uc774\",\"\\ub530\\ub77c\",\"\\uc624\",\"\\uc190\",\"\\uc5b4\\ucc28\\ud53c\",\"\\uc18d\",\"\\ub4ef\",\"right\",\"\\ud588\\ub358\",\"\\uc5ec\\uae34\",\"\\uac83_\\uac19\\uc544\",\"\\uc704\\uc5d0\",\"\\ub9c8\\uc9c0\\ub9c9\",\"\\uc918\",\"\\ubcf4\\uba74\",\"\\uac83\\ub3c4\",\"oh_oh\",\"\\ub9cc\\ub4e4\\uc5b4\",\"\\ucc98\\ub7fc\",\"\\ub178\\ub798\",\"\\ubaa8\\ub450\\uac00\",\"\\uc548\\ub3fc\",\"\\uc640\",\"on_the\",\"But\",\"\\uc0b4\\uc544\",\"\\uafc8\",\"\\ube68\\ub9ac\",\"\\ub550\",\"\\ub450\",\"\\ub208\\uc744\",\"\\ubbf8\\uc548\\ud574\",\"\\uc810\\uc810\",\"\\ub2e4\\uc74c\",\"high\",\"\\ub0b4_\\ub9d8\",\"I_just\",\"\\uc544\\ubb34\\uac83\\ub3c4\",\"\\uadf8\\ub7fc\",\"\\uc11c\\ub85c\",\"wanna\",\"Love\",\"\\uc0c8\\ub85c\\uc6b4\",\"No\",\"\\uc790\",\"\\uc544\\uc8fc\",\"\\ub9d0\\uc57c\",\"boy\",\"\\ub108\\ubb34\\ub098\",\"\\ub9ce\\uc544\",\"\\uc6b0\\ub9ac\\ub294\",\"\\ub410\\uc5b4\",\"\\ub7a9\",\"\\ub098\\uc5d0\\uac8c\",\"\\ub098\\ub9cc\",\"\\uba3c\\uc800\",\"\\ub54c\\ubb38\\uc5d0\",\"\\uc0ac\\ub791\\uc740\",\"\\uc0dd\\uac01\\ud574\",\"hey\",\"\\ub108\\ub9cc\",\"\\uc5ec\\uc790\",\"I_want\",\"\\uc544\\ub2d8\",\"U\",\"let_me\",\"\\uc0ac\\ub791\\ud574\",\"\\ub9d8\",\"\\uc21c\\uac04\",\"\\uadf8\\ub9cc\",\"\\ud5c8\\ub098\",\"make\",\"\\uc5b4\\uc11c\",\"\\uc911\",\"\\ub9d0\\uc740\",\"\\uc2dc\\uac04\\uc744\",\"\\uc5b4\\ub290\\uc0c8\",\"\\ub108\\uc640_\\ub098\",\"\\uc804\\uc5d0\",\"\\uc190\\uc744\",\"\\ubaa8\\ub450_\\ub2e4\",\"\\uc218\",\"\\uc54a\\ub294\",\"\\ub9c9\",\"\\uc218\\ub9ce\\uc740\",\"\\uc544\\ub2c8\\uba74\",\"\\uc774\\ub300\\ub85c\",\"\\uae30\\uc5b5\\ud574\",\"\\ud588\\uc5b4\",\"\\ub0b4_\\ub9d8\\uc744\",\"\\uc7a0\\uc2dc\",\"\\ub354_\\uc774\\uc0c1\",\"\\uad1c\\ud788\",\"\\ub9c8\\uc74c\\uc744\",\"I_need\",\"\\uc74c\\uc545\",\"in_my\",\"\\uace7\",\"\\uba87\",\"\\uc624\\uc9c1\",\"\\uc18c\\ub9ac\",\"real\",\"\\uc6b0\\ub9ac\\uc758\",\"\\ubd10\\ub3c4\",\"\\ub9e4\\ubc88\",\"\\ub188\",\"\\uc138\\uc0c1\",\"see\",\"\\uae38\",\"Hey\",\"\\ub300\\uc2e0\",\"\\uce5c\\uad6c\",\"\\ub9d8\\uc774\",\"\\ud070\",\"What\",\"\\ubcf4\\ub2e4\",\"\\ubd88\\ub7ec\",\"\\uc5bc\\ub9c8\\ub098\",\"\\uc54a\\uc740\",\"about\",\"\\ubcf4\\ub294\",\"\\uc0ac\\ub791\\uc774\",\"I\\u2019m\",\"\\uc544\\ub984\\ub2e4\\uc6b4\",\"\\ud558\\uba74\",\"\\uc0ac\\uc774\",\"\\uc694\\uc998\",\"\\uc0b6\",\"babe\",\"my_love\",\"at\",\"\\uc788\\ub2e4\\uba74\",\"\\uc0ac\\ub294\",\"\\ubaa8\\uc2b5\",\"\\uc778\\uc0dd\",\"\\uc544\\ubb34\\ub9ac\",\"\\uc7a0\\uae50\",\"\\ubaa8\\ub4e0_\\uac8c\",\"\\uc601\\uc6d0\\ud788\",\"\\uc5b4\",\"A\",\"\\uadf8\\ub140\\ub294\",\"\\ub4a4\\ub85c\",\"\\ud799\\ud569\",\"\\ud639\\uc2dc\",\"\\ud544\\uc694\\ud574\",\"\\uc808\\ub300\\ub85c\",\"\\ucc3e\\uc544\",\"bitch\",\"fuckin\",\"dont\",\"And\",\"\\uae30\\uc5b5\",\"\\uc57c\",\"\\ub2ec\\ucf64\\ud55c\",\"\\ubabb\\ud55c\",\"\\ub418\\ub294\",\"\\ub0a8\\uc790\",\"\\uadf8\\uac78\",\"\\ud55c_\\ubc88\",\"\\ubb50\\uac00\",\"\\ub290\\uaef4\",\"\\ub05d\\uae4c\\uc9c0\",\"\\uc194\\uc9c1\\ud788\",\"\\ubaa8\\ub4e0_\\uac78\",\"\\ub108\\uc640_\\ud568\\uaed8\",\"\\uc5b4\\ub54c\",\"tonight\",\"\\ubc14\\ub798\",\"\\uc904\",\"\\uc704\\ud55c\",\"\\uc55e\\uc5d0\\uc11c\",\"\\uc5ed\\uc2dc\",\"The\",\"\\ucc99\",\"\\ub108\\uc640_\\ub098\\uc758\",\"Just\",\"hands_up\",\"\\ucc9c\\ucc9c\\ud788\",\"stop\",\"\\ubc84\\ub9b0\",\"\\ub0b4\\uc77c\",\"\\ucc98\\uc74c\",\"\\uacf3\",\"\\ub41c\",\"still\",\"\\ub611\\uac19\\uc740\",\"\\uc774\\uc720\",\"\\uc9d1\\uc5d0\",\"\\ub2ec\\ub824\",\"\\uc5b4\\uca4c\\uba74\",\"\\uc544\\ub294\",\"\\uc5ec\\uae30\\uc11c\",\"\\uba40\\ub9ac\",\"never\",\"\\uc5c6\\ub124\",\"\\uc0b6\\uc744\",\"\\ub9d8\\uc744\",\"\\uc788\\uac8c\",\"\\uc138\\uc0c1\\uc740\",\"Im_a\",\"Uh\",\"flow\",\"\\ub4a4\",\"\\ud558\\uc9c0\\ub9c8\",\"\\uc788\\uc744\\uae4c\",\"\\ucc44\",\"\\uba38\\ub9ac\",\"\\ub208\\uc774\",\"\\uc544\\ub2c8\\uc57c\",\"\\ub9d8\\uc5d0\",\"\\ubb34\\uc2a8\",\"\\ubbff\\uc5b4\",\"i_dont\",\"\\ub098\\ub9cc\\uc758\",\"\\ubb54\\uac00\",\"\\uc788\\ub358\",\"\\uc54a\\uace0\",\"I_feel\",\"for_you\",\"\\ub420\",\"tell_me\",\"\\uc54c\\uc5b4\",\"better\",\"\\uc788\\uc796\\uc544\",\"\\uc784\\ub9c8\",\"\\uc9c0\\uae08\\uc740\",\"\\uc6b0\\ub9b4\",\"\\ub54c\\ub860\",\"here\",\"with_me\",\"what_you\",\"\\uc704\",\"\\ucc28\\ub77c\\ub9ac\",\"\\ubb3c\\ub860\",\"Like\",\"party\",\"\\uac83\\uc774\",\"\\uc624\\ub298_\\ubc24\",\"\\uadf8\\ub300\\uac00\",\"\\ub300\\ub85c\",\"\\ubcf4\\uc774\\ub294\",\"\\uba4b\\uc9c4\",\"\\uc368\",\"\\uc0ac\\ub78c\\ub4e4\",\"\\uc220\",\"I_can\",\"\\uac83\\uc740\",\"take\",\"\\uc138\\uc0c1\\uc774\",\"\\uba39\\uace0\",\"from\",\"you_are\",\"\\ub0b4_\\uacc1\\uc5d0\",\"\\ub9cc\\ud07c\",\"\\uc598\\uae30\",\"\\ub208\\uc5d0\",\"\\ub208\\ubb3c\",\"la_la\",\"\\ub208\\ubb3c\\uc774\",\"All\",\"\\ub290\\ub08c\",\"\\ubaa8\\ub974\\ub294\",\"\\uadf8\\ub550\",\"not\",\"body\",\"mind\",\"\\ub9c8\\uc74c\\uc774\",\"all_night\",\"\\uc7a1\\uace0\",\"\\uc81c\\uc77c\",\"\\uc6d0\\ub798\",\"\\uc77c\\ub2e8\",\"\\uadf8\\ub7ec\\ub2c8\",\"\\ud5a5\\ud574\",\"\\ub300\\uccb4\",\"Dont\",\"\\ub4a4\\uc5d0\",\"\\uc138\\uc0c1\\uc5d0\",\"my_life\",\"all_day\",\"\\uac83\\uc744\",\"Fuck\",\"\\ub354\\ub294\",\"\\ub0b4_\\uc606\\uc5d0\",\"\\uc870\\uae08\\uc529\",\"\\uc9c0\\ub09c\",\"I_cant\",\"get_it\",\"\\ub54c\\uae4c\\uc9c0\",\"\\uc774\\ub984\",\"yeah_yeah\",\"\\uac74\\uc9c0\",\"dream\",\"crazy\",\"\\ubab8\\uc744\",\"\\ub9cc\\ub4e0\",\"\\uc81c\\ub300\\ub85c\",\"\\ud640\\ub85c\",\"\\uc5b4\\ub514\",\"This_is\",\"make_it\",\"\\ud588\\uc9c0\",\"\\uc0ac\\ub78c\\ub4e4\\uc740\",\"\\ubcf4\\ub2c8\",\"\\uae30\\ub2e4\\ub824\",\"Let_me\",\"\\uac00\\uc2b4\\uc774\",\"why\",\"Now\",\"\\uc804\\ud600\",\"\\uc790\\uc2e0\\uc744\",\"\\ub5a0\\ub098\",\"\\ub2e8\\uc9c0\",\"\\ubc24\\uc0c8\",\"fly\",\"\\uc560\\uc368\",\"this_is\",\"\\uc5c4\\ub9c8\",\"\\uc800\\uae30\",\"\\uc790\\uafb8\\ub9cc\",\"\\uc55e\\uc73c\\ub85c\",\"\\uc548_\\ud574\",\"ye\",\"\\uc5c6\\uace0\",\"some\",\"I_am\",\"can\",\"\\uc804\\ubd80_\\ub2e4\",\"only\",\"\\ubabb\\ud558\\ub294\",\"\\uc628\",\"\\uc606\\uc5d0\",\"\\ub098\\ub791\",\"\\uac70\\uc9c0\",\"\\uac19\\uc560\",\"\\ub4e3\\uace0\",\"\\ubab0\\ub77c\\ub3c4\",\"Ill_be\",\"\\uac83\\ucc98\\ub7fc\",\"hot\",\"\\uc654\\uc5b4\",\"\\ud558\\ub8e8\",\"\\ubaa8\\ub4e0\\uac78\",\"\\ubcf4\\uba70\",\"\\ub3c8\\uc744\",\"\\uc54c\\uc9c0\",\"\\ud6c4\",\"\\ud558\\uace0_\\uc2f6\\uc740\",\"\\ud0c0\\uace0\",\"want\",\"\\uc904\\uac8c\",\"\\uc0c8\",\"\\ud798\\ub4e0\",\"everyday\",\"\\ube5b\\uc774\",\"with_you\",\"\\ubaa8\\ub4e0\\uac8c\",\"\\ub204\\uad6c\\ubcf4\\ub2e4\",\"\\ub728\\uac70\\uc6b4\",\"\\uc778\\uc0dd\\uc740\",\"\\uafc8\\uc740\",\"\\ubcf8\",\"\\uc138\\uc0c1\\uc744\",\"\\uc54a\\uac8c\",\"\\ubb50\\ub4e0\",\"\\uc54c_\\uc218\",\"rap\",\"\\uc0ac\\ub78c\\uc774\",\"&\",\"\\uac00\\uc9c0\",\"lady\",\"\\uac00\\uc2b4\\uc5d0\",\"\\ud639\\uc740\",\"\\ub108\\ub124\",\"\\ud3c9\\uc0dd\",\"\\ub098\\uc774\",\"\\ub108\\ub128\",\"\\ucc28\\uac00\\uc6b4\",\"\\ub0a8\\uc740\",\"\\uad73\\uc774\",\"how\",\"like_this\",\"\\uc5c6\\uc5b4\\ub3c4\",\"when\",\"\\ubbf8\\uce5c\",\"give_a\",\"\\uc5c6\\ub294\\ub370\",\"\\uc18d\\uc5d0\\uc11c\",\"\\uac78\\uae4c\",\"are\",\"\\ud754\\ub4e4\\uc5b4\",\"\\uc5b4\\uc81c\",\"\\uc544\\uc9c1\\uc740\",\"\\uac70\\uc9d3\\ub9d0\",\"right_now\",\"on_and\",\"\\ubc84\\ub824\",\"\\ub9e4\\uc77c_\\ubc24\",\"\\uac00\\uc2b4\",\"\\uc74c\\uc545\\uc744\",\"\\uac00\\ub4dd\",\"\\uc9d1\",\"\\uc544\\uce68\",\"\\uadf8\\ub140\\uc758\",\"\\uafc8\\uc774\",\"\\uc804\",\"\\uadf8\\ub140\",\"\\uc5bc\\uad74\",\"\\uac00\\uace0\",\"\\uc54a\\uc9c0\",\"\\ub9cc\\ub098\",\"\\uac00\\uc9c4\",\"\\uaf49\",\"\\ub6f0\\uc5b4\",\"beat\",\"\\ubab8\",\"\\uc870\\uae08_\\ub354\",\"\\uc54c\\uc796\\uc544\",\"\\uc62c\\ub77c\",\"\\uac00\\ub054\\uc740\",\"n\",\"\\uc5c6\\uc9c0\\ub9cc\",\"over\",\"more\",\"Get\",\"or\",\"\\uc7a1\\uc544\",\"\\ub9e8\\ub0a0\",\"\\uac00\\uc7a5\",\"\\uc190\\uc5d0\",\"\\uc785\",\"\\ub0a8\\uc544\",\"light\",\"\\uac83\\ub4e4\",\"\\ub9d0\\uc774\\uc57c\",\"always\",\"again\",\"\\uadf8\\ub140\\uac00\",\"\\ubcc4\",\"\\ub0b4_\\uc774\\ub984\",\"Go\",\"call_me\",\"\\ud798\\ub4e4\\uc5b4\",\"\\ubaa9\\uc18c\\ub9ac\",\"\\ubed4\\ud55c\",\"\\ub108\\ub791\",\"\\uae34\",\"\\uc54a\\uc544\\ub3c4\",\"come_on\",\"\\ubc84\\ub9ac\\uace0\",\"\\uc624\\ub798\",\"\\uc228\",\"\\uccab\",\"\\ud06c\\uac8c\",\"\\uac4d\",\"\\uac70\\uae30\",\"\\ucc28\",\"for_the\",\"thats\",\"\\uc0b6\\uc758\",\"\\uc560\\ub4e4\",\"\\uc2f9_\\ub2e4\",\"\\ub610_\\ub2e4\\ub978\",\"\\ub098_\\ud63c\\uc790\",\"\\ubc16\\uc5d0\",\"\\ucc44\\ub85c\",\"\\uc644\\uc804\",\"\\uc0b6\\uc774\",\"\\uc0ac\\ub78c\\uc740\",\"\\uc5f4\\uc2ec\\ud788\",\"\\ub7a9\\uc744\",\"\\ub3c8\\uc774\",\"\\ub108\\ub780\",\"there\",\"play\",\"\\ub098\\ub3c4_\\ubaa8\\ub974\\uac8c\",\"\\ubc24\\uc5d0\",\"everything\",\"live\",\"\\ub9de\\uc544\",\"\\uc9c0\\uae08\\uc758\",\"\\uc77c\\uc774\",\"\\ub418\\uace0\",\"\\ub204\\uad6c\\ub3c4\",\"\\uc704\\ud574\\uc11c\",\"\\ub9de\\ucdb0\",\"\\uadf8\\ub300\\ub97c\",\"\\ub108\\ubb34\\ub098\\ub3c4\",\"\\uc0dd\\uac01\\uc774\",\"\\uaf64\",\"\\uc54c\\uace0\",\"\\uc0ac\\ub791\\ud558\\ub294\",\"wanna_be\",\"\\uc0ac\\ub78c\\ub4e4\\uc774\",\"\\uc0ac\\ub791\\uc758\",\"\\uc2f6\\uc740\",\"\\uc5b4\\ub9b0\",\"\\uac00\\ub4dd\\ud55c\",\"come\",\"It\",\"\\ub108_\\ub54c\\ubb38\\uc5d0\",\"keep\",\"\\uc608\\uc05c\",\"\\uc9c0\\uae08\\ub3c4\",\"\\ubcfc_\\uc218\",\"\\uc0b4\\uc9dd\",\"\\ubaa8\\uc2b5\\uc774\",\"\\ubc24\\uc744\",\"ah\",\"\\uc5c6\\ub358\",\"\\ubb3c\\uc5b4\",\"\\uc548\\ud574\",\"On\",\"\\uc2ac\\ud508\",\"huh\",\"\\ub4ef\\uc774\",\"\\uc544\\ud508\",\"\\uae30\\ubd84\\uc774\",\"\\uacc4\\uc18d\\ud574\\uc11c\",\"\\ub530\\uc708\",\"\\uc8fc\\ub294\",\"\\ubbf8\\ub798\",\"\\ubaa8\\ub974\\uaca0\\uc5b4\",\"\\uc624\\ub298\\ubc24\",\"You_know\",\"\\uc5c6\\uc796\\uc544\",\"\\uc544\\ub9c8\\ub3c4\",\"\\uac00\\ub9cc\\ud788\",\"\\uace0\\uac1c\\ub97c\",\"alright\",\"\\ub418\\uc5b4\",\"aint\",\"\\ub300\\ud55c\",\"\\uc0b4\",\"\\uba39\\uc5b4\",\"\\ud558\\ub098_\\ub458\",\"\\ub534\",\"\\uc0dd\\uac01\\uc740\",\"\\ubabb\\ud558\\uace0\",\"\\uc548\\uc5d0\\uc11c\",\"I_think\",\"\\ubd80\\ud130\",\"Me\",\"they\",\"\\uc788\\uc73c\\uba74\",\"\\uac00\\uc11c\",\"the_one\",\"forever\",\"\\uac16\\uace0\",\"\\ub9d0\\ub85c\",\"\\uc790\\ub9ac\",\"\\uc5b8\\uc820\\uac00\",\"\\ud558\\ub098\\ub3c4\",\"\\uac11\\uc790\\uae30\",\"1\",\"\\ub3c4\\ub300\\uccb4\",\"\\ub110_\\uc704\\ud574\",\"\\uc0c1\\uad00\\uc5c6\\uc5b4\",\"I_gotta\",\"\\uaebc\\uc838\",\"\\uc544\\ub2cc\\ub370\",\"\\ubc24\\uc774\",\"\\uc774_\\ubc24\\uc774\",\"\\ub204\\uad70\\uac00\",\"nothing\",\"\\uc5b4\\ub290\",\"for_my\",\"\\uadf8\\ub9ac\\uc6cc\",\"\\ubc14\\ub78c\",\"\\uc624\\ube60\",\"\\uccd0\",\"\\ub0a0\\uc774\",\"the_way\",\"\\uc218_\\uc5c6\\ub294\",\"\\uc228\\uc744\",\"\\uadf8\\ub7ec\\ub2c8\\uae4c\",\"\\uc2dc\\uac04\\uc5d0\",\"\\ub450\\ub824\\uc6cc\",\"I_will\",\"die\",\"\\uc874\\ub098\",\"your_love\",\"\\uc218_\\uc5c6\\uc5b4\",\"\\uc5b4\\ub5a1\\ud574\",\"\\uc785\\uc744\",\"the_fuck\",\"\\uc788\\ub294\\ub370\",\"Ill\",\"us\",\"look_at\",\"\\ub05d\\uc774\",\"Yo\",\"give_me\",\"who\",\"\\ubc95\",\"oh_yeah\",\"\\uac10\\uc815\",\"\\uc9c0\\ub098\",\"\\ub4e4\\uace0\",\"\\uac00\\uba74\",\"care\",\"turn_up\",\"\\ub098\\uac00\",\"\\uac00\\uc0ac\",\"\\uc774\\uac78\",\"Say\",\"baby_baby\",\"\\ubcf4\\ub0b4\",\"youre\",\"i_know\",\"away\",\"make_me\",\"\\ubbff\\uace0\",\"\\uc77c\\uc5b4\\ub098\",\"\\ubc14\\ub77c\\ubd10\",\"\\uc788\\ub124\",\"\\uadf8\\ub9ac\",\"\\ub188\\ub4e4\",\"\\uc9c0\\ub098\\uac04\",\"\\ub610\\ub294\",\"my_way\",\"her\",\"\\uc804\\ud654\",\"\\uacb0\\uad6d\\uc5d4\",\"\\uc5b4\\ub514\\ub4e0\",\"\\ud750\\ub974\\ub294\",\"let\",\"\\uadf8\\ub308\",\"\\uc778\\uc0dd\\uc758\",\"\\uc11c\\ub85c\\ub97c\",\"\\ud558\\uba70\",\"\\ud558\\ub8e8\\uac00\",\"\\ubbf8\\uc18c\",\"\\uc774\\uac70\",\"\\ubcfc\",\"\\uc660\\uc9c0\",\"\\uae4a\\uc740\",\"\\uc990\\uaca8\",\"\\ub098\\uc05c\",\"new\",\"\\uc2ec\\uc7a5\\uc774\",\"\\ub354\\uc6b1\",\"\\ub180\\uc544\",\"\\ub2f9\\uc2e0\\uc758\",\"\\ud574\\uc918\",\"she\",\"\\ud758\\ub7ec\",\"\\uc5b4\\ub514\\ub85c\",\"\\uc62c\\ub77c\\uac00\",\"\\uc9c0\",\"\\ud558\\ub124\",\"\\ubd24\\uc5b4\",\"to_be\",\"everybody\",\"you_can\",\"bitches\",\"1_2\",\"\\uc0dd\\uac01\\uc5d0\",\"\\ub0b4\\ub824\",\"Oh_Oh\",\"\\uc815\\ub9d0\\ub85c\",\"\\uce5c\\uad6c\\ub4e4\",\"\\ubd88\",\"\\ub9c8\\ub0e5\",\"\\ud544\\uc694_\\uc5c6\\uc5b4\",\"music\",\"\\ud560\\uac8c\",\"\\ub0b4_\\ub9d8\\uc740\",\"ay\",\"\\uc815\\uc2e0\",\"need\",\"\\uc544\\ubb34\",\"\\uc544\\ub798\",\"\\ud45c\\uc815\",\"\\ubab8\\uc774\",\"\\ube60\\uc838\",\"\\uadf8\\ub140\\ub97c\",\"\\uc2dc\\uc791\\ud574\",\"move\",\"\\uc560\",\"\\ub108\\uc640\\uc758\",\"\\ubd84\\uba85\",\"\\ub9d0\\uc5d0\",\"yea\",\"\\uc6c0\\uc9c1\\uc5ec\",\"\\ud604\\uc2e4\",\"\\uac71\\uc815\",\"\\ud558\\uc580\",\"\\uadf8\\ub304\",\"2\",\"\\ub098\\ud55c\\ud14c\",\"damn\",\"\\ub2e4\\uc2e0\",\"\\ub418\\uc9c0\",\"\\ub9d0\\uc5b4\",\"\\uc74c\\uc545\\uc774\",\"\\uc88b\\uc544\\ud558\\ub294\",\"\\uac08\",\"\\ub530\\ub73b\\ud55c\",\"\\uc5b5\\uc9c0\\ub85c\",\"\\ub9c8\\uc74c\\uc5d0\",\"\\ub9d0\\ud574\\uc918\",\"\\ubcf4\\uace0_\\uc2f6\\uc5b4\",\"\\uc544\\ub984\\ub2e4\\uc6cc\",\"\\uc788\\uc9c0\\ub9cc\",\"too\",\"\\ubc29\",\"\\ub2f4\\uc544\",\"\\uc9c0\\uccd0\",\"young\",\"\\ub9d0\\ud558\\ub294\",\"\\uc637\",\"\\uc88b\\uaca0\\uc5b4\",\"\\uafc8\\uc5d0\",\"world\",\"\\uac70\\ub9ac\",\"i_feel\",\"\\ub9cc\\uc57d\",\"woo\",\"\\ud558\\ub298\\uc744\",\"\\uc788\\uc5b4\\ub3c4\",\"\\ub54c\\uac00\",\"i_got\",\"\\uacc1\\uc5d0\",\"Im_not\",\"\\ub9d0\\ub3c4\",\"\\ub458\\uc774\",\"\\uc0ac\\ub791\\uc5d0\",\"take_it\",\"\\uc62c\\ub824\",\"\\uc74c\\uc545\\uc740\",\"\\ubc1c\",\"\\uc2dc\\uc120\",\"\\uac00\\uc9c0\\uace0\",\"\\uae30\\ub300\",\"\\uc5b8\\uc81c\",\"\\uc0c1\\ucc98\",\"\\ub05d\",\"\\ud574\\uc11c\",\"\\uc0dd\\uac01\\uc744\",\"no_no\",\"\\uc774\\uc81c\\uc57c\",\"Man\",\"\\uc9c0\\uce5c\",\"ride\",\"beautiful\",\"\\ud589\\ubcf5\\ud574\",\"\\ud558\\ub358\",\"air\",\"\\ubc8c\\uc5b4\",\"\\uc5b4\\uae68\",\"\\ub2c8\\ub4e4\",\"\\ud558\\ub8e8\\uc885\\uc77c\",\"\\uc790\\uae30\",\"Thats\",\"\\ub208\\ubb3c\\uc744\",\"my_name\",\"\\ub3cc\\uc544\",\"\\ub2f4\\ubc30\",\"\\ub9c8\\uc154\",\"in_love\",\"where\",\"\\uc77c\\uc740\",\"big\",\"\\uadf8_\\uc5b4\\ub5a4\",\"\\uc774\\uc57c\\uae30\",\"like_that\",\"yall\",\"\\uc548\\ub155\",\"\\ub178\\ub798\\ub97c\",\"\\ubaa8\\uc2b5\\uc744\",\"\\ub2e8\",\"\\ube5b\\uc744\",\"\\uc2a4\\uc2a4\\ub85c\",\"Do_it\",\"\\ub354_\\ud06c\\uac8c\",\"\\uc549\\uc544\",\"\\uc774_\\uc21c\\uac04\",\"\\uc0ac\\ub791\\ud588\\ub358\",\"\\uc0b6\\uc740\",\"\\ub54c\\uba74\",\"we_are\",\"\\ud63c\\uc790\\uc11c\",\"\\uc870\\uae08\\uc740\",\"\\ub208\\ube5b\",\"\\uc54a\\uc558\\uc5b4\",\"\\ub0b4\\uc77c\\uc740\",\"\\uc5ec\\uae30\\uc800\\uae30\",\"\\uc6c3\\uc73c\\uba70\",\"sky\",\"\\uc560\\ub4e4\\uc740\",\"\\ub2f9\\uc7a5\",\"\\ucd94\\uc5b5\",\"\\ubabb\\ud560\",\"Yes\",\"\\ubd84\\uc704\\uae30\",\"\\uc5b4\\ub514\\uc11c\",\"i_want\",\"\\ub77c\\uace0\",\"\\ub9cc\\ub4dc\\ub294\",\"\\uac80\\uc740\",\"\\ub450\\uace0\",\"ha\",\"\\ud589\\ubcf5\\ud55c\",\"Tell_me\",\"\\ub4e4\\uc5b4\\ubd10\",\"\\ub458\",\"\\uc78a\\uace0\",\"\\ubab0\\ub798\",\"check\",\"\\ubbf8\\uccd0\",\"\\uae4c\\uc9c0\",\"\\ubaa8\\ub450\\ub2e4\",\"\\uc218_\\uc788\\uac8c\",\"\\ub290\\ub08c\\uc774\",\"\\ub54c\\ub3c4\",\"\\ubc1b\\uc544\",\"This\",\"\\ubcc0\\ud574\",\"\\uac78\\uc5b4\\uac00\",\"\\ud574\\uac00\",\"you_want\",\"\\uc608\",\"\\ub193\\uace0\",\"\\uba48\\ucdb0\",\"\\uc4f0\\uace0\",\"\\ub290\\ub07c\\ub294\",\"\\ub2e4\\ub974\\uac8c\",\"\\uc548_\\ub3fc\",\"look\",\"\\uc77c\\uc744\",\"\\uc11c\\uc6b8\",\"\\uc788\\uace0\",\"\\uae30\\ubd84\\uc740\",\"\\ub4ef\\ud574\",\"\\ub358\\uc838\",\"\\uc0c8\\ubcbd\",\"\\ube60\\ub974\\uac8c\",\"\\uc6c3\\uace0\",\"\\ud798\\uc774\",\"\\ub9d0\\uc544\",\"\\uac70\\uce5c\",\"\\ub108\\ub77c\\ub294\",\"\\ubc49\\uc5b4\",\"\\ub108\\ubb34_\\ub9ce\\uc544\",\"about_you\",\"\\ubb3c\",\"\\uc74c\",\"\\uc6c3\\uc5b4\",\"Rap\",\"\\ub9e4\\uc77c\\uc774\",\"\\uace0\\ubbfc\",\"Everyday\",\"\\uc5b4\\ub450\\uc6b4\",\"\\uc544\\ub2c8\\uace0\",\"If_you\",\"\\uc774_\\ub178\\ub798\",\"bang_bang\",\"\\uba4d\\ud558\\ub2c8\",\"\\ube5b\\ub098\\ub294\",\"\\uc5c6\\ub2e4\\uace0\",\"keep_it\",\"im_a\",\"\\ub9d0\\ud558\\uc9c0\",\"\\ub354\\uc774\\uc0c1\",\"bad\",\"show\",\"\\uc774\\uc81c_\\uadf8\\ub9cc\",\"fuck_with\",\"long\",\"yes\",\"\\ub188\\uc774\",\"\\ud604\\uc2e4\\uc740\",\"okay\",\"\\uac83\\ub4e4\\uc774\",\"\\uadf8\\ub300\\uc758\",\"\\ub2e4\\uc2dc\\ub294\",\"\\ubc14\\uafd4\",\"\\ud0dc\\ub3c4\",\"\\uc18c\\uc911\\ud55c\",\"\\ub4e4\\uc5b4\\uac00\",\"Im_just\",\"tell\",\"\\ub5a0\\ub09c\",\"\\uc774\\ubcc4\",\"\\ubaa8\\ub974\\uace0\",\"\\ub54c\\ub9c8\\ub2e4\",\"I_don\\u2019t\",\"\\uac1c\",\"\\uaca8\\uc6b0\",\"call\",\"\\uc9c0\\ucf1c\",\"\\ub098\\ubcf4\\ub2e4\",\"no_more\",\"\\ub098\\uc11c\",\"\\ub355\\ubd84\\uc5d0\",\"i_wanna\",\"\\uc774\\ubcc4\\uc744\",\"\\uae4a\\uac8c\",\"\\ud558\\ub8e8\\ub97c\",\"\\uc904\\ub798\",\"\\ubbf8\\ub798\\ub97c\",\"\\uc54a\\uc5b4\",\"\\uc2dc\\uc791\",\"\\uc9c0\\uc6cc\",\"\\uc801\",\"\\ub0b4\\uac8c\\ub294\",\"\\uac04\",\"\\uc778\\uc0dd\\uc744\",\"think\",\"\\ub54c\\ub294\",\"\\ucb49\",\"\\uad81\\uae08\\ud574\",\"\\uadf8\\ub7f0\\ub370\",\"\\uac04\\uc5d0\",\"\\uac77\\ub294\",\"\\uc678\\uccd0\",\"\\uadf8\\ub300\\ub294\",\"\\uc54a\\uc744\",\"\\ub9cc\\ub09c\",\"\\uc0b4\\uc5b4\",\"mine\",\"But_I\",\"uh_uh\",\"\\ub9d8\\uc740\",\"\\ubc14\\ubcf4\",\"\\uac08\\uac8c\",\"\\uc4f4\",\"\\uae30\\uc5b5\\uc774\",\"\\uaf64\\ub098\",\"please\",\"\\uc54c\\uc558\\uc5b4\",\"love_is\",\"\\ub300\\ucda9\",\"\\ubcf4\\uc5ec\\uc904\\uac8c\",\"\\ub410\\uc9c0\",\"\\ub0b4_\\uc0b6\\uc758\",\"\\ubab8\\uc5d0\",\"\\uc624\\ub298\\ub530\\ub77c\",\"\\ube5b\",\"\\ub204\\uad6c\",\"show_me\",\"\\ub2f5\\ub2f5\\ud574\",\"fucking\",\"\\ub108\\ubb34\\ub3c4\",\"thing\",\"city\",\"put_your\",\"\\ubc18\",\"\\ub192\\uc774\",\"\\ub208\\uce58\",\"\\uc810\\uc810_\\ub354\",\"\\ud798\\uc744\",\"\\uadf8\\ub300\\uc640\",\"them\",\"\\ub418\\uba74\",\"\\uc624\\ud788\\ub824\",\"\\ub450_\\uc190\",\"\\ub2e4\\uac00\\uc640\",\"\\uacf3\\uc5d0\",\"\\uacc4\\uc18d\\ud574\",\"stay\",\"\\ucd94\\uc5b5\\uc774\",\"\\ubaa8\\uc2b5\\uc5d0\",\"\\uc644\\ubcbd\\ud55c\",\"\\ubc14\\ub77c\\ubcf4\\ub294\",\"\\ub118\\uc5b4\",\"\\uc228\\uc774\",\"\\uc27d\\uc9c0_\\uc54a\\uc544\",\"\\uace0\\ub9c8\\uc6cc\",\"\\uc608\\ubed0\",\"work\",\"then\",\"\\uc65c\\ub0d0\\uba74\",\"fake\",\"\\uc870\\uae08\\ub9cc_\\ub354\",\"\\uc5c6\\uc5c8\\uc5b4\",\"\\uc6d0\\ud558\\ub294\",\"3\",\"\\uc628\\ud1b5\",\"\\uc218_\\uc788\\uc5b4\",\"\\uc5ec\\uae30\\uc5d0\",\"from_the\",\"something\",\"name\",\"\\ub110_\\uc0ac\\ub791\\ud574\",\"if_you\",\"\\uc220\\uc744\",\"\\uc8fd\\uc774\\ub294\",\"When_I\",\"\\uc138\\uc0c1\\uc758\",\"\\ud558\\ub8e8_\\uc885\\uc77c\",\"\\ub05d\\uc5d0\",\"\\ud560\\uae4c\",\"\\uc0b4\\uc544\\uac00\\ub294\",\"\\uc788\\uc744\",\"\\uac00\\uc0ac\\ub97c\",\"\\ub098\\uc57c\",\"\\ud0c0\",\"\\ubb54\\uc9c0\",\"\\ud558\\ub298\",\"ill\",\"\\ubc1d\\uc740\",\"\\uc785\\uc5d0\",\"\\ub3cc\\uc544\\uc640\",\"out_of\",\"\\uba38\\ub9ac\\uac00\",\"\\uc57d\\uc18d\",\"\\uc0ac\\ub78c\\ub4e4\\uc758\",\"\\uc5b4\\uca54_\\uc218\",\"Do_you\",\"cry\",\"dance\",\"i_do\",\"\\ubb50\\ud574\",\"\\uc624\\ub294\",\"\\ub3cc\\ub824\",\"rhyme\",\"\\uc544\\ub2c8\\uc9c0\",\"\\uc11c\\ub85c\\uc758\",\"\\uc544\\ud30c\",\"\\ubaa8\\ub4e0_\\uac83\\uc744\",\"\\ub2ec\\ub9ac\",\"\\uc55e\\uc5d0\\uc120\",\"\\uce5c\\uad6c\\ub4e4\\uc740\",\"\\uc55e\",\"\\ube4c\\uc5b4\\uba39\\uc744\",\"\\ubbf8\\uc18c\\ub97c\",\"\\ucde8\\ud574\",\"I_aint\",\"\\uc0c8\\ub07c\",\"\\uc544\\uc9c1\\uae4c\\uc9c0\",\"feeling\",\"\\ubb50\\uc57c\",\"\\ub9cc\",\"\\uc0ac\\ub77c\\uc838\",\"\\uc5c6\\ub2e4\",\"\\ub611\\uac19\\uc774\",\"\\uc2f6\\uc740\\ub370\",\"\\uacfc\\uc5f0\",\"run\",\"top\",\"\\ub0a8\",\"\\uae38\\uc774\",\"\\ubcf4\\ub2e8\",\"\\uc5c6\\uc73c\\ub2c8\\uae4c\",\"\\uae38\\uc740\",\"I_see\",\"Everybody\",\"\\uc783\\uc5b4\\ubc84\\ub9b0\",\"gonna\",\"\\uc790\\uc8fc\",\"\\ubd10\\uc694\",\"\\ub192\\uc740\",\"\\uc544\\ub2c8\\uc9c0\\ub9cc\",\"\\ubc25\",\"game\",\"\\ub098\\uc5d0\\uac90\",\"\\uc794\",\"\\ucc3e\\ub294\",\"\\uaebc\\ub0b4\",\"ok\",\"Up\",\"\\ube48\",\"\\ub0a8\\uc790\\uac00\",\"\\ub4ef\\ud55c\",\"\\ub098\\uc624\\ub294\",\"\\uc5b4\\ub514\\uc5d0\",\"\\uc2ec\\uc7a5\",\"\\uc5b8\\uc820\\uac04\",\"One\",\"\\uc870\\ucc28\",\"\\uc0ac\\ub791\\uc774\\ub780\",\"\\ub208\\uc55e\\uc5d0\",\"\\ub450_\\ub208\\uc744\",\"\\uadf8\\ub7ec\\ub2e4\",\"Ma\",\"\\uc0dd\\uac01\\ub098\",\"\\uc800_\\uba40\\ub9ac\",\"\\uc190\\uc744_\\uc7a1\\uace0\",\"dont_know\",\"that_shit\",\"\\ubab0\\ub790\\uc5b4\",\"\\ub9d0\\uc544\\uc918\",\"\\ud558\\ub294\\ub370\",\"D\",\"your_body\",\"\\uc6b0\\ub9ac\\ub97c\",\"i_just\",\"YOU\",\"\\ub9c8\\ub77c\",\"\\uc678\\ub85c\\uc6b4\",\"G\",\"\\uc5d0\",\"\\ud558\\ub298\\uc5d0\",\"cant\",\"off\",\"\\ub0b4\\uc77c\\uc774\",\"\\ubb38\\ub4dd\",\"\\uac00\\uae4c\\uc774\",\"\\uc6b0\\ub9ac_\\ub458\",\"my_mind\",\"lets\",\"\\uba38\\ub9ac\\ub97c\",\"\\uc0dd\\uac01\\ubcf4\\ub2e4\",\"me_now\",\"\\uc0ac\\ub78c\\uc744\",\"in_this\",\"\\uc5c6\\uac8c\",\"\\ub9d0\\ud22c\",\"back_to\",\"\\uac00\\uc790\",\"Back\",\"\\uc54a\\ub124\",\"\\uac00\\ub124\",\"\\ub300\",\"\\uace0\\ubc31\",\"\\ube44\\uac00\",\"myself\",\"\\ub290\\uaef4\\uc9c0\\ub294\",\"\\ubcc4\\ub85c\",\"free\",\"\\uc11c\",\"\\uc18d\\uc758\",\"\\uc624\\ub298\\uc774\",\"\\uac00\\uc2b4\\uc744\",\"\\uac70\\ub77c\\uace0\",\"Im_sorry\",\"\\uc783\\uc740\",\"OK\",\"\\ub2c8\\ub124\",\"\\uc138\",\"\\uc7a0\",\"\\ub9ac\\ub4ec\",\"\\uc218_\\uc788\\ub294\",\"\\ube4c\\uc5b4\",\"\\uc900\\ube44\",\"style\",\"know_what\",\"\\uc6c3\\uc74c\",\"\\uac70\\ub9ac\\ub97c\",\"I_was\",\"\\ub420_\\uc218\",\"\\ubc1c\\uc744\",\"\\ub290\\ub084_\\uc218\",\"\\uc5ec\\uc790\\uac00\",\"\\uc544\\uc774\",\"\\ubaa9\\uc744\",\"Come_on\",\"\\uadf8\\ub824\",\"\\ud604\\uc2e4\\uc774\",\"hard\",\"\\uc774\\uc05c\",\"\\ubb34\\ub300\",\"baby_girl\",\"\\uc9c0\\uae08\\uae4c\\uc9c0\",\"\\uc5ec\\uc790\\ub294\",\"\\uadc0\\uc5d0\",\"\\ub450_\\uc190\\uc744\",\"\\ub354_\\ub192\\uc774\",\"\\ucc44\\uc6cc\",\"\\ubc1b\\uace0\",\"\\uc54a\\uc9c0\\ub9cc\",\"\\uc0ac\\uc9c4\",\"by\",\"will\",\"Lets\",\"\\uc704\\uc5d0\\uc11c\",\"\\uae08\\ubc29\",\"wake_up\",\"\\ubc24\\uc740\",\"\\uc544\\ubb34\\ub7f0\",\"\\ubd88\\uc744\",\"\\ud558\\uac8c\",\"the_world\",\"\\uac19\\uc9c0\",\"\\ud604\\uc2e4\\uc744\",\"bout\",\"\\ub410\\uace0\",\"\\uc804\\ubd80\\ub2e4\",\"just_do\",\"let_it\",\"Keep\",\"ma_girl\",\"cause\",\"\\ub204\\uad6c\\ub098\",\"bounce\",\"\\uadf8\\ub300\\uc5ec\",\"\\ub110_\\uc704\\ud55c\",\"\\ub9e8\",\"\\uc5bc\\uad74\\uc744\",\"\\ub2e4\\ub9ac\",\"swag\",\"\\uc5ec\\ud0dc\",\"\\uc9c0\\ub098\\uac00\\ub294\",\"good_night\",\"\\uaf43\",\"\\ud6c4\\uc5d0\",\"vibe\",\"\\uc720\\uc77c\\ud55c\",\"\\ub4e4\\ub824\",\"\\uc9e7\\uc740\",\"\\ubaa8\\ub4e0_\\uac83\\uc774\",\"\\uc18d\\uc744\",\"\\uc774\\uc81c\\ubd80\\ud130\",\"\\ubc14\\ub2e4\",\"\\uc5b8\\uc81c\\uae4c\\uc9c0\",\"\\ub204\\uc6cc\",\"was\",\"\\uc120\",\"\\ub2e4\\uc2dc_\\ud55c\\ubc88\",\"\\ud588\\uc9c0\\ub9cc\",\"the_best\",\"\\uc0c8\\ub07c\\ub4e4\",\"You_are\",\"\\ub300\\ud574\",\"\\ubc14\\ube60\",\"\\ub610\\ud55c\",\"u_know\",\"\\ubb3c\\uc5b4\\ubd10\",\"\\ud55c\\ubc88_\\ub354\",\"\\ubb38\\uc81c\",\"\\ub4a4\\uc5d0\\uc11c\",\"\\uae30\\ub3c4\\ud574\",\"\\ub098\\uba74\",\"\\ubcf4\\uc5ec\\uc918\",\"\\uc744\",\"\\ud14c\\ub2c8\",\"Cuz\",\"\\uc644\\uc804\\ud788\",\"\\ub108\\ud55c\\ud14c\",\"\\uac10\\uc815\\uc744\",\"\\ubed4\\ud574\",\"\\uc2dc\\uc6d0\\ud55c\",\"people\",\"\\ub194\",\"\\ub05d\\uc744\",\"\\ub2e4\\uc74c\\uc5d0\",\"rock\",\"da\",\"\\uad00\\uc2ec\",\"\\ub3c8\\uc740\",\"\\ud615\",\"\\uadf8\\ub4e4\\uc758\",\"\\uc785\\uc220\",\"\\uc601\\ud654\",\"really\",\"\\uace0\\uac1c\",\"\\uc7a0\\uc744\",\"\\ubb50\\ub77c\\uace0\",\"\\uac19\\uc740\\ub370\",\"B\",\"\\uac83_\\uac19\\uc560\",\"\\ub098\\uc628\",\"\\uc5c6\\uc73c\\uba74\",\"\\uc65c_\\uc790\\uafb8\",\"\\uae30\\uc5b5\\uc744\",\"\\uc774\\uacf3\\uc740\",\"\\ubfd0\\uc774\\uc57c\",\"\\ub530\\ub77c\\uc640\",\"\\uc54c\\uc544\\uc11c\",\"around\",\"\\uc7a0\\uc774\",\"\\uc544\\ub2c8\\ub77c\",\"lets_go\",\"\\ub9d0\\ud588\\uc9c0\",\"\\ub9c8\\uc74c\\uc740\",\"\\uc0ac\\uc774\\uc5d0\",\"\\ub2c8\\ub4e4\\uc774\",\"\\ud558\\uba74\\uc11c\",\"every\",\"\\uce5c\\uad6c\\uac00\",\"\\uc5c6\\uc73c\\ub2c8\",\"be_with\",\"heart\",\"so_beautiful\",\"Money\",\"\\uc774\\uc81c\\uc11c\\uc57c\",\"have\",\"\\uc624\\ub298_\\ubc24\\uc740\",\"slow\",\"Lets_go\",\"\\ub0b4\\uac8c\\ub85c\",\"\\ud589\\ubcf5\\uc744\",\"as\",\"\\uc788\\uaca0\\uc9c0\",\"\\uac08\\ub798\",\"hustle\",\"\\ub530\\uc704\",\"\\uc190\\uc774\",\"\\uc624\\ub85c\\uc9c0\",\"\\ub108\\ub9cc\\uc758\",\"\\ud558\",\"\\ubc14\\ub77c\\ub294\",\"\\uac70\\uc758\",\"\\uc5f0\\ub77d\",\"\\ud5a5\\uae30\",\"\\uac08_\\uc218\",\"\\uc9c0\\uae08\\ubd80\\ud130\",\"\\ud604\\uc2e4\\uc5d0\",\"\\ud53c\\ud574\",\"\\ub108\\uc5d0\\uac90\",\"\\uc544\\ubc84\\uc9c0\",\"\\uc704\\ub97c\",\"God\",\"Good\",\"\\ud6c4\\ud68c\",\"\\uae4a\\uc774\",\"\\ub098\\uc640_\\ud568\\uaed8\",\"\\ud558\\uace0_\\uc2f6\\uc5b4\",\"lets_dance\",\"\\ud558\\ub294\\uc9c0\",\"\\ubbf8\\uc548\",\"\\ubcf4\\uc9c0\",\"\\ud138\\uc5b4\",\"\\uba39\\ub294\",\"\\ub0b4_\\uc0b6\\uc740\",\"\\uc54c\\uace0_\\uc2f6\\uc5b4\",\"\\ubc30\",\"\\uc0b6\\uc5d0\",\"kill\",\"\\ubc14\\uc05c\",\"\\uc6b0\\ub9ac_\\uc0ac\\uc774\",\"\\ud3b8\\ud558\\uac8c\",\"\\ub2e4\\uac19\\uc774\",\"\\uc874\\uc7ac\",\"going\",\"\\uc900\",\"\\ube44\\ucf1c\",\"hater\",\"\\ub108\\ud76c\",\"we_can\",\"mic\",\"two\",\"\\ub204\\uac00_\\ubb50\\ub798\\ub3c4\",\"\\uc548_\\ud574\\ub3c4\",\"\\uac83\\ub9cc\",\"\\uc528\\ubc1c\",\"Party\",\"\\ub418\",\"but_i\",\"\\uc790\\uc2e0\\uc774\",\"\\uc775\\uc219\\ud55c\",\"\\ub098\\ub780\",\"\\ubb54\\ub370\",\"\\uc78a\\uc5b4\",\"\\ucd5c\\uace0\\uc758\",\"\\ube7c\\uace0\",\"\\uafc8\\uc758\",\"\\ub0a8\\ub4e4\\uc774\",\"\\ub4e4\\uc740\",\"star\",\"nobody\",\"\\uc5ec\\uae30\\uae4c\\uc9c0\",\"right_here\",\"\\uac8c\\uc784\",\"\\ub5a0\\uc62c\\ub77c\",\"\\ub4a4\\ub97c\",\"\\ubc14\\ubcf4\\uac19\\uc774\",\"\\uc7a1\\uc740\",\"\\ud654\\ub824\\ud55c\",\"\\uac71\\uc815\\ub9c8\",\"\\uc18c\\ub9ac\\ub97c\",\"\\uc54c\\uba74\\uc11c\\ub3c4\",\"change\",\"\\uc9c0\\uae08\\uc774\",\"\\uac00\\ub3c4\",\"and_on\",\"\\ud544\\uc694\\uc5c6\\uc5b4\",\"\\ud0c0\\ub294\",\"hey_hey\",\"\\ub290\\uaef4\\uc838\",\"Its_all\",\"\\ub4e4\\uc5b4\\uc640\",\"\\uc598\\uae30\\ub97c\",\"\\uac00\\ubccd\\uac8c\",\"cuz\",\"\\ub0af\\uc120\",\"\\ud55c\\uc794\",\"\\ub108\\ubb34_\\uc88b\\uc544\",\"\\uaca8\\uc6b8\",\"Feel\",\"\\uc8c4\\ub2e4\",\"\\ub3d9\\uc548\",\"\\ubb34\\uc870\\uac74\",\"alone\",\"no_way\",\"\\ub9d0\\ub9cc\",\"\\ub3cc\\uc544\\uac00\",\"i_can\",\"gone\",\"Why\",\"\\uc6c3\\ub294\",\"\\uac00\\uce58\",\"woo_woo\",\"\\uad00\\uacc4\",\"\\ud655\\uc2e4\\ud788\",\"dope\",\"\\ub3c4\",\"\\ud560\\ub798\",\"\\uc870\\uae08\\ub9cc\",\"Life\",\"\\uc2ec\\uc7a5\\uc744\",\"\\uc601\\uc6d0\\ud55c\",\"That\",\"\\ucda9\\ubd84\\ud788\",\"Im_going\",\"\\uadc0\\ub97c\",\"\\ubaa9\",\"were\",\"\\ubbf8\\ub9ac\",\"\\uc0b4\\uace0\",\"When\",\"ready\",\"\\ub0b4\\uac00_\\uc6d0\\ud558\\ub294\",\"\\ub05d\\uc5c6\\uc774\",\"take_a\",\"\\ubb34\\uac70\\uc6b4\",\"\\ubabb\\ud588\\uc5b4\",\"\\uc2e0\\uacbd\",\"go_go\",\"Hip_Hop\",\"\\ubb34\\uc5c7\\uc744\",\"cool\",\"\\uc6b0\\ub9ac_\\ub458\\uc774\",\"\\uc774\\ud574\",\"\\ubaa8\\ub974\\uac8c\",\"\\uc74c\\uc545\\uc5d0\",\"\\uc544\\ube60\",\"put\",\"\\ud145_\\ube48\",\"\\ube44\\uc6cc\",\"Do\",\"\\uc0ac\\uc774\\ub85c\",\"\\uac83\\ub9cc_\\uac19\\uc544\",\"\\uacf3\\uc740\",\"\\uc598\\uae38\",\"\\ub9d8\\ub300\\ub85c\",\"I_miss\",\"\\uac74\\ub370\",\"\\uc704\\ud5d8\\ud574\",\"Welcome_to\",\"\\ube68\\uac04\",\"Imma\",\"\\ud55c\\uc228\",\"\\ud589\\ubcf5\",\"\\uac00\\ub4dd\\ud574\",\"\\ube44\\ub85d\",\"\\uce5c\\uad6c\\ub4e4\\uacfc\",\"\\uc6b8\\uace0\",\"\\ub0b4_\\ub9c8\\uc74c\\uc740\",\"\\ub2f9\\uc2e0\",\"\\ub5a0\",\"\\uc2f6\\uc9c0\\ub9cc\",\"\\uacf3\\uc744\",\"\\uc11c\\uc11c\",\"\\uc548\\uace0\",\"thang\",\"want_it\",\"\\ub208\\uc740\",\"\\uc4f0\\ub294\",\"\\uc9d3\",\"\\ub0b4\\uc77c\\ub3c4\",\"\\uadf8\\uc758\",\"\\uc774\\ub9ac\",\"\\ub098_\\ud640\\ub85c\",\"aint_no\",\"Your\",\"\\uac00\\ub054\\uc529\",\"\\ub0a8\\uc758\",\"\\ubcd1\\uc2e0\",\"give\",\"girls\",\"\\ud53c\",\"hiphop\",\"\\uc804\\ud654\\ub97c\",\"\\ud798\",\"\\ub3d9\\ub124\",\"\\uce58\\uace0\",\"\\ub188\\ub4e4\\uc740\",\"\\ubd10\\ub77c\",\"Yeah_Im\",\"\\ub5a8\\uc5b4\\uc9c0\\ub294\",\"\\uc190\\uac00\\ub77d\",\"\\ub098\\ub984\",\"\\uc870\\uc6a9\\ud788\",\"\\uc5c4\\ub9c8\\uc758\",\"god\",\"homie\",\"\\ucc29\\ud55c\",\"\\uc18c\\ub9ac\\uccd0\",\"\\ubd10\\ubd10\",\"\\ub108\\ub9cc\\uc744\",\"\\ub3d9\\uc2dc\\uc5d0\",\"than\",\"\\uc544\\uce68\\uc5d0\",\"\\uac19\\ub358\",\"step\",\"\\ud55c\\ub9c8\\ub514\",\"\\uc788\\uc5b4\\uc918\",\"\\uc18d\\uc73c\\ub85c\",\"\\ub05d\\ub0b4\",\"Im_gonna\",\"feel_so\",\"\\uaebc\",\"\\ub05d\\uc740\",\"\\uc2a4\\ud0c0\\uc77c\",\"track\",\"face\",\"\\ub108\\ub97c_\\uc704\\ud574\",\"\\ubcf4\\ub0b8\",\"\\uc0c1\\ucc98\\ub97c\",\"\\ub9d0\\ud560\\uac8c\",\"\\uc5bc\\ub978\",\"\\uc788\\ub2e4\",\"\\ub0a8\\uc790\\ub294\",\"\\ub420\\uae4c\",\"my_heart\",\"done\",\"Flow\",\"\\ubbff\\uc9c0\",\"\\ud30c\\ub3c4\",\"ever\",\"\\uc0ac\\uc2e4\\uc740\",\"\\ucc28\\ub840\",\"think_about\",\"\\uc774\\ub798\",\"\\ub108\\uc640\\ub098\",\"\\uba38\\ub9b4\",\"\\ucc0d\\uc5b4\",\"\\ubc1b\\uc740\",\"how_we\",\"\\uc0c8\\ub85c\",\"\\ubaa8\\uc5ec\",\"you_gotta\",\"Know\",\"\\ub2f9\\uc5f0\\ud788\",\"\\uadf8\\ub3d9\\uc548\",\"eyes\",\"\\ud560_\\ub54c\",\"\\ube44\\uc2fc\",\"\\ub355\\uc5d0\",\"\\uc5b4\\uae68\\ub97c\",\"\\uc774\\ub984\\uc744\",\"\\uc7a0_\\ubabb\",\"\\uc5ec\\uc794\",\"\\ub2f5\\uc744\",\"\\uc2f9\",\"\\ubc18\\ubcf5\",\"\\uc0dd\\uac01\\ud558\\ub294\",\"\\ub110_\\ud5a5\\ud55c\",\"how_to\",\"\\uc6b0\",\"\\uce5c\\uad6c\\ub4e4\\uc774\",\"\\uac70\\uc9d3\",\"\\ubc29\\uc2dd\",\"low\",\"\\ud558\\ub2c8\",\"another\",\"\\uc880\\ub354\",\"every_day\",\"\\uc120\\ud0dd\",\"turn\",\"\\uc900\\ube44\\ud574\",\"\\uc788\\ub294\\uc9c0\",\"\\ub728\\uac81\\uac8c\",\"Damn\",\"I_have\",\"be_alright\",\"\\ub7a9\\ud37c\",\"story\",\"\\ubd80\\ub514\",\"\\uc808\\ub300_\\uc548\",\"\\uc5b4\\ub290\\ub367\",\"\\ud55c_\\uc794\",\"\\uc11c\\ub85c\\uac00\",\"\\uba4b\\ub300\\ub85c\",\"\\ud5a5\\ud55c\",\"\\uac70\\ub9ac\\ub294\",\"\\ud798\\ub4e4\\uc5b4\\ub3c4\",\"\\ud480\\uc5b4\",\"\\uc5bc\\uad74\\uc5d0\",\"\\ubc14\\ubcf4\\ucc98\\ub7fc\",\"\\ub098\\ucc98\\ub7fc\",\"\\ub55c\\uc5d0\",\"\\ub0b4\\uac00_\\uac00\\uc9c4\",\"ass\",\"my_god\",\"\\ubcf4\\ub2c8\\uae4c\",\"\\uc774_\\ub178\\ub798\\ub97c\",\"\\ub4e4\\ub9ac\\ub294\",\"\\ud64d\\ub300\",\"\\uadf8\\ub9bc\",\"\\ubd80\\uc871\\ud55c\",\"\\uc5c6\\uc774\\ub3c4\",\"\\uc18c\\ub9ac\\uac00\",\"\\uc8fc\\uace0\",\"wanna_do\",\"\\ub2e4\\ub9cc\",\"\\ub611\\ubc14\\ub85c\",\"\\uba38\\ub9bf\\uc18d\\uc5d0\",\"\\ub3c4\\uc2dc\",\"Lets_get\",\"\\uc218\\uac00_\\uc5c6\\uc5b4\",\"\\uba3c\",\"\\ubd99\\uc5b4\",\"\\uac78\\ub85c\",\"\\ub4e3\\ub294\",\"\\ud589\\ubcf5\\ud558\\uac8c\",\"\\ub204\\uac00_\\ubb50\\ub77c\",\"\\uc774\\ubc88\",\"\\uc788\\uc73c\\ub2c8\\uae4c\",\"\\ucc98\\uc74c\\ubd80\\ud130\",\"what_i\",\"\\uc9c0\\ub294\",\"\\ubc14\\ub77c\",\"\\ub208\\uc744_\\uac10\\uace0\",\"\\ud558\\uc9c0_\\ub9c8\",\"\\ub108\\uc57c\",\"\\uc65c_\\uc774\\ub807\\uac8c\",\"\\ub54c\\ub85c\\ub294\",\"the_air\",\"\\uac04\\ub2e4\",\"ah_ah\",\"\\uc5c6\\uc5b4\\uc11c\",\"\\uc78a\\uc9c0\",\"\\uc544\\ub2c8\\ub77c\\uace0\",\"\\ub9c8\\uc2dc\\uace0\",\"\\ub9ce\\uc5b4\",\"\\uc568\\ubc94\",\"\\uac08\\uc218\\ub85d\",\"drink\",\"hate\",\"\\ubc1b\\ub294\",\"\\ubabb\\ub09c\",\"\\ub188\\uc740\",\"\\ub178\\ub798\\uac00\",\"\\ub9c8\\ub2e4\",\"\\ud6e8\\uc52c\",\"kiss\",\"\\ubb54\",\"\\ub208\\ubd80\\uc2e0\",\"\\uc785\\uc740\",\"\\uc2e0\\uacbd_\\uc548\",\"be_your\",\"\\ubc97\\uc5b4\",\"\\uc9d9\\uc740\",\"\\ub108_\\ud558\\ub098\\ub9cc\",\"\\ub108\\ub97c_\\uc6d0\\ud574\",\"side\",\"\\uc788\\ub2e4\\uace0\",\"where_you\",\"song\",\"shine\",\"Never\",\"\\ub290\\ub080\",\"if\",\"\\ub354_\\ud070\",\"\\uc18d\\uc740\",\"\\ubc18\\ub300\\ub85c\",\"\\uc774\\uc720\\ub294\",\"\\uc0ac\\ub791\\ud55c\\ub2e4\",\"black\",\"\\uc785\\uace0\",\"time_is\",\"\\ud558\\ub098\\uc529\",\"Im_still\",\"Oh_oh\",\"ho\",\"\\uc62c\",\"\\ucc59\\uaca8\",\"\\uc606\\uc5d0\\uc11c\",\"\\ub204\\uad74\",\"\\ub2e4\\ub974\\uc9c0\",\"\\uadf8\\ub148\",\"\\uadf8\\ub140\\uc5d0\\uac8c\",\"\\ud544\\uc694\\ud55c\",\"\\ub3c8_\\ubc8c\\uc5b4\",\"\\ub2ec\",\"\\uc7a0\\uae50\\ub9cc\",\"In\",\"when_I\",\"la\",\"rapper\",\"\\ucc28\\uac11\\uac8c\",\"\\uc5d0\\uc11c\",\"\\ud574\\ubd10\",\"High\",\"\\ud558\\ub8e8\\ud558\\ub8e8\",\"\\ubc18\\ubcf5\\ub418\\ub294\",\"\\uac71\\uc815\\uc740\",\"\\uadf8\\ub294\",\"ooh\",\"\\uc5b4\\uca5c\",\"\\ub108\\ud770\",\"\\ubd24\\uc9c0\",\"fall_in\",\"\\ub9d8\\uaecf\",\"\\uac78\\uc74c\",\"\\uc637\\uc744\",\"\\uc560\\ub4e4\\uc774\",\"\\uadf8\\ub7f4\",\"\\uac83_\\uac19\\uc740\",\"\\ub098\\ub97c_\\ubbff\\uc5b4\",\"Can\",\"\\ubbff\\uc74c\",\"\\uac00\\uc9c0\\ub9c8\",\"Put_your\",\"\\uadf8\\ub0a0\",\"\\uc9c0\\ub098\\uba74\",\"\\uc5c4\\ub9c8\\uac00\",\"your_heart\",\"\\ud589\\ubcf5\\ud588\\ub358\",\"C\",\"\\ud639\\uc2dc\\ub098\",\"\\ubc84\\ub838\\uc5b4\",\"\\uadf8_\\ub204\\uad6c\\ub3c4\",\"\\uc9c4\\uc9dc\\ub85c\",\"\\ub5a8\\uc5b4\\uc838\",\"\\uc798\\ud574\",\"\\uc544\\ubb34\\ub3c4_\\ubaa8\\ub974\\uac8c\",\"\\ub2ec\\ub7ec\",\"\\ubaa9\\uc5d0\",\"\\ucee4\\ud53c\",\"\\ub05d\\ub0ac\\uc5b4\",\"\\ub2f5\",\"\\ub9e4\\uc77c_\\ub9e4\\uc77c\",\"\\ub178\\ub7a0\",\"\\ud0dc\\uc6cc\",\"\\uc788\\ub098\",\"fresh\",\"try\",\"\\uc624\\ub298\\uc758\",\"\\ub098_\\uc5ed\\uc2dc\",\"\\ub0a0\\uc544\",\"\\uc624\\ub79c\\ub9cc\\uc5d0\",\"\\ucd94\\uc5b5\\uc744\",\"\\ub0a0\\ub4e4\",\"\\ud798\\ub4e4\\uac8c\",\"your_mind\",\"\\uc640\\uc11c\",\"\\uc2dc\\uac04\\uc758\",\"\\ub9d0\\ud558\\uace0\",\"\\ubc24\\ub9c8\\ub2e4\",\"we_go\",\"\\ub0b4\\uaebc\",\"\\uc218_\\uc788\\uc744\\uae4c\",\"\\uc720\\ub09c\\ud788\",\"\\ub77c\\ub294\",\"\\ubabb\\ud558\\uac8c\",\"\\ud55c\\uc5c6\\uc774\",\"\\uc654\\uc9c0\",\"\\ubd04\",\"She\",\"\\ub9c8\\uc800\",\"\\ud2b9\\ubcc4\\ud55c\",\"\\uc27f\",\"\\uc0b0\",\"\\uc774\\uacf3\\uc5d0\",\"\\ub2ee\\uc740\",\"\\ub0b4_\\ub9d8\\ub300\\ub85c\",\"\\ubb34\\uc11c\\uc6cc\",\"\\ubcf4\\ub124\",\"\\uadf8\\ub7ec\\uba74\",\"\\ub208\\uc744_\\uac10\\uc544\",\"\\uc0ac\\ub791\\ud55c\\ub2e4\\uace0\",\"lonely\",\"\\uc544\\ud504\\uac8c\",\"\\uc5bc\\uad74\\uc774\",\"\\uc5b8\\uc81c\\ub4e0\",\"ur\",\"\\ub2f5\\uc740\",\"\\uc8fc\\ubcc0\",\"\\uc0c1\\ud0dc\",\"\\ud14c\\ub2c8\\uae4c\",\"\\ubaa8\\ub974\\uaca0\\uc9c0\\ub9cc\",\"\\uae38\\uc5d0\",\"\\uac10\\uc815\\uc740\",\"\\uace8\\ub77c\",\"\\ub458\\ub9cc\\uc758\",\"\\uc5b4\\ucc0c\",\"\\uadf8\\uac70\",\"\\uc798\\ubabb\",\"pain\",\"\\ud55c\\ub2e4\\uba74\",\"\\ub354\\ub7ec\\uc6b4\",\"Hello\",\"\\uc544\\ub4e4\",\"Fly\",\"Cause\",\"he\",\"\\uc790\\ub9ac\\ub97c\",\"\\uc5f4\",\"\\uc0b4_\\uc218\",\"\\uba4b\\uc9c0\\uac8c\",\"\\ube44\\uce5c\",\"\\ud655\",\"\\ub0b4_\\ub208\\uc5d4\",\"morning\",\"\\uac00\\uc871\",\"\\uc9c4\",\"hit\",\"\\ubb38\",\"\\uc5b4\\ub51c\",\"\\uc2eb\\uc740\",\"\\uae30\\ub2e4\\ub9ac\\ub294\",\"\\uc801\\uc5b4\\ub3c4\",\"Give_me\",\"\\uc0dd\\uac01\\ub3c4\",\"\\uc9c4\\uc2ec\\uc744\",\"La_La\",\"\\uc778\\ub9c8\",\"\\ub204\\uad70\",\"\\uc77c\\ub3c4\",\"\\ud558\\ub098\\ub85c\",\"\\ubb50\\ub4e0\\uc9c0\",\"\\uc2dc\\uc791\\uc740\",\"\\ubd84\\uba85\\ud788\",\"\\ubbf8\\uc18c\\uac00\",\"wow\",\"\\ube7c\",\"\\ud55c\\ucc38\",\"OH\",\"\\uac00\\ubcbc\\uc6b4\",\"\\uac83\\ub4e4\\uc740\",\"\\ub2e4\\uac00\\uac00\",\"\\uacf5\\uae30\",\"wave\",\"\\ucda9\\ubd84\\ud574\",\"4\",\"\\ub530\\uc704\\ub294\",\"\\ub9de\\ub294\",\"\\ub2ec\\ub9ac\\ub294\",\"only_one\",\"\\uc5b4\\uba38\\ub2c8\",\"\\uc790\\uc2e0\",\"\\uac10\\ud788\",\"rappers\",\"back_in\",\"If\",\"\\uc778\\uc0dd\\uc774\",\"\\ubb50\\ub77c\",\"mirror\",\"\\uac10\\uc815\\uc774\",\"\\uba40\\uc5b4\",\"Get_it\",\"maybe\",\"my_lady\",\"\\uc0ac\\ub791\\ud574_\\uc0ac\\ub791\\ud574\",\"\\uc774_\\ub178\\ub79c\",\"\\uc804\\ud574\",\"made\",\"\\ucee4\\ub2e4\\ub780\",\"\\ud150\\ub370\",\"\\ub290\\uaef4\\ubd10\",\"\\ud754\\ub4e4\\ub9ac\\ub294\",\"\\ub0b4\\uac00_\\uba3c\\uc800\",\"We_are\",\"\\ub9c8\\uc694\",\"\\uc2f6\\uc5b4\\uc11c\",\"\\uc785\\uc220\\uc744\",\"\\ubb38\\uc790\",\"\\ub208\\ubb3c\\uc740\",\"Love_is\",\"\\uadc0\",\"i_need\",\"\\uc5c6\\uc744\",\"wait\",\"\\uc774_\\ub178\\ub798\\ub294\",\"\\uac04\\uc9c0\",\"Music\",\"\\ubc00\\uc5b4\",\"\\uc774\\uae30\\uc801\\uc778\",\"talk\",\"Who\",\"\\uc54c\",\"\\ubc1d\\uac8c\",\"\\ubcf4\\uae30\",\"\\uace1\",\"\\ud560_\\ub9d0\\uc774\",\"\\ubcfc\\uae4c\",\"\\uc220\\uc774\",\"all_right\",\"\\ubc14\\ub77c\\ubcf4\\uba70\",\"\\ubcf4\\uba74\\uc11c\",\"\\ub450_\\ubc88\",\"\\uc7a0\\ub4e0\",\"give_up\",\"\\uc18d\\uc774\",\"\\ubaa8\\uc544\",\"\\ud1b5\\ud574\",\"things\",\"\\uc6d0\\ud55c\\ub2e4\\uba74\",\"\\ub5a8\\ub9ac\\ub294\",\"\\ubd24\\ub358\",\"\\ubabb\\ud574\\ub3c4\",\"\\uc788\\uc5c8\\uc9c0\",\"even\",\"Come\",\"\\uc6b0\\ub9ac\\ub4e4\\uc758\",\"getting\",\"\\ub0a0\\uc544\\uac00\",\"\\ubc1f\\uace0\",\"\\ub4e0\",\"Look_at\",\"\\ubcf4\\ub2e4_\\ub354\",\"said\",\"\\ubd88\\uc548\\ud574\",\"P\",\"bang\",\"fame\",\"\\ub9e4\",\"\\ub354_\\uc774\\uc0c1\\uc740\",\"Im_feelin\",\"\\uc5f4\\uc5b4\",\"\\ud588\\ub294\\ub370\",\"\\ub9d0\\ud588\\uc796\\uc544\",\"\\ud559\\uad50\",\"give_it\",\"line\",\"Day\",\"fire\",\"goin\",\"\\ud589\\ub3d9\",\"\\uac70\\uae30\\uc11c\",\"\\uc5c6\\uc5c8\\uc9c0\",\"\\ubd99\\uc7a1\\uace0\",\"walk\",\"\\ub4e4\\uc774\",\"\\ub108_\\uc5c6\\uc778\",\"\\ub9d0\\ub4e4\",\"\\ub2e8\\uc5b4\",\"THE\",\"MC\",\"\\ub530\\uc2a4\\ud55c\",\"Oh_baby\",\"\\uc9c0\\uaca8\\uc6cc\",\"\\ub0a8\\uc790\\ub4e4\\uc740\",\"about_me\",\"\\uace0\\uac24\",\"\\uc6d0\\ud558\\uc9c0\",\"\\ucda4\\uc744_\\ucdb0\",\"\\uac78\\uc5b4\\uac00\\ub294\",\"\\ubabb\\ud588\\ub358\",\"Stop\",\"our\",\"\\uc5f4\\uc815\",\"\\uc548_\\ub418\\ub294\",\"\\uac77\\uace0\",\"\\uc9d1\\uc73c\\ub85c\",\"\\uc2dc\\uac04\\ub3c4\",\"\\ud558\\ub2c8\\uae4c\",\"lie\",\"\\uad1c\\ud55c\",\"\\uac74\\ubc30\",\"lets_get\",\"\\uc62c\\ub77c\\uac00\\ub294\",\"Hot\",\"\\uc774_\\uc138\\uc0c1\",\"break\",\"\\ucc0d\\uace0\",\"\\uc228\\uc5b4\",\"together\",\"\\uae68\",\"\\uc5b4\\uc0c9\\ud55c\",\"Lady\",\"BABY\",\"\\uc544\\ubb34_\\uac83\\ub3c4\",\"\\ub9cc\\ub0a8\",\"\\ube60\\uc9c4\",\"\\ub54c\\ub824\",\"\\ub110_\\ubcf4\\uba74\",\"get_low\",\"\\ub204\\uad70\\uac00\\uc758\",\"\\uc369\\uc740\",\"peace\",\"\\uc218\\uac00\",\"\\uc5c6\\ub2e4\\uba74\",\"\\uc57d\\uc18d\\ud574\",\"Make\",\"\\ud574\\uc904\\uac8c\",\"\\uc774\\uc720\\uac00\",\"\\uc911\\uc5d0\",\"Still\",\"\\ub0b4_\\ud488\\uc5d0\",\"rain\",\"\\uc798\\ub09c\",\"\\ub611\\uac19\\uc544\",\"\\ub5a0\\ub098\\uac00\",\"\\uc120\\ubb3c\",\"\\uadf8\\ub140\\uc640\",\"the_real\",\"\\uc560\\ucd08\\uc5d0\",\"true\",\"\\ubc18\\ub4dc\\uc2dc\",\"\\ub2ec\\ub824\\uac00\",\"dont_give\",\"\\ubb3b\\uc9c0\",\"\\ubd80\\uc871\\ud574\",\"\\ubcf4\\ub0b4\\ub294\",\"\\uc54a\\uc744\\uac8c\",\"\\uc131\\uacf5\",\"\\ubbf8\\uce5c_\\ub4ef\\uc774\",\"\\ub208\\ubb3c\\ub85c\",\"\\ub20c\\ub7ec\",\"\\uadf8\\ub7ac\\uc5b4\",\"You_dont\",\"\\ub2f4\\uc740\",\"\\uc11c\\uc788\\uc5b4\",\"S\",\"UP\",\"the_only\",\"New\",\"\\ub098\\ub3c4_\\uc54c\\uc544\",\"\\ub9d0\\ud574\\ub3c4\",\"Real\",\"\\ubfd0\\uc57c\",\"\\ucf54\",\"\\ud568\\ubd80\\ub85c\",\"\\uc790\\uc874\\uc2ec\",\"\\ub208\\uc73c\\ub85c\",\"\\uac00\\ub824\",\"wanna_get\",\"\\uafc8\\uc5d0\\uc11c\",\"\\ub35c\",\"\\ub05d\\uc5c6\\ub294\",\"\\uc815\\ub3c4\\ub85c\",\"\\uc81c\",\"\\ubcf4\\uc790\",\"bye\",\"\\ubb58_\\ud574\\ub3c4\",\"\\uadfc\\ub370_\\uc65c\",\"\\uc0ac\\ub77c\\uc9c4\",\"Tonight\",\"\\uc544\\ud514\\uc744\",\"\\ubcf4\\uc774\\uc9c0\",\"\\ubc88\",\"\\ub9d0\\ud574\\ubd10\",\"\\ucc28\\uc774\",\"feelin\",\"\\uc774_\\ub178\\ub7a0\",\"club\",\"\\ud604\\uc7ac\",\"N\",\"\\uc54a\\ub358\",\"\\ubcf4\\uace0\\uc2f6\\uc5b4\",\"\\uc5bc\\ub9c8\",\"a_good\",\"\\ubc14\\ub78c\\uc774\",\"fuck_that\",\"groove\",\"\\uc313\\uc778\",\"\\uc774\\ubc88\\uc5d4\",\"its_all\",\"team\",\"\\uc548\\ub418\\ub294\",\"\\uc798_\\ubab0\\ub77c\",\"coming\",\"\\ud55c\\uad6d\",\"\\uc2e0\\ubc1c\",\"so_good\",\"\\uc131\\uaca9\",\"\\uc624\\ub298\\uc744\",\"\\uc640\\ub3c4\",\"\\ub0a0\\uac1c\\ub97c\",\"\\uac10\\uc0ac\\ud574\",\"want_to\",\"V\",\"\\uc800\\uae30_\\uc800\",\"\\ub798\\ud37c\",\"\\ub3cc\\uc544\\uac00\\ub294\",\"home\",\"\\uc544\\ubb34_\\ub9d0\\ub3c4\",\"Stand_up\",\"aye\",\"\\ud074\\ub7fd\",\"\\ud799\\ud569\\uc740\",\"em\",\"\\uba4d\\uccad\\ud55c\",\"\\uac83\\ub4e4\\uc744\",\"a_dream\",\"\\ub9c8\\uc74c\\uc758\",\"\\ubaa8\\ub97c\",\"\\ub0b4\\uc77c\\uc744\",\"burn\",\"\\uc0ac\\ub791\\ub3c4\",\"\\uac19\\uc544\\uc11c\",\"\\uc6b8\\ub824\",\"\\uc904_\\uc218\",\"easy\",\"\\uc62c\\ub77c\\ud0c0\",\"\\uc138\\uc6cc\",\"\\ubc14\\ub78c\\uc5d0\",\"\\ubc29\\uc5d0\",\"\\uc870\\uc2ec\\ud574\",\"\\uc544\\uce68\\uc774\",\"\\ub418\\ub824\",\"Im_doing\",\"\\uac01\\uc790\\uc758\",\"been\",\"\\uc4f8\\ub370\\uc5c6\\ub294\",\"\\uc804\\ud654\\ud574\",\"\\uba3c\\uc9c0\",\"\\ub0a8\\uaca8\\uc9c4\",\"\\uc54a\\uc558\\uc9c0\",\"\\uc788\\uc5c8\\uc5b4\",\"\\uc0c1\\ucc98\\uac00\",\"\\uacf3\\uc774\",\"\\uc5b4\\ub460\\uc774\",\"\\uc2e0\\uc774\",\"\\ubb3c\\uace0\",\"\\uc544\\uae4c\\uc6cc\",\"\\uc0c1\\uc0c1\",\"\\ubc14\\ubcf4_\\uac19\\uc740\",\"my_everything\",\"\\uc2dc\\uc120\\uc744\",\"\\uac00\\uc9dc\",\"\\uc5ec\\ub984\",\"zone\",\"\\uc5b4\\ub824\\uc6cc\",\"hold_up\",\"\\uc55e\\uc744\",\"Woo\",\"\\ub193\\uc740\",\"Oh_yeah\",\"talk_about\",\"\\ube44\\uc2b7\\ud55c\",\"\\ud55c\\ucc38\\uc744\",\"soul\",\"of_my\",\"\\ubbf8\\uce5c\\ub4ef\\uc774\",\"\\uadf8\\ub54c\\ub294\",\"\\ud758\\ub7ec\\uac00\\ub294\",\"\\uc774\\uc0c1\\ud574\",\"haters\",\"\\ud558\\ub098\\ub9cc\",\"\\uc2e0\\uc740\",\"Rock\",\"\\ub9cc\\ub098\\uc11c\",\"\\ubd24\\uc790\",\"\\uc5c6\\uaca0\\uc9c0\",\"\\uc774\\uc0c1\",\"\\uc758\\ubbf8\",\"\\uadf8\\ub54c\\uc758\",\"\\ud558\\ub298\\uc774\",\"life_is\",\"\\ub2f9\\ub2f9\\ud788\",\"\\uac8c_\\uc544\\ub0d0\",\"\\uc5ec\\uc790\\ub4e4\\uc740\",\"Take\",\"i_aint\",\"\\uc2dc\\uc791\\ub41c\",\"every_night\",\"\\ub180\\ub798\",\"\\ub9e4\\uc77c\\uac19\\uc774\",\"\\ub110_\\ubcfc\",\"\\uc5c6\\uc5c8\\ub358\",\"I_mean\",\"\\ub0a8\\ub4e4\",\"\\ub9d0\\uc5c6\\uc774\",\"Hey_Hey\",\"\\ubaa9\\uc18c\\ub9ac\\uac00\",\"\\ud488\\uc5d0\",\"\\uc5ec\\uae30\\ub294\",\"\\ud758\\ub824\",\"\\ubd80\\ub4dc\\ub7ec\\uc6b4\",\"\\ub300\\ud55c\\ubbfc\\uad6d\",\"\\ubfd0\\uc778\",\"Baby_Baby\",\"\\uc0ac\\uc18c\\ud55c\",\"leave\",\"\\uc5f0\\uc560\",\"\\ubd80\\ubaa8\\ub2d8\",\"\\uc788\\ub2c8\",\"\\uc783\\uace0\",\"\\uc774\\ubcc4\\uc758\",\"\\uc21c\\uac04\\uc5d0\",\"\\uc11c\\uc11c\\ud788\",\"we_gonna\",\"\\ub418\\uaca0\\uc9c0\",\"\\uc788\\ub294_\\uac74\",\"\\uc608\\uc804\",\"Bitch\",\"\\uc14b\",\"\\uc5ec\\uc790\\ub97c\",\"best\",\"\\ub192\\uc544\",\"\\uc9c0\\uae08\\ucc98\\ub7fc\",\"king\",\"\\ub098\\uc9c0\",\"\\ucda4\\uc744\",\"\\ub204\\uad70\\uac00\\ub294\",\"\\uc881\\uc740\",\"smile\",\"\\ubb38\\uc744\",\"\\ub110_\\ucc98\\uc74c\",\"\\uc0b4\\uc544\\uac00\",\"\\uac07\\ud600\",\"\\uc774\\uc0c1\\ud55c\",\"favorite\",\"\\ub108\\ub97c_\\uc0ac\\ub791\\ud574\",\"\\uc788\\uc73c\\ub2c8\",\"\\ub0a0_\\ub450\\uace0\",\"blue\",\"\\uc5c6\\ub2e4\\ub294\",\"\\ubaa8\\ub974\\uc9c0\",\"\\uca54\\uc5b4\",\"Be\",\"\\ud5c8\\ub9ac\",\"\\ub9e4\\ub825\",\"\\uc5ec\\uc790\\ub4e4\",\"\\ubc14\\ubed0\",\"\\ub7a9\\uc740\",\"\\uc5b4\\uca0c\\ub4e0\",\"Got\",\"ye_ye\",\"\\ubb3c\\uc744\",\"\\ud2f0\",\"\\uc788\\uc74c\",\"\\ub300\\ud654\",\"\\uc704\\uce58\",\"doing\",\"\\uc8fd\\uc5b4\",\"\\uc80a\\uc740\",\"\\uc5ec\\ud0dc\\uaecf\",\"\\uac70\\ub9b4\",\"\\ub9d0\\uc544\\uc694\",\"go_back\",\"\\uc950\\uace0\",\"gotta\",\"\\uacf3\\uc73c\\ub85c\",\"\\uac70\\ub2c8\",\"mean\",\"\\uc6c3\\uc74c\\uc774\",\"\\uc9d1\\uc5d0\\uc11c\",\"\\ub450_\\ub208\",\"\\ub531\\ud788\",\"\\uae30\\uc5b5\\uc740\",\"\\ub9e1\\uaca8\",\"\\ub0b4\\ub9ac\\ub294\",\"\\uadf8\\ub9cc\\ud07c\",\"\\uc54a\\uc744\\uae4c\",\"Time\",\"\\uc778\\uc815\",\"\\uc65c_\\uc774\\ub9ac\",\"\\uc6cc\",\"\\ud3b8\\ud788\",\"\\ube44\\ucdb0\",\"\\uae30\\ud68c\",\"\\ubcfc\\ub798\",\"\\ub54c\\ubd80\\ud130\",\"\\ubcf5\\uc7a1\\ud55c\",\"\\uc2f8\\uc6c0\",\"\\ub0b4_\\uc774\\ub984\\uc744\",\"hands_in\",\"\\ubcc4\\uc774\",\"\\ub108\\ubcf4\\ub2e4\",\"\\ud76c\\ub9dd\\uc744\",\"\\uc6b8\\ub9ac\\ub294\",\"\\uc9c0\\ub098\\ub3c4\",\"\\ubc1c\\uac78\\uc74c\",\"\\ud604\\uc2e4\\uc758\",\"\\ubd80\\ub974\\ub294\",\"For\",\"we_gon\",\"imma\",\"\\ub9cc\\ub4e4\\uace0\",\"a_lot\",\"\\ub2e4\\ub140\",\"\\ub9e4\\uc77c\\ub9e4\\uc77c\",\"\\uc774_\\ub290\\ub08c\",\"\\ub4e4\\uc5b4\\ub3c4\",\"\\ucc38\\uace0\",\"Please\",\"\\ubc49\\uace0\",\"\\ub178\\ub294\",\"\\uac83\\ubcf4\\ub2e4\",\"\\ub0a0\\uc744\",\"Boy\",\"first\",\"these\",\"\\ub7a9\\uc774\",\"\\ud574\\uc694\",\"\\uc775\\uc219\\ud574\",\"They\",\"\\uc0b4\\uba70\\uc2dc\",\"J\",\"\\uc2f6\\uc9c0_\\uc54a\\uc544\",\"call_it\",\"\\uc9c0\\ucf1c\\ubd10\",\"\\ubaa9\\uc774\",\"L_O\",\"hand\",\"\\ub2f5\\ub2f5\\ud55c\",\"Eh_Oh\",\"\\uadf8_\\uc790\\ub9ac\\uc5d0\",\"\\ub180\\uace0\",\"wanna_go\",\"\\uc800_\\ud558\\ub298\",\"\\uac83\\uc5d0\",\"\\ub4e4\",\"\\ubc24\\uc758\",\"\\uac71\\uc815_\\ub9c8\",\"\\uadf8\\ub9ac\\uc6b4\",\"understand\",\"\\ube44\\ud2b8\",\"place\",\"tight\",\"\\uae30\\ub3c4\",\"\\ub0b4_\\uc0b6\\uc5d0\",\"\\uad6c\\ub984\",\"doin\",\"\\uadf8\\ub4e4\\uc774\",\"\\ub2a6\\uc740\",\"\\uc5b4\\ub518\\uac00\",\"\\uc54c\\uaca0\\uc5b4\",\"\\ud799\\ud569\\uc744\",\"\\ub300\\uccb4_\\uc65c\",\"\\uc544\\ubb34\\ub807\\uc9c0_\\uc54a\\uc740\",\"\\uadf8\\ub300\\uc5d0\\uac8c\",\"T\",\"sing\",\"\\ub2c8_\\uc606\\uc5d0\",\"\\uc2dc\\uc120\\uc740\",\"\\ubc1b\\uc9c0\",\"\\uc9c0\\ub3c5\\ud55c\",\"\\ub0a8\\uc744\",\"without_you\",\"Good_bye\",\"With\",\"\\ub188\\ub4e4\\uc774\",\"\\ub0a0\\ub824\",\"\\uac01\\uc790\",\"\\uacf5\\uac04\",\"\\ud3b4\",\"sleep\",\"\\uadf8\\ub54c\\uac00\",\"\\ub2f9\\uc5f0\\ud55c\",\"\\ub178\\uc608\",\"Like_a\",\"respect\",\"\\ub54c\\ucbe4\",\"\\uc5ec\\uae38\",\"\\ub0a0\\uc740\",\"\\uac00\\uce58\\ub97c\",\"\\ud558\\ud558\",\"\\ud558\\ub8e8\\ub294\",\"Thats_right\",\"\\ub2f4\\uae34\",\"\\uc774\\uc0c1\\ud558\\uac8c\",\"ME\",\"\\ub5a0\\ub098\\uace0\",\"\\uadf8_\\uc548\\uc5d0\",\"\\uad1c\\ucc2e\\uc740\",\"\\ucee4\",\"Right\",\"\\uc8fc\\uc704\",\"\\ub108\\ub124\\uac00\",\"\\ubcf4\\ub2e4\\ub294\",\"\\ud3b8\\ud55c\",\"\\ubc16\\uc73c\\ub85c\",\"\\uc88b\\uc558\\ub358\",\"\\ub9de\\uc9c0\",\"\\uc0dd\\uae34\",\"\\ud5a5\\uae30\\uac00\",\"\\uc2e4\\ub825\",\"\\uc815\\ub3c4\",\"turn_it\",\"\\ud544\\uc694\\ud55c_\\uac74\",\"\\uc801\\ub2f9\\ud788\",\"How\",\"\\ub108\\ub97c_\\uc704\\ud55c\",\"shut_up\",\"\\ub610\\ub2e4\\uc2dc\",\"\\uc790\\uc720\\ub86d\\uac8c\",\"\\uacfc\\uac70\",\"\\ube44\\ub85c\\uc18c\",\"\\uc644\\ubcbd\\ud574\",\"hands\",\"\\uadf8\\ud1a0\\ub85d\",\"\\ub294\",\"\\uc0ac\",\"chillin\",\"\\uc800\\ub141\",\"\\ub530\\ub77c\\uac00\",\"\\uc758\",\"\\ucc3e\\uc9c0\",\"\\uc3df\\uc544\\uc9c0\\ub294\",\"\\ud574\\uc57c\",\"\\ucc2c\",\"street\",\"\\ub290\\ub08c\\uc744\",\"\\uae30\\ubd84_\\uc88b\\uc740\",\"\\ud578\\ub4dc\\ud3f0\",\"\\ubc88\\ud638\",\"know_that\",\"\\uc0c8\\ub86d\\uac8c\",\"\\ubaa8\\ub974\\uc9c0\\ub9cc\",\"\\ub46c\",\"no_matter\",\"\\ub77c\\uba74\",\"listen\",\"\\uc131\\uacf5\\uc758\",\"\\uc190\\uc744_\\uc7a1\\uc544\",\"\\uc65c_\\uc774\\ub798\",\"work_it\",\"\\ub9f4\\ub3cc\\uc544\",\"alive\",\"\\uc548\\ubcf4\\uc5ec\",\"\\ub9d0\\uc790\",\"\\ubcf4\\uc774\\ub124\",\"\\ud574\\ubd10\\ub3c4\",\"\\ud3b8\\ud574\",\"\\uc26c\\uace0\",\"No_more\",\"an\",\"\\ubd88\\uc548\\ud55c\",\"\\uc5c6\\uae30\\uc5d0\",\"\\ube44\",\"\\ud145\\ube48\",\"\\ub098\\uc911\\uc5d0\",\"my_soul\",\"\\uae30\\ub2e4\\ub9b4\\uac8c\",\"for_ma\",\"\\uc740\",\"\\ub5a8\\uc5b4\\uc9c4\",\"\\uc5b4\\uae40\\uc5c6\\uc774\",\"\\ub113\\uc740\",\"\\ub098\\uc774\\uac00\",\"\\ud55c_\\ubc88\\ub9cc\",\"Ye\",\"\\uc8fd\\uc5ec\",\"\\uc7a1\\uc9c0\",\"\\uc8fc\\ubcc0\\uc5d0\",\"\\uac78\\ub9b0\",\"\\ud53c\\uace4\\ud574\",\"\\uc624\\ub298\\ubc24\\uc740\",\"\\uc6b0\\uc5f0\\ud788\",\"\\ud3b8\\uc9c0\",\"R\",\"movin\",\"whatever\",\"\\ub118\\uce58\\ub294\",\"good_life\",\"\\ube60\\ub978\",\"\\ub0b4\\ub9b0\",\"\\uac77\\uc9c0\",\"I_could\",\"\\ub300\\ub2f5\\ud574\",\"\\uc218\\ub3c4\",\"\\ub9c8\\uc774\\ud06c\",\"\\uba5c\\ub85c\\ub514\",\"Good_Night\",\"\\uac00\\uc838\",\"we_do\",\"\\ub108_\\ub55c\\uc5d0\",\"\\uc544\\ud514\",\"\\ub0b4\\ubc84\\ub824\\ub46c\",\"\\uc624\\ub798_\\uc624\\ub798\",\"\\uae38\\ub85c\",\"\\uc783\\uc5b4\",\"\\ud588\\uace0\",\"\\uc54c\\uace0_\\uc788\\uc5b4\",\"\\uc8fc\\uba38\\ub2c8\",\"\\uc885\\uc774\",\"\\ub0b4\\uace0\",\"\\uc624\\ub298\\ubd80\\ud130\",\"boys\",\"\\ub9c8\\uad6c\",\"\\uc606\",\"\\uc790\\uace0\",\"\\ub2ec\\uc774\",\"\\uafc8\\uc744_\\uafd4\",\"\\ud544\\uc694\",\"the_sky\",\"No_No\",\"\\uadf8\\uac8c_\\ubc14\\ub85c\",\"\\uc11c\\ub85c\\uc5d0\\uac8c\",\"Cant\",\"\\ub09c\\ub370\",\"\\uc2f6\\uc5c8\\uc5b4\",\"\\uce5c\\uad6c\\ub294\",\"\\uce5c\\uad6c\\uc57c\",\"eh\",\"Turn_up\",\"\\ub9cc\\ub098\\uba74\",\"gold\",\"somebody\",\"\\ubc29\\uae08\",\"\\uc2dc\\uacc4\",\"\\uc801\\uc5b4\",\"believe\",\"everywhere\",\"start\",\"Ay\",\"Ah\",\"\\uadf8\\ub807\\uc9c0\",\"smoke\",\"\\uc54c\\uac8c\",\"\\uc5b8\\uc81c\\ucbe4\",\"\\uc654\\ub2e4\",\"\\uc5f0\\uacb0\\uace0\\ub9ac\",\"nice\",\"\\ub2e4\\ub978_\\uc0ac\\ub78c\",\"\\uc8fc\\uc704\\ub97c\",\"\\uc6b4\\uba85\",\"find\",\"\\ucc28\\ub9c8\",\"\\uc8fc\\uc9c0\",\"\\uc26c\\uc5b4\",\"sexy\",\"\\uae30\\ubd84\\uc744\",\"\\ub3c8\\uc73c\\ub85c\",\"youre_my\",\"Dont_be\",\"through\",\"\\ub108\\ub9cc_\\uc788\\uc73c\\uba74\",\"\\ubd04\\uc774\",\"\\ub3c8_\\ub3c8\",\"\\uba40\\ub9ac\\uc11c\",\"\\uc2eb\\uc5b4\\uc11c\",\"your_hands\",\"got_no\",\"\\uc544\\ub2d0\\uae4c\",\"\\ub2e5\\uce58\\uace0\",\"\\uc9c4\\uc815\\ud55c\",\"\\uc790\\uc5f0\\uc2a4\\ub808\",\"\\uace0\\uc791\",\"\\uadc0\\uc5ec\\uc6b4\",\"\\uc9c0\\ub098\\uac00\",\"alright_alright\",\"\\uadf8\\ub7ec\\ub098\",\"wit\",\"\\uc5b8\\uc820\\uac00\\ub294\",\"\\ub0b4_\\ub7a9\\uc740\",\"\\uc794\\ub729\",\"\\ub9cc\\ub0a0\",\"and_only\",\"\\ub4dc\\ub294\",\"\\uc790\\ub9b4\",\"\\uc785\\uc220\\uc5d0\",\"\\uc785\\uc220\\uc774\",\"\\uc8fd\\uc5b4\\ub3c4\",\"\\uc5b4\\ub978\\uc774\",\"\\ucde8\\ud55c\",\"\\uae38\\uc5b4\",\"Youre\",\"\\ucd5c\\uace0\",\"\\ucc98\\uc74c\\uc5d4\",\"\\uc5f4\\uc815\\uc744\",\"You_make\",\"\\uba38\\ub9ac\\ub294\",\"im_so\",\"\\ub5a0\\ub098\\uac04\",\"\\uc774\\uc81c\\uc640\",\"\\uc0dd\\uac01\\ud558\\uba74\",\"\\ubc29\\ubc95\",\"\\uc54c\\uc558\\uc9c0\",\"\\ubc30\\uc6cc\",\"\\ud558\\ub298\\uc740\",\"\\ubcf4\\uc774\\uc9c0_\\uc54a\\ub294\",\"\\ub9db\",\"\\ud558\\uc790\",\"\\ub5a0\\uc624\\ub974\\ub294\",\"\\ub2f9\\uc2e0\\uc744\",\"\\uc0ac\\ub294\\uac8c\",\"\\ud0a4\\uc6cc\",\"Nah_Nah\",\"\\ud65c\\uc9dd\",\"\\ub098\\ub97c_\\uc704\\ud55c\",\"\\uc790\\uccb4\\uac00\",\"\\uac70\\ub294\",\"\\uacb0\\uacfc\\ub294\",\"\\uae4c\\ub9cc\",\"\\uadf8\\ub54c\\ub85c\",\"\\ub97c\",\"\\uc77c\\uc0c1\",\"\\uc77c\\uc5b4\\uc11c\",\"\\uc88b\\uc9c0\",\"E\",\"don\\u2019t\",\"good_bye\",\"\\ubcf4\\uc5ec\\ub3c4\",\"I_said\",\"\\uc791\\uc5c5\\uc2e4\",\"so_much\",\"\\uac70\\uae30\\uc5d0\",\"\\ub9ce\\uc9c0\",\"\\ud55c\\ubc88\\ub3c4\",\"remember\",\"\\uace0\\ubbfc\\uc740\",\"\\uc54c\\uc9c0\\ub9cc\",\"gonna_do\",\"\\uc5ec\\uae30\\uac00\",\"\\uc190\\uc740\",\"dont_stop\",\"\\uc190\\uc7a1\\uace0\",\"\\uc774\\ubcc4\\uc740\",\"Peace\",\"\\uadf8\\ub9cc\\ud574\",\"\\ub204\\uad6c\\ub294\",\"better_than\",\"talk_to\"],\"word\":[\"\\ub09c\",\"\\ub0b4\",\"\\ub0b4\\uac00\",\"\\ub2e4\",\"you\",\"\\ub10c\",\"\\ub0a0\",\"\\uadf8\",\"I\",\"\\ub610\",\"\\ub098\\ub294\",\"\\ub098\",\"\\ub354\",\"\\uc774\",\"\\ub110\",\"\\ub108\\uc758\",\"\\ub098\\ub97c\",\"me\",\"\\ud574\",\"and\",\"\\ub098\\uc758\",\"it\",\"\\ub2c8\",\"\\uc5c6\\uc5b4\",\"the\",\"\\ub2c8\\uac00\",\"\\uc774\\uc81c\",\"\\ub2e4\\uc2dc\",\"\\uc9c0\\uae08\",\"\\ub108\",\"\\ub0b4\\uac8c\",\"\\uadf8\\ub0e5\",\"\\uadf8\\ub798\",\"baby\",\"\\uc6b0\\ub9b0\",\"\\uc6b0\\ub9ac\",\"\\uc65c\",\"my\",\"\\uc5c6\\ub294\",\"\\ub108\\ub97c\",\"\\ub124\",\"\\uc788\\uc5b4\",\"\\uc774\\uc820\",\"to\",\"like\",\"\\uac74\",\"\\uc880\",\"\\ub108\\ubb34\",\"up\",\"\\uc548\",\"yeah\",\"a\",\"Im\",\"\\ub3fc\",\"\\ubaa8\\ub450\",\"love\",\"\\ub108\\ub294\",\"\\uac78\",\"\\ud55c\",\"\\uc798\",\"\\ubd10\",\"girl\",\"that\",\"\\ub124\\uac00\",\"\\ubabb\",\"\\uacc4\\uc18d\",\"\\uac19\\uc740\",\"\\uc788\\ub294\",\"\\uc774\\uac74\",\"on\",\"\\ub108\\uc640\",\"\\uc54a\\uc544\",\"\\ub9d0\",\"\\uc544\\uc9c1\",\"oh\",\"\\ub9e4\\uc77c\",\"\\ub098\\ub3c4\",\"\\ub54c\",\"\\ud56d\\uc0c1\",\"\\uc774\\ub807\\uac8c\",\"\\uc774\\ub7f0\",\"\\uac8c\",\"go\",\"\\uac19\\uc774\",\"\\uadfc\\ub370\",\"\\ub2e4\\ub978\",\"\\uc774\\ubbf8\",\"\\ud558\\ub294\",\"\\uadf8\\uc800\",\"\\uc624\\ub298\\ub3c4\",\"\\ud558\\uc9c0\\ub9cc\",\"so\",\"\\uac83\",\"\\ubb50\",\"is\",\"be\",\"know\",\"all\",\"do\",\"we\",\"\\uadf8\\ub807\\uac8c\",\"but\",\"\\uc5c6\\uc774\",\"\\uadf8\\ub7f0\",\"i\",\"\\ub9c8\\uce58\",\"\\ubab0\\ub77c\",\"\\ub108\\uac00\",\"\\uac70\\uc57c\",\"\\uc815\\ub9d0\",\"\\uc808\\ub300\",\"\\uadf8\\ub9ac\\uace0\",\"in\",\"\\uc624\\ub298\",\"\\uadf8\\uac8c\",\"\\uc774\\uc81c\\ub294\",\"what\",\"\\uc2f6\\uc5b4\",\"\\ud558\\ub098\",\"your\",\"\\uac00\",\"\\ubabb\\ud574\",\"\\uc544\\ub0d0\",\"You\",\"\\uc5b8\\uc81c\\ub098\",\"uh\",\"I_dont\",\"\\ubc14\\ub85c\",\"\\ub204\\uac00\",\"Baby\",\"get\",\"\\ub9ce\\uc774\",\"just\",\"\\ub298\",\"\\uc544\\uc9c1\\ub3c4\",\"u\",\"now\",\"\\ubc24\",\"\\ud568\\uaed8\",\"man\",\"\\ub108\\ub3c4\",\"with\",\"for\",\"no\",\"\\ub108\\uc5d0\\uac8c\",\"\\uc9c4\\uc9dc\",\"Oh\",\"\\uc790\\uafb8\",\"\\uac19\\uc544\",\"\\uc804\\ubd80\",\"in_the\",\"Yeah\",\"shit\",\"\\uc2dc\\uac04\",\"\\uc704\\ud574\",\"\\uc88b\\uc544\",\"\\uc544\\ub2cc\",\"\\uc774\\uac8c\",\"\\ub9ce\\uc740\",\"\\ubaa8\\ub4e0\",\"\\uc0ac\\ub791\",\"\\uac70\",\"\\ub3c8\",\"say\",\"\\uc5ec\\uae30\",\"good\",\"of\",\"\\ud574\\ub3c4\",\"time\",\"\\ud63c\\uc790\",\"\\ub098\\uc640\",\"\\uc5c6\\uc9c0\",\"yo\",\"\\uc800\",\"to_the\",\"\\uc2dc\\uac04\\uc774\",\"\\ub9d0\\ud574\",\"\\uc81c\\ubc1c\",\"\\uadf8\\ub798\\ub3c4\",\"\\uc54c\\uc544\",\"\\ud558\\uace0\",\"\\ub0b4\\uac90\",\"\\ub9c8\",\"\\uc6d0\\ud574\",\"\\uc5ec\\uc804\\ud788\",\"\\uadf8\\ub798\\uc11c\",\"\\uc18d\\uc5d0\",\"this\",\"\\ub9d0\\uace0\",\"\\uc624\\ub298\\uc740\",\"\\uadf8\\ub300\",\"life\",\"I_got\",\"\\uc88b\\uc740\",\"back\",\"\\uaf2d\",\"\\uc0ac\\ub78c\",\"ma\",\"\\ubcf4\\uc5ec\",\"\\ud560\",\"\\uc704\\ub85c\",\"\\uad1c\\ucc2e\\uc544\",\"you_know\",\"its\",\"\\ubcf4\\uace0\",\"I_wanna\",\"got\",\"\\ucc38\",\"\\uc544\\ub2c8\",\"\\ubb58\",\"\\uc5b4\\ub5bb\\uac8c\",\"\\ub124\\uac8c\",\"do_it\",\"down\",\"im\",\"We\",\"\\ud560_\\uc218\",\"\\ub9c8\\uc74c\",\"money\",\"\\uc791\\uc740\",\"\\uac00\\ub054\",\"fuck\",\"\\ubc8c\\uc368\",\"\\uc6b0\\ub9ac\\uac00\",\"day\",\"\\uc2dc\\uac04\\uc740\",\"\\uadf8\\uac74\",\"\\uc5b4\\ub5a4\",\"\\ub531\",\"ya\",\"\\ub9d0\\uc744\",\"\\ubfd0\",\"So\",\"\\uadf8\\ub54c\",\"way\",\"\\uc77c\",\"\\uacb0\\uad6d\",\"Its\",\"\\uae30\\ubd84\",\"\\uafc8\\uc744\",\"\\uc544\\ub9c8\",\"\\ub4e4\\uc5b4\",\"\\uc2eb\\uc5b4\",\"\\ub2e4\\ub4e4\",\"feel\",\"\\uc0ac\\uc2e4\",\"\\uc55e\\uc5d0\",\"\\uae38\\uc744\",\"\\uc0ac\\ub791\\uc744\",\"\\uc880_\\ub354\",\"\\uc788\\uc9c0\",\"like_a\",\"\\uc0dd\\uac01\",\"on_my\",\"\\uac78\\uc5b4\",\"\\uc870\\uae08\",\"My\",\"\\uadf8\\ub300\\ub85c\",\"Girl\",\"\\ub208\",\"out\",\"one\",\"\\uc27d\\uac8c\",\"night\",\"\\ud55c\\ubc88\",\"\\ud558\\uc9c0\",\"\\uc544\",\"\\uc548\\uc5d0\",\"love_you\",\"\\uc544\\ubb34\\ub3c4\",\"\\uac00\\ub294\",\"\\ub2ec\\ub77c\",\"\\ub9d0\\uc774\",\"\\ub530\\ub77c\",\"\\uc624\",\"\\uc190\",\"\\uc5b4\\ucc28\\ud53c\",\"\\uc18d\",\"\\ub4ef\",\"right\",\"\\ud588\\ub358\",\"\\uc5ec\\uae34\",\"\\uac83_\\uac19\\uc544\",\"\\uc704\\uc5d0\",\"\\ub9c8\\uc9c0\\ub9c9\",\"\\uc918\",\"\\ubcf4\\uba74\",\"\\uac83\\ub3c4\",\"oh_oh\",\"\\ub9cc\\ub4e4\\uc5b4\",\"\\ucc98\\ub7fc\",\"\\ub178\\ub798\",\"\\ubaa8\\ub450\\uac00\",\"\\uc548\\ub3fc\",\"\\uc640\",\"on_the\",\"But\",\"\\uc0b4\\uc544\",\"\\uafc8\",\"\\ube68\\ub9ac\",\"\\ub550\",\"\\ub450\",\"\\ub208\\uc744\",\"\\ubbf8\\uc548\\ud574\",\"\\uc810\\uc810\",\"\\ub2e4\\uc74c\",\"high\",\"\\ub0b4_\\ub9d8\",\"I_just\",\"\\uc544\\ubb34\\uac83\\ub3c4\",\"\\uadf8\\ub7fc\",\"\\uc11c\\ub85c\",\"wanna\",\"Love\",\"\\uc0c8\\ub85c\\uc6b4\",\"No\",\"\\uc790\",\"\\uc544\\uc8fc\",\"\\ub9d0\\uc57c\",\"boy\",\"\\ub108\\ubb34\\ub098\",\"\\ub9ce\\uc544\",\"\\uc6b0\\ub9ac\\ub294\",\"\\ub410\\uc5b4\",\"\\ub7a9\",\"\\ub098\\uc5d0\\uac8c\",\"\\ub098\\ub9cc\",\"\\uba3c\\uc800\",\"\\ub54c\\ubb38\\uc5d0\",\"\\uc0ac\\ub791\\uc740\",\"\\uc0dd\\uac01\\ud574\",\"hey\",\"\\ub108\\ub9cc\",\"\\uc5ec\\uc790\",\"I_want\",\"\\uc544\\ub2d8\",\"U\",\"let_me\",\"\\uc0ac\\ub791\\ud574\",\"\\ub9d8\",\"\\uc21c\\uac04\",\"\\uadf8\\ub9cc\",\"\\ud5c8\\ub098\",\"make\",\"\\uc5b4\\uc11c\",\"\\uc911\",\"\\ub9d0\\uc740\",\"\\uc2dc\\uac04\\uc744\",\"\\uc5b4\\ub290\\uc0c8\",\"\\ub108\\uc640_\\ub098\",\"\\uc804\\uc5d0\",\"\\uc190\\uc744\",\"\\ubaa8\\ub450_\\ub2e4\",\"\\uc218\",\"\\uc54a\\ub294\",\"\\ub9c9\",\"\\uc218\\ub9ce\\uc740\",\"\\uc544\\ub2c8\\uba74\",\"\\uc774\\ub300\\ub85c\",\"\\uae30\\uc5b5\\ud574\",\"\\ud588\\uc5b4\",\"\\ub0b4_\\ub9d8\\uc744\",\"\\uc7a0\\uc2dc\",\"\\ub354_\\uc774\\uc0c1\",\"\\uad1c\\ud788\",\"\\ub9c8\\uc74c\\uc744\",\"I_need\",\"\\uc74c\\uc545\",\"in_my\",\"\\uace7\",\"\\uba87\",\"\\uc624\\uc9c1\",\"\\uc18c\\ub9ac\",\"real\",\"\\uc6b0\\ub9ac\\uc758\",\"\\ubd10\\ub3c4\",\"\\ub9e4\\ubc88\",\"\\ub188\",\"\\uc138\\uc0c1\",\"see\",\"\\uae38\",\"Hey\",\"\\ub300\\uc2e0\",\"\\uce5c\\uad6c\",\"\\ub9d8\\uc774\",\"\\ud070\",\"What\",\"\\ubcf4\\ub2e4\",\"\\ubd88\\ub7ec\",\"\\uc5bc\\ub9c8\\ub098\",\"\\uc54a\\uc740\",\"about\",\"\\ubcf4\\ub294\",\"\\uc0ac\\ub791\\uc774\",\"I\\u2019m\",\"\\uc544\\ub984\\ub2e4\\uc6b4\",\"\\ud558\\uba74\",\"\\uc0ac\\uc774\",\"\\uc694\\uc998\",\"\\uc0b6\",\"babe\",\"my_love\",\"at\",\"\\uc788\\ub2e4\\uba74\",\"\\uc0ac\\ub294\",\"\\ubaa8\\uc2b5\",\"\\uc778\\uc0dd\",\"\\uc544\\ubb34\\ub9ac\",\"\\uc7a0\\uae50\",\"\\ubaa8\\ub4e0_\\uac8c\",\"\\uc601\\uc6d0\\ud788\",\"\\uc5b4\",\"A\",\"\\uadf8\\ub140\\ub294\",\"\\ub4a4\\ub85c\",\"\\ud799\\ud569\",\"\\ud639\\uc2dc\",\"\\ud544\\uc694\\ud574\",\"\\uc808\\ub300\\ub85c\",\"\\ucc3e\\uc544\",\"bitch\",\"fuckin\",\"dont\",\"And\",\"\\uae30\\uc5b5\",\"\\uc57c\",\"\\ub2ec\\ucf64\\ud55c\",\"\\ubabb\\ud55c\",\"\\ub418\\ub294\",\"\\ub0a8\\uc790\",\"\\uadf8\\uac78\",\"\\ud55c_\\ubc88\",\"\\ubb50\\uac00\",\"\\ub290\\uaef4\",\"\\ub05d\\uae4c\\uc9c0\",\"\\uc194\\uc9c1\\ud788\",\"\\ubaa8\\ub4e0_\\uac78\",\"\\ub108\\uc640_\\ud568\\uaed8\",\"\\uc5b4\\ub54c\",\"tonight\",\"\\ubc14\\ub798\",\"\\uc904\",\"\\uc704\\ud55c\",\"\\uc55e\\uc5d0\\uc11c\",\"\\uc5ed\\uc2dc\",\"The\",\"\\ucc99\",\"\\ub108\\uc640_\\ub098\\uc758\",\"Just\",\"hands_up\",\"\\ucc9c\\ucc9c\\ud788\",\"stop\",\"\\ubc84\\ub9b0\",\"\\ub0b4\\uc77c\",\"\\ucc98\\uc74c\",\"\\uacf3\",\"\\ub41c\",\"still\",\"\\ub611\\uac19\\uc740\",\"\\uc774\\uc720\",\"\\uc9d1\\uc5d0\",\"\\ub2ec\\ub824\",\"\\uc5b4\\uca4c\\uba74\",\"\\uc544\\ub294\",\"\\uc5ec\\uae30\\uc11c\",\"\\uba40\\ub9ac\",\"never\",\"\\uc5c6\\ub124\",\"\\uc0b6\\uc744\",\"\\ub9d8\\uc744\",\"\\uc788\\uac8c\",\"\\uc138\\uc0c1\\uc740\",\"Im_a\",\"Uh\",\"flow\",\"\\ub4a4\",\"\\ud558\\uc9c0\\ub9c8\",\"\\uc788\\uc744\\uae4c\",\"\\ucc44\",\"\\uba38\\ub9ac\",\"\\ub208\\uc774\",\"\\uc544\\ub2c8\\uc57c\",\"\\ub9d8\\uc5d0\",\"\\ubb34\\uc2a8\",\"\\ubbff\\uc5b4\",\"i_dont\",\"\\ub098\\ub9cc\\uc758\",\"\\ubb54\\uac00\",\"\\uc788\\ub358\",\"\\uc54a\\uace0\",\"I_feel\",\"for_you\",\"\\ub420\",\"tell_me\",\"\\uc54c\\uc5b4\",\"better\",\"\\uc788\\uc796\\uc544\",\"\\uc784\\ub9c8\",\"\\uc9c0\\uae08\\uc740\",\"\\uc6b0\\ub9b4\",\"\\ub54c\\ub860\",\"here\",\"with_me\",\"what_you\",\"\\uc704\",\"\\ucc28\\ub77c\\ub9ac\",\"\\ubb3c\\ub860\",\"Like\",\"party\",\"\\uac83\\uc774\",\"\\uc624\\ub298_\\ubc24\",\"\\uadf8\\ub300\\uac00\",\"\\ub300\\ub85c\",\"\\ubcf4\\uc774\\ub294\",\"\\uba4b\\uc9c4\",\"\\uc368\",\"\\uc0ac\\ub78c\\ub4e4\",\"\\uc220\",\"I_can\",\"\\uac83\\uc740\",\"take\",\"\\uc138\\uc0c1\\uc774\",\"\\uba39\\uace0\",\"from\",\"you_are\",\"\\ub0b4_\\uacc1\\uc5d0\",\"\\ub9cc\\ud07c\",\"\\uc598\\uae30\",\"\\ub208\\uc5d0\",\"\\ub208\\ubb3c\",\"la_la\",\"\\ub208\\ubb3c\\uc774\",\"All\",\"\\ub290\\ub08c\",\"\\ubaa8\\ub974\\ub294\",\"\\uadf8\\ub550\",\"not\",\"body\",\"mind\",\"\\ub9c8\\uc74c\\uc774\",\"all_night\",\"\\uc7a1\\uace0\",\"\\uc81c\\uc77c\",\"\\uc6d0\\ub798\",\"\\uc77c\\ub2e8\",\"\\uadf8\\ub7ec\\ub2c8\",\"\\ud5a5\\ud574\",\"\\ub300\\uccb4\",\"Dont\",\"\\ub4a4\\uc5d0\",\"\\uc138\\uc0c1\\uc5d0\",\"my_life\",\"all_day\",\"\\uac83\\uc744\",\"Fuck\",\"\\ub354\\ub294\",\"\\ub0b4_\\uc606\\uc5d0\",\"\\uc870\\uae08\\uc529\",\"\\uc9c0\\ub09c\",\"I_cant\",\"get_it\",\"\\ub54c\\uae4c\\uc9c0\",\"\\uc774\\ub984\",\"yeah_yeah\",\"\\uac74\\uc9c0\",\"dream\",\"crazy\",\"\\ubab8\\uc744\",\"\\ub9cc\\ub4e0\",\"\\uc81c\\ub300\\ub85c\",\"\\ud640\\ub85c\",\"\\uc5b4\\ub514\",\"This_is\",\"make_it\",\"\\ud588\\uc9c0\",\"\\uc0ac\\ub78c\\ub4e4\\uc740\",\"\\ubcf4\\ub2c8\",\"\\uae30\\ub2e4\\ub824\",\"Let_me\",\"\\uac00\\uc2b4\\uc774\",\"why\",\"Now\",\"\\uc804\\ud600\",\"\\uc790\\uc2e0\\uc744\",\"\\ub5a0\\ub098\",\"\\ub2e8\\uc9c0\",\"\\ubc24\\uc0c8\",\"fly\",\"\\uc560\\uc368\",\"this_is\",\"\\uc5c4\\ub9c8\",\"\\uc800\\uae30\",\"\\uc790\\uafb8\\ub9cc\",\"\\uc55e\\uc73c\\ub85c\",\"\\uc548_\\ud574\",\"ye\",\"\\uc5c6\\uace0\",\"some\",\"I_am\",\"can\",\"\\uc804\\ubd80_\\ub2e4\",\"only\",\"\\ubabb\\ud558\\ub294\",\"\\uc628\",\"\\uc606\\uc5d0\",\"\\ub098\\ub791\",\"\\uac70\\uc9c0\",\"\\uac19\\uc560\",\"\\ub4e3\\uace0\",\"\\ubab0\\ub77c\\ub3c4\",\"Ill_be\",\"\\uac83\\ucc98\\ub7fc\",\"hot\",\"\\uc654\\uc5b4\",\"\\ud558\\ub8e8\",\"\\ubaa8\\ub4e0\\uac78\",\"\\ubcf4\\uba70\",\"\\ub3c8\\uc744\",\"\\uc54c\\uc9c0\",\"\\ud6c4\",\"\\ud558\\uace0_\\uc2f6\\uc740\",\"\\ud0c0\\uace0\",\"want\",\"\\uc904\\uac8c\",\"\\uc0c8\",\"\\ud798\\ub4e0\",\"everyday\",\"\\ube5b\\uc774\",\"with_you\",\"\\ubaa8\\ub4e0\\uac8c\",\"\\ub204\\uad6c\\ubcf4\\ub2e4\",\"\\ub728\\uac70\\uc6b4\",\"\\uc778\\uc0dd\\uc740\",\"\\uafc8\\uc740\",\"\\ubcf8\",\"\\uc138\\uc0c1\\uc744\",\"\\uc54a\\uac8c\",\"\\ubb50\\ub4e0\",\"\\uc54c_\\uc218\",\"rap\",\"\\uc0ac\\ub78c\\uc774\",\"&\",\"\\uac00\\uc9c0\",\"lady\",\"\\uac00\\uc2b4\\uc5d0\",\"\\ud639\\uc740\",\"\\ub108\\ub124\",\"\\ud3c9\\uc0dd\",\"\\ub098\\uc774\",\"\\ub108\\ub128\",\"\\ucc28\\uac00\\uc6b4\",\"\\ub0a8\\uc740\",\"\\uad73\\uc774\",\"how\",\"like_this\",\"\\uc5c6\\uc5b4\\ub3c4\",\"when\",\"\\ubbf8\\uce5c\",\"give_a\",\"\\uc5c6\\ub294\\ub370\",\"\\uc18d\\uc5d0\\uc11c\",\"\\uac78\\uae4c\",\"are\",\"\\ud754\\ub4e4\\uc5b4\",\"\\uc5b4\\uc81c\",\"\\uc544\\uc9c1\\uc740\",\"\\uac70\\uc9d3\\ub9d0\",\"right_now\",\"on_and\",\"\\ubc84\\ub824\",\"\\ub9e4\\uc77c_\\ubc24\",\"\\uac00\\uc2b4\",\"\\uc74c\\uc545\\uc744\",\"\\uac00\\ub4dd\",\"\\uc9d1\",\"\\uc544\\uce68\",\"\\uadf8\\ub140\\uc758\",\"\\uafc8\\uc774\",\"\\uc804\",\"\\uadf8\\ub140\",\"\\uc5bc\\uad74\",\"\\uac00\\uace0\",\"\\uc54a\\uc9c0\",\"\\ub9cc\\ub098\",\"\\uac00\\uc9c4\",\"\\uaf49\",\"\\ub6f0\\uc5b4\",\"beat\",\"\\ubab8\",\"\\uc870\\uae08_\\ub354\",\"\\uc54c\\uc796\\uc544\",\"\\uc62c\\ub77c\",\"\\uac00\\ub054\\uc740\",\"n\",\"\\uc5c6\\uc9c0\\ub9cc\",\"over\",\"more\",\"Get\",\"or\",\"\\uc7a1\\uc544\",\"\\ub9e8\\ub0a0\",\"\\uac00\\uc7a5\",\"\\uc190\\uc5d0\",\"\\uc785\",\"\\ub0a8\\uc544\",\"light\",\"\\uac83\\ub4e4\",\"\\ub9d0\\uc774\\uc57c\",\"always\",\"again\",\"\\uadf8\\ub140\\uac00\",\"\\ubcc4\",\"\\ub0b4_\\uc774\\ub984\",\"Go\",\"call_me\",\"\\ud798\\ub4e4\\uc5b4\",\"\\ubaa9\\uc18c\\ub9ac\",\"\\ubed4\\ud55c\",\"\\ub108\\ub791\",\"\\uae34\",\"\\uc54a\\uc544\\ub3c4\",\"come_on\",\"\\ubc84\\ub9ac\\uace0\",\"\\uc624\\ub798\",\"\\uc228\",\"\\uccab\",\"\\ud06c\\uac8c\",\"\\uac4d\",\"\\uac70\\uae30\",\"\\ucc28\",\"for_the\",\"thats\",\"\\uc0b6\\uc758\",\"\\uc560\\ub4e4\",\"\\uc2f9_\\ub2e4\",\"\\ub610_\\ub2e4\\ub978\",\"\\ub098_\\ud63c\\uc790\",\"\\ubc16\\uc5d0\",\"\\ucc44\\ub85c\",\"\\uc644\\uc804\",\"\\uc0b6\\uc774\",\"\\uc0ac\\ub78c\\uc740\",\"\\uc5f4\\uc2ec\\ud788\",\"\\ub7a9\\uc744\",\"\\ub3c8\\uc774\",\"\\ub108\\ub780\",\"there\",\"play\",\"\\ub098\\ub3c4_\\ubaa8\\ub974\\uac8c\",\"\\ubc24\\uc5d0\",\"everything\",\"live\",\"\\ub9de\\uc544\",\"\\uc9c0\\uae08\\uc758\",\"\\uc77c\\uc774\",\"\\ub418\\uace0\",\"\\ub204\\uad6c\\ub3c4\",\"\\uc704\\ud574\\uc11c\",\"\\ub9de\\ucdb0\",\"\\uadf8\\ub300\\ub97c\",\"\\ub108\\ubb34\\ub098\\ub3c4\",\"\\uc0dd\\uac01\\uc774\",\"\\uaf64\",\"\\uc54c\\uace0\",\"\\uc0ac\\ub791\\ud558\\ub294\",\"wanna_be\",\"\\uc0ac\\ub78c\\ub4e4\\uc774\",\"\\uc0ac\\ub791\\uc758\",\"\\uc2f6\\uc740\",\"\\uc5b4\\ub9b0\",\"\\uac00\\ub4dd\\ud55c\",\"come\",\"It\",\"\\ub108_\\ub54c\\ubb38\\uc5d0\",\"keep\",\"\\uc608\\uc05c\",\"\\uc9c0\\uae08\\ub3c4\",\"\\ubcfc_\\uc218\",\"\\uc0b4\\uc9dd\",\"\\ubaa8\\uc2b5\\uc774\",\"\\ubc24\\uc744\",\"ah\",\"\\uc5c6\\ub358\",\"\\ubb3c\\uc5b4\",\"\\uc548\\ud574\",\"On\",\"\\uc2ac\\ud508\",\"huh\",\"\\ub4ef\\uc774\",\"\\uc544\\ud508\",\"\\uae30\\ubd84\\uc774\",\"\\uacc4\\uc18d\\ud574\\uc11c\",\"\\ub530\\uc708\",\"\\uc8fc\\ub294\",\"\\ubbf8\\ub798\",\"\\ubaa8\\ub974\\uaca0\\uc5b4\",\"\\uc624\\ub298\\ubc24\",\"You_know\",\"\\uc5c6\\uc796\\uc544\",\"\\uc544\\ub9c8\\ub3c4\",\"\\uac00\\ub9cc\\ud788\",\"\\uace0\\uac1c\\ub97c\",\"alright\",\"\\ub418\\uc5b4\",\"aint\",\"\\ub300\\ud55c\",\"\\uc0b4\",\"\\uba39\\uc5b4\",\"\\ud558\\ub098_\\ub458\",\"\\ub534\",\"\\uc0dd\\uac01\\uc740\",\"\\ubabb\\ud558\\uace0\",\"\\uc548\\uc5d0\\uc11c\",\"I_think\",\"\\ubd80\\ud130\",\"Me\",\"they\",\"\\uc788\\uc73c\\uba74\",\"\\uac00\\uc11c\",\"the_one\",\"forever\",\"\\uac16\\uace0\",\"\\ub9d0\\ub85c\",\"\\uc790\\ub9ac\",\"\\uc5b8\\uc820\\uac00\",\"\\ud558\\ub098\\ub3c4\",\"\\uac11\\uc790\\uae30\",\"1\",\"\\ub3c4\\ub300\\uccb4\",\"\\ub110_\\uc704\\ud574\",\"\\uc0c1\\uad00\\uc5c6\\uc5b4\",\"I_gotta\",\"\\uaebc\\uc838\",\"\\uc544\\ub2cc\\ub370\",\"\\ubc24\\uc774\",\"\\uc774_\\ubc24\\uc774\",\"\\ub204\\uad70\\uac00\",\"nothing\",\"\\uc5b4\\ub290\",\"for_my\",\"\\uadf8\\ub9ac\\uc6cc\",\"\\ubc14\\ub78c\",\"\\uc624\\ube60\",\"\\uccd0\",\"\\ub0a0\\uc774\",\"the_way\",\"\\uc218_\\uc5c6\\ub294\",\"\\uc228\\uc744\",\"\\uadf8\\ub7ec\\ub2c8\\uae4c\",\"\\uc2dc\\uac04\\uc5d0\",\"\\ub450\\ub824\\uc6cc\",\"I_will\",\"die\",\"\\uc874\\ub098\",\"your_love\",\"\\uc218_\\uc5c6\\uc5b4\",\"\\uc5b4\\ub5a1\\ud574\",\"\\uc785\\uc744\",\"the_fuck\",\"\\uc788\\ub294\\ub370\",\"Ill\",\"us\",\"look_at\",\"\\ub05d\\uc774\",\"Yo\",\"give_me\",\"who\",\"\\ubc95\",\"oh_yeah\",\"\\uac10\\uc815\",\"\\uc9c0\\ub098\",\"\\ub4e4\\uace0\",\"\\uac00\\uba74\",\"care\",\"turn_up\",\"\\ub098\\uac00\",\"\\uac00\\uc0ac\",\"\\uc774\\uac78\",\"Say\",\"baby_baby\",\"\\ubcf4\\ub0b4\",\"youre\",\"i_know\",\"away\",\"make_me\",\"\\ubbff\\uace0\",\"\\uc77c\\uc5b4\\ub098\",\"\\ubc14\\ub77c\\ubd10\",\"\\uc788\\ub124\",\"\\uadf8\\ub9ac\",\"\\ub188\\ub4e4\",\"\\uc9c0\\ub098\\uac04\",\"\\ub610\\ub294\",\"my_way\",\"her\",\"\\uc804\\ud654\",\"\\uacb0\\uad6d\\uc5d4\",\"\\uc5b4\\ub514\\ub4e0\",\"\\ud750\\ub974\\ub294\",\"let\",\"\\uadf8\\ub308\",\"\\uc778\\uc0dd\\uc758\",\"\\uc11c\\ub85c\\ub97c\",\"\\ud558\\uba70\",\"\\ud558\\ub8e8\\uac00\",\"\\ubbf8\\uc18c\",\"\\uc774\\uac70\",\"\\ubcfc\",\"\\uc660\\uc9c0\",\"\\uae4a\\uc740\",\"\\uc990\\uaca8\",\"\\ub098\\uc05c\",\"new\",\"\\uc2ec\\uc7a5\\uc774\",\"\\ub354\\uc6b1\",\"\\ub180\\uc544\",\"\\ub2f9\\uc2e0\\uc758\",\"\\ud574\\uc918\",\"she\",\"\\ud758\\ub7ec\",\"\\uc5b4\\ub514\\ub85c\",\"\\uc62c\\ub77c\\uac00\",\"\\uc9c0\",\"\\ud558\\ub124\",\"\\ubd24\\uc5b4\",\"to_be\",\"everybody\",\"you_can\",\"bitches\",\"1_2\",\"\\uc0dd\\uac01\\uc5d0\",\"\\ub0b4\\ub824\",\"Oh_Oh\",\"\\uc815\\ub9d0\\ub85c\",\"\\uce5c\\uad6c\\ub4e4\",\"\\ubd88\",\"\\ub9c8\\ub0e5\",\"\\ud544\\uc694_\\uc5c6\\uc5b4\",\"music\",\"\\ud560\\uac8c\",\"\\ub0b4_\\ub9d8\\uc740\",\"ay\",\"\\uc815\\uc2e0\",\"need\",\"\\uc544\\ubb34\",\"\\uc544\\ub798\",\"\\ud45c\\uc815\",\"\\ubab8\\uc774\",\"\\ube60\\uc838\",\"\\uadf8\\ub140\\ub97c\",\"\\uc2dc\\uc791\\ud574\",\"move\",\"\\uc560\",\"\\ub108\\uc640\\uc758\",\"\\ubd84\\uba85\",\"\\ub9d0\\uc5d0\",\"yea\",\"\\uc6c0\\uc9c1\\uc5ec\",\"\\ud604\\uc2e4\",\"\\uac71\\uc815\",\"\\ud558\\uc580\",\"\\uadf8\\ub304\",\"2\",\"\\ub098\\ud55c\\ud14c\",\"damn\",\"\\ub2e4\\uc2e0\",\"\\ub418\\uc9c0\",\"\\ub9d0\\uc5b4\",\"\\uc74c\\uc545\\uc774\",\"\\uc88b\\uc544\\ud558\\ub294\",\"\\uac08\",\"\\ub530\\ub73b\\ud55c\",\"\\uc5b5\\uc9c0\\ub85c\",\"\\ub9c8\\uc74c\\uc5d0\",\"\\ub9d0\\ud574\\uc918\",\"\\ubcf4\\uace0_\\uc2f6\\uc5b4\",\"\\uc544\\ub984\\ub2e4\\uc6cc\",\"\\uc788\\uc9c0\\ub9cc\",\"too\",\"\\ubc29\",\"\\ub2f4\\uc544\",\"\\uc9c0\\uccd0\",\"young\",\"\\ub9d0\\ud558\\ub294\",\"\\uc637\",\"\\uc88b\\uaca0\\uc5b4\",\"\\uafc8\\uc5d0\",\"world\",\"\\uac70\\ub9ac\",\"i_feel\",\"\\ub9cc\\uc57d\",\"woo\",\"\\ud558\\ub298\\uc744\",\"\\uc788\\uc5b4\\ub3c4\",\"\\ub54c\\uac00\",\"i_got\",\"\\uacc1\\uc5d0\",\"Im_not\",\"\\ub9d0\\ub3c4\",\"\\ub458\\uc774\",\"\\uc0ac\\ub791\\uc5d0\",\"take_it\",\"\\uc62c\\ub824\",\"\\uc74c\\uc545\\uc740\",\"\\ubc1c\",\"\\uc2dc\\uc120\",\"\\uac00\\uc9c0\\uace0\",\"\\uae30\\ub300\",\"\\uc5b8\\uc81c\",\"\\uc0c1\\ucc98\",\"\\ub05d\",\"\\ud574\\uc11c\",\"\\uc0dd\\uac01\\uc744\",\"no_no\",\"\\uc774\\uc81c\\uc57c\",\"Man\",\"\\uc9c0\\uce5c\",\"ride\",\"beautiful\",\"\\ud589\\ubcf5\\ud574\",\"\\ud558\\ub358\",\"air\",\"\\ubc8c\\uc5b4\",\"\\uc5b4\\uae68\",\"\\ub2c8\\ub4e4\",\"\\ud558\\ub8e8\\uc885\\uc77c\",\"\\uc790\\uae30\",\"Thats\",\"\\ub208\\ubb3c\\uc744\",\"my_name\",\"\\ub3cc\\uc544\",\"\\ub2f4\\ubc30\",\"\\ub9c8\\uc154\",\"in_love\",\"where\",\"\\uc77c\\uc740\",\"big\",\"\\uadf8_\\uc5b4\\ub5a4\",\"\\uc774\\uc57c\\uae30\",\"like_that\",\"yall\",\"\\uc548\\ub155\",\"\\ub178\\ub798\\ub97c\",\"\\ubaa8\\uc2b5\\uc744\",\"\\ub2e8\",\"\\ube5b\\uc744\",\"\\uc2a4\\uc2a4\\ub85c\",\"Do_it\",\"\\ub354_\\ud06c\\uac8c\",\"\\uc549\\uc544\",\"\\uc774_\\uc21c\\uac04\",\"\\uc0ac\\ub791\\ud588\\ub358\",\"\\uc0b6\\uc740\",\"\\ub54c\\uba74\",\"we_are\",\"\\ud63c\\uc790\\uc11c\",\"\\uc870\\uae08\\uc740\",\"\\ub208\\ube5b\",\"\\uc54a\\uc558\\uc5b4\",\"\\ub0b4\\uc77c\\uc740\",\"\\uc5ec\\uae30\\uc800\\uae30\",\"\\uc6c3\\uc73c\\uba70\",\"sky\",\"\\uc560\\ub4e4\\uc740\",\"\\ub2f9\\uc7a5\",\"\\ucd94\\uc5b5\",\"\\ubabb\\ud560\",\"Yes\",\"\\ubd84\\uc704\\uae30\",\"\\uc5b4\\ub514\\uc11c\",\"i_want\",\"\\ub77c\\uace0\",\"\\ub9cc\\ub4dc\\ub294\",\"\\uac80\\uc740\",\"\\ub450\\uace0\",\"ha\",\"\\ud589\\ubcf5\\ud55c\",\"Tell_me\",\"\\ub4e4\\uc5b4\\ubd10\",\"\\ub458\",\"\\uc78a\\uace0\",\"\\ubab0\\ub798\",\"check\",\"\\ubbf8\\uccd0\",\"\\uae4c\\uc9c0\",\"\\ubaa8\\ub450\\ub2e4\",\"\\uc218_\\uc788\\uac8c\",\"\\ub290\\ub08c\\uc774\",\"\\ub54c\\ub3c4\",\"\\ubc1b\\uc544\",\"This\",\"\\ubcc0\\ud574\",\"\\uac78\\uc5b4\\uac00\",\"\\ud574\\uac00\",\"you_want\",\"\\uc608\",\"\\ub193\\uace0\",\"\\uba48\\ucdb0\",\"\\uc4f0\\uace0\",\"\\ub290\\ub07c\\ub294\",\"\\ub2e4\\ub974\\uac8c\",\"\\uc548_\\ub3fc\",\"look\",\"\\uc77c\\uc744\",\"\\uc11c\\uc6b8\",\"\\uc788\\uace0\",\"\\uae30\\ubd84\\uc740\",\"\\ub4ef\\ud574\",\"\\ub358\\uc838\",\"\\uc0c8\\ubcbd\",\"\\ube60\\ub974\\uac8c\",\"\\uc6c3\\uace0\",\"\\ud798\\uc774\",\"\\ub9d0\\uc544\",\"\\uac70\\uce5c\",\"\\ub108\\ub77c\\ub294\",\"\\ubc49\\uc5b4\",\"\\ub108\\ubb34_\\ub9ce\\uc544\",\"about_you\",\"\\ubb3c\",\"\\uc74c\",\"\\uc6c3\\uc5b4\",\"Rap\",\"\\ub9e4\\uc77c\\uc774\",\"\\uace0\\ubbfc\",\"Everyday\",\"\\uc5b4\\ub450\\uc6b4\",\"\\uc544\\ub2c8\\uace0\",\"If_you\",\"\\uc774_\\ub178\\ub798\",\"bang_bang\",\"\\uba4d\\ud558\\ub2c8\",\"\\ube5b\\ub098\\ub294\",\"\\uc5c6\\ub2e4\\uace0\",\"keep_it\",\"im_a\",\"\\ub9d0\\ud558\\uc9c0\",\"\\ub354\\uc774\\uc0c1\",\"bad\",\"show\",\"\\uc774\\uc81c_\\uadf8\\ub9cc\",\"fuck_with\",\"long\",\"yes\",\"\\ub188\\uc774\",\"\\ud604\\uc2e4\\uc740\",\"okay\",\"\\uac83\\ub4e4\\uc774\",\"\\uadf8\\ub300\\uc758\",\"\\ub2e4\\uc2dc\\ub294\",\"\\ubc14\\uafd4\",\"\\ud0dc\\ub3c4\",\"\\uc18c\\uc911\\ud55c\",\"\\ub4e4\\uc5b4\\uac00\",\"Im_just\",\"tell\",\"\\ub5a0\\ub09c\",\"\\uc774\\ubcc4\",\"\\ubaa8\\ub974\\uace0\",\"\\ub54c\\ub9c8\\ub2e4\",\"I_don\\u2019t\",\"\\uac1c\",\"\\uaca8\\uc6b0\",\"call\",\"\\uc9c0\\ucf1c\",\"\\ub098\\ubcf4\\ub2e4\",\"no_more\",\"\\ub098\\uc11c\",\"\\ub355\\ubd84\\uc5d0\",\"i_wanna\",\"\\uc774\\ubcc4\\uc744\",\"\\uae4a\\uac8c\",\"\\ud558\\ub8e8\\ub97c\",\"\\uc904\\ub798\",\"\\ubbf8\\ub798\\ub97c\",\"\\uc54a\\uc5b4\",\"\\uc2dc\\uc791\",\"\\uc9c0\\uc6cc\",\"\\uc801\",\"\\ub0b4\\uac8c\\ub294\",\"\\uac04\",\"\\uc778\\uc0dd\\uc744\",\"think\",\"\\ub54c\\ub294\",\"\\ucb49\",\"\\uad81\\uae08\\ud574\",\"\\uadf8\\ub7f0\\ub370\",\"\\uac04\\uc5d0\",\"\\uac77\\ub294\",\"\\uc678\\uccd0\",\"\\uadf8\\ub300\\ub294\",\"\\uc54a\\uc744\",\"\\ub9cc\\ub09c\",\"\\uc0b4\\uc5b4\",\"mine\",\"But_I\",\"uh_uh\",\"\\ub9d8\\uc740\",\"\\ubc14\\ubcf4\",\"\\uac08\\uac8c\",\"\\uc4f4\",\"\\uae30\\uc5b5\\uc774\",\"\\uaf64\\ub098\",\"please\",\"\\uc54c\\uc558\\uc5b4\",\"love_is\",\"\\ub300\\ucda9\",\"\\ubcf4\\uc5ec\\uc904\\uac8c\",\"\\ub410\\uc9c0\",\"\\ub0b4_\\uc0b6\\uc758\",\"\\ubab8\\uc5d0\",\"\\uc624\\ub298\\ub530\\ub77c\",\"\\ube5b\",\"\\ub204\\uad6c\",\"show_me\",\"\\ub2f5\\ub2f5\\ud574\",\"fucking\",\"\\ub108\\ubb34\\ub3c4\",\"thing\",\"city\",\"put_your\",\"\\ubc18\",\"\\ub192\\uc774\",\"\\ub208\\uce58\",\"\\uc810\\uc810_\\ub354\",\"\\ud798\\uc744\",\"\\uadf8\\ub300\\uc640\",\"them\",\"\\ub418\\uba74\",\"\\uc624\\ud788\\ub824\",\"\\ub450_\\uc190\",\"\\ub2e4\\uac00\\uc640\",\"\\uacf3\\uc5d0\",\"\\uacc4\\uc18d\\ud574\",\"stay\",\"\\ucd94\\uc5b5\\uc774\",\"\\ubaa8\\uc2b5\\uc5d0\",\"\\uc644\\ubcbd\\ud55c\",\"\\ubc14\\ub77c\\ubcf4\\ub294\",\"\\ub118\\uc5b4\",\"\\uc228\\uc774\",\"\\uc27d\\uc9c0_\\uc54a\\uc544\",\"\\uace0\\ub9c8\\uc6cc\",\"\\uc608\\ubed0\",\"work\",\"then\",\"\\uc65c\\ub0d0\\uba74\",\"fake\",\"\\uc870\\uae08\\ub9cc_\\ub354\",\"\\uc5c6\\uc5c8\\uc5b4\",\"\\uc6d0\\ud558\\ub294\",\"3\",\"\\uc628\\ud1b5\",\"\\uc218_\\uc788\\uc5b4\",\"\\uc5ec\\uae30\\uc5d0\",\"from_the\",\"something\",\"name\",\"\\ub110_\\uc0ac\\ub791\\ud574\",\"if_you\",\"\\uc220\\uc744\",\"\\uc8fd\\uc774\\ub294\",\"When_I\",\"\\uc138\\uc0c1\\uc758\",\"\\ud558\\ub8e8_\\uc885\\uc77c\",\"\\ub05d\\uc5d0\",\"\\ud560\\uae4c\",\"\\uc0b4\\uc544\\uac00\\ub294\",\"\\uc788\\uc744\",\"\\uac00\\uc0ac\\ub97c\",\"\\ub098\\uc57c\",\"\\ud0c0\",\"\\ubb54\\uc9c0\",\"\\ud558\\ub298\",\"ill\",\"\\ubc1d\\uc740\",\"\\uc785\\uc5d0\",\"\\ub3cc\\uc544\\uc640\",\"out_of\",\"\\uba38\\ub9ac\\uac00\",\"\\uc57d\\uc18d\",\"\\uc0ac\\ub78c\\ub4e4\\uc758\",\"\\uc5b4\\uca54_\\uc218\",\"Do_you\",\"cry\",\"dance\",\"i_do\",\"\\ubb50\\ud574\",\"\\uc624\\ub294\",\"\\ub3cc\\ub824\",\"rhyme\",\"\\uc544\\ub2c8\\uc9c0\",\"\\uc11c\\ub85c\\uc758\",\"\\uc544\\ud30c\",\"\\ubaa8\\ub4e0_\\uac83\\uc744\",\"\\ub2ec\\ub9ac\",\"\\uc55e\\uc5d0\\uc120\",\"\\uce5c\\uad6c\\ub4e4\\uc740\",\"\\uc55e\",\"\\ube4c\\uc5b4\\uba39\\uc744\",\"\\ubbf8\\uc18c\\ub97c\",\"\\ucde8\\ud574\",\"I_aint\",\"\\uc0c8\\ub07c\",\"\\uc544\\uc9c1\\uae4c\\uc9c0\",\"feeling\",\"\\ubb50\\uc57c\",\"\\ub9cc\",\"\\uc0ac\\ub77c\\uc838\",\"\\uc5c6\\ub2e4\",\"\\ub611\\uac19\\uc774\",\"\\uc2f6\\uc740\\ub370\",\"\\uacfc\\uc5f0\",\"run\",\"top\",\"\\ub0a8\",\"\\uae38\\uc774\",\"\\ubcf4\\ub2e8\",\"\\uc5c6\\uc73c\\ub2c8\\uae4c\",\"\\uae38\\uc740\",\"I_see\",\"Everybody\",\"\\uc783\\uc5b4\\ubc84\\ub9b0\",\"gonna\",\"\\uc790\\uc8fc\",\"\\ubd10\\uc694\",\"\\ub192\\uc740\",\"\\uc544\\ub2c8\\uc9c0\\ub9cc\",\"\\ubc25\",\"game\",\"\\ub098\\uc5d0\\uac90\",\"\\uc794\",\"\\ucc3e\\ub294\",\"\\uaebc\\ub0b4\",\"ok\",\"Up\",\"\\ube48\",\"\\ub0a8\\uc790\\uac00\",\"\\ub4ef\\ud55c\",\"\\ub098\\uc624\\ub294\",\"\\uc5b4\\ub514\\uc5d0\",\"\\uc2ec\\uc7a5\",\"\\uc5b8\\uc820\\uac04\",\"One\",\"\\uc870\\ucc28\",\"\\uc0ac\\ub791\\uc774\\ub780\",\"\\ub208\\uc55e\\uc5d0\",\"\\ub450_\\ub208\\uc744\",\"\\uadf8\\ub7ec\\ub2e4\",\"Ma\",\"\\uc0dd\\uac01\\ub098\",\"\\uc800_\\uba40\\ub9ac\",\"\\uc190\\uc744_\\uc7a1\\uace0\",\"dont_know\",\"that_shit\",\"\\ubab0\\ub790\\uc5b4\",\"\\ub9d0\\uc544\\uc918\",\"\\ud558\\ub294\\ub370\",\"D\",\"your_body\",\"\\uc6b0\\ub9ac\\ub97c\",\"i_just\",\"YOU\",\"\\ub9c8\\ub77c\",\"\\uc678\\ub85c\\uc6b4\",\"G\",\"\\uc5d0\",\"\\ud558\\ub298\\uc5d0\",\"cant\",\"off\",\"\\ub0b4\\uc77c\\uc774\",\"\\ubb38\\ub4dd\",\"\\uac00\\uae4c\\uc774\",\"\\uc6b0\\ub9ac_\\ub458\",\"my_mind\",\"lets\",\"\\uba38\\ub9ac\\ub97c\",\"\\uc0dd\\uac01\\ubcf4\\ub2e4\",\"me_now\",\"\\uc0ac\\ub78c\\uc744\",\"in_this\",\"\\uc5c6\\uac8c\",\"\\ub9d0\\ud22c\",\"back_to\",\"\\uac00\\uc790\",\"Back\",\"\\uc54a\\ub124\",\"\\uac00\\ub124\",\"\\ub300\",\"\\uace0\\ubc31\",\"\\ube44\\uac00\",\"myself\",\"\\ub290\\uaef4\\uc9c0\\ub294\",\"\\ubcc4\\ub85c\",\"free\",\"\\uc11c\",\"\\uc18d\\uc758\",\"\\uc624\\ub298\\uc774\",\"\\uac00\\uc2b4\\uc744\",\"\\uac70\\ub77c\\uace0\",\"Im_sorry\",\"\\uc783\\uc740\",\"OK\",\"\\ub2c8\\ub124\",\"\\uc138\",\"\\uc7a0\",\"\\ub9ac\\ub4ec\",\"\\uc218_\\uc788\\ub294\",\"\\ube4c\\uc5b4\",\"\\uc900\\ube44\",\"style\",\"know_what\",\"\\uc6c3\\uc74c\",\"\\uac70\\ub9ac\\ub97c\",\"I_was\",\"\\ub420_\\uc218\",\"\\ubc1c\\uc744\",\"\\ub290\\ub084_\\uc218\",\"\\uc5ec\\uc790\\uac00\",\"\\uc544\\uc774\",\"\\ubaa9\\uc744\",\"Come_on\",\"\\uadf8\\ub824\",\"\\ud604\\uc2e4\\uc774\",\"hard\",\"\\uc774\\uc05c\",\"\\ubb34\\ub300\",\"baby_girl\",\"\\uc9c0\\uae08\\uae4c\\uc9c0\",\"\\uc5ec\\uc790\\ub294\",\"\\uadc0\\uc5d0\",\"\\ub450_\\uc190\\uc744\",\"\\ub354_\\ub192\\uc774\",\"\\ucc44\\uc6cc\",\"\\ubc1b\\uace0\",\"\\uc54a\\uc9c0\\ub9cc\",\"\\uc0ac\\uc9c4\",\"by\",\"will\",\"Lets\",\"\\uc704\\uc5d0\\uc11c\",\"\\uae08\\ubc29\",\"wake_up\",\"\\ubc24\\uc740\",\"\\uc544\\ubb34\\ub7f0\",\"\\ubd88\\uc744\",\"\\ud558\\uac8c\",\"the_world\",\"\\uac19\\uc9c0\",\"\\ud604\\uc2e4\\uc744\",\"bout\",\"\\ub410\\uace0\",\"\\uc804\\ubd80\\ub2e4\",\"just_do\",\"let_it\",\"Keep\",\"ma_girl\",\"cause\",\"\\ub204\\uad6c\\ub098\",\"bounce\",\"\\uadf8\\ub300\\uc5ec\",\"\\ub110_\\uc704\\ud55c\",\"\\ub9e8\",\"\\uc5bc\\uad74\\uc744\",\"\\ub2e4\\ub9ac\",\"swag\",\"\\uc5ec\\ud0dc\",\"\\uc9c0\\ub098\\uac00\\ub294\",\"good_night\",\"\\uaf43\",\"\\ud6c4\\uc5d0\",\"vibe\",\"\\uc720\\uc77c\\ud55c\",\"\\ub4e4\\ub824\",\"\\uc9e7\\uc740\",\"\\ubaa8\\ub4e0_\\uac83\\uc774\",\"\\uc18d\\uc744\",\"\\uc774\\uc81c\\ubd80\\ud130\",\"\\ubc14\\ub2e4\",\"\\uc5b8\\uc81c\\uae4c\\uc9c0\",\"\\ub204\\uc6cc\",\"was\",\"\\uc120\",\"\\ub2e4\\uc2dc_\\ud55c\\ubc88\",\"\\ud588\\uc9c0\\ub9cc\",\"the_best\",\"\\uc0c8\\ub07c\\ub4e4\",\"You_are\",\"\\ub300\\ud574\",\"\\ubc14\\ube60\",\"\\ub610\\ud55c\",\"u_know\",\"\\ubb3c\\uc5b4\\ubd10\",\"\\ud55c\\ubc88_\\ub354\",\"\\ubb38\\uc81c\",\"\\ub4a4\\uc5d0\\uc11c\",\"\\uae30\\ub3c4\\ud574\",\"\\ub098\\uba74\",\"\\ubcf4\\uc5ec\\uc918\",\"\\uc744\",\"\\ud14c\\ub2c8\",\"Cuz\",\"\\uc644\\uc804\\ud788\",\"\\ub108\\ud55c\\ud14c\",\"\\uac10\\uc815\\uc744\",\"\\ubed4\\ud574\",\"\\uc2dc\\uc6d0\\ud55c\",\"people\",\"\\ub194\",\"\\ub05d\\uc744\",\"\\ub2e4\\uc74c\\uc5d0\",\"rock\",\"da\",\"\\uad00\\uc2ec\",\"\\ub3c8\\uc740\",\"\\ud615\",\"\\uadf8\\ub4e4\\uc758\",\"\\uc785\\uc220\",\"\\uc601\\ud654\",\"really\",\"\\uace0\\uac1c\",\"\\uc7a0\\uc744\",\"\\ubb50\\ub77c\\uace0\",\"\\uac19\\uc740\\ub370\",\"B\",\"\\uac83_\\uac19\\uc560\",\"\\ub098\\uc628\",\"\\uc5c6\\uc73c\\uba74\",\"\\uc65c_\\uc790\\uafb8\",\"\\uae30\\uc5b5\\uc744\",\"\\uc774\\uacf3\\uc740\",\"\\ubfd0\\uc774\\uc57c\",\"\\ub530\\ub77c\\uc640\",\"\\uc54c\\uc544\\uc11c\",\"around\",\"\\uc7a0\\uc774\",\"\\uc544\\ub2c8\\ub77c\",\"lets_go\",\"\\ub9d0\\ud588\\uc9c0\",\"\\ub9c8\\uc74c\\uc740\",\"\\uc0ac\\uc774\\uc5d0\",\"\\ub2c8\\ub4e4\\uc774\",\"\\ud558\\uba74\\uc11c\",\"every\",\"\\uce5c\\uad6c\\uac00\",\"\\uc5c6\\uc73c\\ub2c8\",\"be_with\",\"heart\",\"so_beautiful\",\"Money\",\"\\uc774\\uc81c\\uc11c\\uc57c\",\"have\",\"\\uc624\\ub298_\\ubc24\\uc740\",\"slow\",\"Lets_go\",\"\\ub0b4\\uac8c\\ub85c\",\"\\ud589\\ubcf5\\uc744\",\"as\",\"\\uc788\\uaca0\\uc9c0\",\"\\uac08\\ub798\",\"hustle\",\"\\ub530\\uc704\",\"\\uc190\\uc774\",\"\\uc624\\ub85c\\uc9c0\",\"\\ub108\\ub9cc\\uc758\",\"\\ud558\",\"\\ubc14\\ub77c\\ub294\",\"\\uac70\\uc758\",\"\\uc5f0\\ub77d\",\"\\ud5a5\\uae30\",\"\\uac08_\\uc218\",\"\\uc9c0\\uae08\\ubd80\\ud130\",\"\\ud604\\uc2e4\\uc5d0\",\"\\ud53c\\ud574\",\"\\ub108\\uc5d0\\uac90\",\"\\uc544\\ubc84\\uc9c0\",\"\\uc704\\ub97c\",\"God\",\"Good\",\"\\ud6c4\\ud68c\",\"\\uae4a\\uc774\",\"\\ub098\\uc640_\\ud568\\uaed8\",\"\\ud558\\uace0_\\uc2f6\\uc5b4\",\"lets_dance\",\"\\ud558\\ub294\\uc9c0\",\"\\ubbf8\\uc548\",\"\\ubcf4\\uc9c0\",\"\\ud138\\uc5b4\",\"\\uba39\\ub294\",\"\\ub0b4_\\uc0b6\\uc740\",\"\\uc54c\\uace0_\\uc2f6\\uc5b4\",\"\\ubc30\",\"\\uc0b6\\uc5d0\",\"kill\",\"\\ubc14\\uc05c\",\"\\uc6b0\\ub9ac_\\uc0ac\\uc774\",\"\\ud3b8\\ud558\\uac8c\",\"\\ub2e4\\uac19\\uc774\",\"\\uc874\\uc7ac\",\"going\",\"\\uc900\",\"\\ube44\\ucf1c\",\"hater\",\"\\ub108\\ud76c\",\"we_can\",\"mic\",\"two\",\"\\ub204\\uac00_\\ubb50\\ub798\\ub3c4\",\"\\uc548_\\ud574\\ub3c4\",\"\\uac83\\ub9cc\",\"\\uc528\\ubc1c\",\"Party\",\"\\ub418\",\"but_i\",\"\\uc790\\uc2e0\\uc774\",\"\\uc775\\uc219\\ud55c\",\"\\ub098\\ub780\",\"\\ubb54\\ub370\",\"\\uc78a\\uc5b4\",\"\\ucd5c\\uace0\\uc758\",\"\\ube7c\\uace0\",\"\\uafc8\\uc758\",\"\\ub0a8\\ub4e4\\uc774\",\"\\ub4e4\\uc740\",\"star\",\"nobody\",\"\\uc5ec\\uae30\\uae4c\\uc9c0\",\"right_here\",\"\\uac8c\\uc784\",\"\\ub5a0\\uc62c\\ub77c\",\"\\ub4a4\\ub97c\",\"\\ubc14\\ubcf4\\uac19\\uc774\",\"\\uc7a1\\uc740\",\"\\ud654\\ub824\\ud55c\",\"\\uac71\\uc815\\ub9c8\",\"\\uc18c\\ub9ac\\ub97c\",\"\\uc54c\\uba74\\uc11c\\ub3c4\",\"change\",\"\\uc9c0\\uae08\\uc774\",\"\\uac00\\ub3c4\",\"and_on\",\"\\ud544\\uc694\\uc5c6\\uc5b4\",\"\\ud0c0\\ub294\",\"hey_hey\",\"\\ub290\\uaef4\\uc838\",\"Its_all\",\"\\ub4e4\\uc5b4\\uc640\",\"\\uc598\\uae30\\ub97c\",\"\\uac00\\ubccd\\uac8c\",\"cuz\",\"\\ub0af\\uc120\",\"\\ud55c\\uc794\",\"\\ub108\\ubb34_\\uc88b\\uc544\",\"\\uaca8\\uc6b8\",\"Feel\",\"\\uc8c4\\ub2e4\",\"\\ub3d9\\uc548\",\"\\ubb34\\uc870\\uac74\",\"alone\",\"no_way\",\"\\ub9d0\\ub9cc\",\"\\ub3cc\\uc544\\uac00\",\"i_can\",\"gone\",\"Why\",\"\\uc6c3\\ub294\",\"\\uac00\\uce58\",\"woo_woo\",\"\\uad00\\uacc4\",\"\\ud655\\uc2e4\\ud788\",\"dope\",\"\\ub3c4\",\"\\ud560\\ub798\",\"\\uc870\\uae08\\ub9cc\",\"Life\",\"\\uc2ec\\uc7a5\\uc744\",\"\\uc601\\uc6d0\\ud55c\",\"That\",\"\\ucda9\\ubd84\\ud788\",\"Im_going\",\"\\uadc0\\ub97c\",\"\\ubaa9\",\"were\",\"\\ubbf8\\ub9ac\",\"\\uc0b4\\uace0\",\"When\",\"ready\",\"\\ub0b4\\uac00_\\uc6d0\\ud558\\ub294\",\"\\ub05d\\uc5c6\\uc774\",\"take_a\",\"\\ubb34\\uac70\\uc6b4\",\"\\ubabb\\ud588\\uc5b4\",\"\\uc2e0\\uacbd\",\"go_go\",\"Hip_Hop\",\"\\ubb34\\uc5c7\\uc744\",\"cool\",\"\\uc6b0\\ub9ac_\\ub458\\uc774\",\"\\uc774\\ud574\",\"\\ubaa8\\ub974\\uac8c\",\"\\uc74c\\uc545\\uc5d0\",\"\\uc544\\ube60\",\"put\",\"\\ud145_\\ube48\",\"\\ube44\\uc6cc\",\"Do\",\"\\uc0ac\\uc774\\ub85c\",\"\\uac83\\ub9cc_\\uac19\\uc544\",\"\\uacf3\\uc740\",\"\\uc598\\uae38\",\"\\ub9d8\\ub300\\ub85c\",\"I_miss\",\"\\uac74\\ub370\",\"\\uc704\\ud5d8\\ud574\",\"Welcome_to\",\"\\ube68\\uac04\",\"Imma\",\"\\ud55c\\uc228\",\"\\ud589\\ubcf5\",\"\\uac00\\ub4dd\\ud574\",\"\\ube44\\ub85d\",\"\\uce5c\\uad6c\\ub4e4\\uacfc\",\"\\uc6b8\\uace0\",\"\\ub0b4_\\ub9c8\\uc74c\\uc740\",\"\\ub2f9\\uc2e0\",\"\\ub5a0\",\"\\uc2f6\\uc9c0\\ub9cc\",\"\\uacf3\\uc744\",\"\\uc11c\\uc11c\",\"\\uc548\\uace0\",\"thang\",\"want_it\",\"\\ub208\\uc740\",\"\\uc4f0\\ub294\",\"\\uc9d3\",\"\\ub0b4\\uc77c\\ub3c4\",\"\\uadf8\\uc758\",\"\\uc774\\ub9ac\",\"\\ub098_\\ud640\\ub85c\",\"aint_no\",\"Your\",\"\\uac00\\ub054\\uc529\",\"\\ub0a8\\uc758\",\"\\ubcd1\\uc2e0\",\"give\",\"girls\",\"\\ud53c\",\"hiphop\",\"\\uc804\\ud654\\ub97c\",\"\\ud798\",\"\\ub3d9\\ub124\",\"\\uce58\\uace0\",\"\\ub188\\ub4e4\\uc740\",\"\\ubd10\\ub77c\",\"Yeah_Im\",\"\\ub5a8\\uc5b4\\uc9c0\\ub294\",\"\\uc190\\uac00\\ub77d\",\"\\ub098\\ub984\",\"\\uc870\\uc6a9\\ud788\",\"\\uc5c4\\ub9c8\\uc758\",\"god\",\"homie\",\"\\ucc29\\ud55c\",\"\\uc18c\\ub9ac\\uccd0\",\"\\ubd10\\ubd10\",\"\\ub108\\ub9cc\\uc744\",\"\\ub3d9\\uc2dc\\uc5d0\",\"than\",\"\\uc544\\uce68\\uc5d0\",\"\\uac19\\ub358\",\"step\",\"\\ud55c\\ub9c8\\ub514\",\"\\uc788\\uc5b4\\uc918\",\"\\uc18d\\uc73c\\ub85c\",\"\\ub05d\\ub0b4\",\"Im_gonna\",\"feel_so\",\"\\uaebc\",\"\\ub05d\\uc740\",\"\\uc2a4\\ud0c0\\uc77c\",\"track\",\"face\",\"\\ub108\\ub97c_\\uc704\\ud574\",\"\\ubcf4\\ub0b8\",\"\\uc0c1\\ucc98\\ub97c\",\"\\ub9d0\\ud560\\uac8c\",\"\\uc5bc\\ub978\",\"\\uc788\\ub2e4\",\"\\ub0a8\\uc790\\ub294\",\"\\ub420\\uae4c\",\"my_heart\",\"done\",\"Flow\",\"\\ubbff\\uc9c0\",\"\\ud30c\\ub3c4\",\"ever\",\"\\uc0ac\\uc2e4\\uc740\",\"\\ucc28\\ub840\",\"think_about\",\"\\uc774\\ub798\",\"\\ub108\\uc640\\ub098\",\"\\uba38\\ub9b4\",\"\\ucc0d\\uc5b4\",\"\\ubc1b\\uc740\",\"how_we\",\"\\uc0c8\\ub85c\",\"\\ubaa8\\uc5ec\",\"you_gotta\",\"Know\",\"\\ub2f9\\uc5f0\\ud788\",\"\\uadf8\\ub3d9\\uc548\",\"eyes\",\"\\ud560_\\ub54c\",\"\\ube44\\uc2fc\",\"\\ub355\\uc5d0\",\"\\uc5b4\\uae68\\ub97c\",\"\\uc774\\ub984\\uc744\",\"\\uc7a0_\\ubabb\",\"\\uc5ec\\uc794\",\"\\ub2f5\\uc744\",\"\\uc2f9\",\"\\ubc18\\ubcf5\",\"\\uc0dd\\uac01\\ud558\\ub294\",\"\\ub110_\\ud5a5\\ud55c\",\"how_to\",\"\\uc6b0\",\"\\uce5c\\uad6c\\ub4e4\\uc774\",\"\\uac70\\uc9d3\",\"\\ubc29\\uc2dd\",\"low\",\"\\ud558\\ub2c8\",\"another\",\"\\uc880\\ub354\",\"every_day\",\"\\uc120\\ud0dd\",\"turn\",\"\\uc900\\ube44\\ud574\",\"\\uc788\\ub294\\uc9c0\",\"\\ub728\\uac81\\uac8c\",\"Damn\",\"I_have\",\"be_alright\",\"\\ub7a9\\ud37c\",\"story\",\"\\ubd80\\ub514\",\"\\uc808\\ub300_\\uc548\",\"\\uc5b4\\ub290\\ub367\",\"\\ud55c_\\uc794\",\"\\uc11c\\ub85c\\uac00\",\"\\uba4b\\ub300\\ub85c\",\"\\ud5a5\\ud55c\",\"\\uac70\\ub9ac\\ub294\",\"\\ud798\\ub4e4\\uc5b4\\ub3c4\",\"\\ud480\\uc5b4\",\"\\uc5bc\\uad74\\uc5d0\",\"\\ubc14\\ubcf4\\ucc98\\ub7fc\",\"\\ub098\\ucc98\\ub7fc\",\"\\ub55c\\uc5d0\",\"\\ub0b4\\uac00_\\uac00\\uc9c4\",\"ass\",\"my_god\",\"\\ubcf4\\ub2c8\\uae4c\",\"\\uc774_\\ub178\\ub798\\ub97c\",\"\\ub4e4\\ub9ac\\ub294\",\"\\ud64d\\ub300\",\"\\uadf8\\ub9bc\",\"\\ubd80\\uc871\\ud55c\",\"\\uc5c6\\uc774\\ub3c4\",\"\\uc18c\\ub9ac\\uac00\",\"\\uc8fc\\uace0\",\"wanna_do\",\"\\ub2e4\\ub9cc\",\"\\ub611\\ubc14\\ub85c\",\"\\uba38\\ub9bf\\uc18d\\uc5d0\",\"\\ub3c4\\uc2dc\",\"Lets_get\",\"\\uc218\\uac00_\\uc5c6\\uc5b4\",\"\\uba3c\",\"\\ubd99\\uc5b4\",\"\\uac78\\ub85c\",\"\\ub4e3\\ub294\",\"\\ud589\\ubcf5\\ud558\\uac8c\",\"\\ub204\\uac00_\\ubb50\\ub77c\",\"\\uc774\\ubc88\",\"\\uc788\\uc73c\\ub2c8\\uae4c\",\"\\ucc98\\uc74c\\ubd80\\ud130\",\"what_i\",\"\\uc9c0\\ub294\",\"\\ubc14\\ub77c\",\"\\ub208\\uc744_\\uac10\\uace0\",\"\\ud558\\uc9c0_\\ub9c8\",\"\\ub108\\uc57c\",\"\\uc65c_\\uc774\\ub807\\uac8c\",\"\\ub54c\\ub85c\\ub294\",\"the_air\",\"\\uac04\\ub2e4\",\"ah_ah\",\"\\uc5c6\\uc5b4\\uc11c\",\"\\uc78a\\uc9c0\",\"\\uc544\\ub2c8\\ub77c\\uace0\",\"\\ub9c8\\uc2dc\\uace0\",\"\\ub9ce\\uc5b4\",\"\\uc568\\ubc94\",\"\\uac08\\uc218\\ub85d\",\"drink\",\"hate\",\"\\ubc1b\\ub294\",\"\\ubabb\\ub09c\",\"\\ub188\\uc740\",\"\\ub178\\ub798\\uac00\",\"\\ub9c8\\ub2e4\",\"\\ud6e8\\uc52c\",\"kiss\",\"\\ubb54\",\"\\ub208\\ubd80\\uc2e0\",\"\\uc785\\uc740\",\"\\uc2e0\\uacbd_\\uc548\",\"be_your\",\"\\ubc97\\uc5b4\",\"\\uc9d9\\uc740\",\"\\ub108_\\ud558\\ub098\\ub9cc\",\"\\ub108\\ub97c_\\uc6d0\\ud574\",\"side\",\"\\uc788\\ub2e4\\uace0\",\"where_you\",\"song\",\"shine\",\"Never\",\"\\ub290\\ub080\",\"if\",\"\\ub354_\\ud070\",\"\\uc18d\\uc740\",\"\\ubc18\\ub300\\ub85c\",\"\\uc774\\uc720\\ub294\",\"\\uc0ac\\ub791\\ud55c\\ub2e4\",\"black\",\"\\uc785\\uace0\",\"time_is\",\"\\ud558\\ub098\\uc529\",\"Im_still\",\"Oh_oh\",\"ho\",\"\\uc62c\",\"\\ucc59\\uaca8\",\"\\uc606\\uc5d0\\uc11c\",\"\\ub204\\uad74\",\"\\ub2e4\\ub974\\uc9c0\",\"\\uadf8\\ub148\",\"\\uadf8\\ub140\\uc5d0\\uac8c\",\"\\ud544\\uc694\\ud55c\",\"\\ub3c8_\\ubc8c\\uc5b4\",\"\\ub2ec\",\"\\uc7a0\\uae50\\ub9cc\",\"In\",\"when_I\",\"la\",\"rapper\",\"\\ucc28\\uac11\\uac8c\",\"\\uc5d0\\uc11c\",\"\\ud574\\ubd10\",\"High\",\"\\ud558\\ub8e8\\ud558\\ub8e8\",\"\\ubc18\\ubcf5\\ub418\\ub294\",\"\\uac71\\uc815\\uc740\",\"\\uadf8\\ub294\",\"ooh\",\"\\uc5b4\\uca5c\",\"\\ub108\\ud770\",\"\\ubd24\\uc9c0\",\"fall_in\",\"\\ub9d8\\uaecf\",\"\\uac78\\uc74c\",\"\\uc637\\uc744\",\"\\uc560\\ub4e4\\uc774\",\"\\uadf8\\ub7f4\",\"\\uac83_\\uac19\\uc740\",\"\\ub098\\ub97c_\\ubbff\\uc5b4\",\"Can\",\"\\ubbff\\uc74c\",\"\\uac00\\uc9c0\\ub9c8\",\"Put_your\",\"\\uadf8\\ub0a0\",\"\\uc9c0\\ub098\\uba74\",\"\\uc5c4\\ub9c8\\uac00\",\"your_heart\",\"\\ud589\\ubcf5\\ud588\\ub358\",\"C\",\"\\ud639\\uc2dc\\ub098\",\"\\ubc84\\ub838\\uc5b4\",\"\\uadf8_\\ub204\\uad6c\\ub3c4\",\"\\uc9c4\\uc9dc\\ub85c\",\"\\ub5a8\\uc5b4\\uc838\",\"\\uc798\\ud574\",\"\\uc544\\ubb34\\ub3c4_\\ubaa8\\ub974\\uac8c\",\"\\ub2ec\\ub7ec\",\"\\ubaa9\\uc5d0\",\"\\ucee4\\ud53c\",\"\\ub05d\\ub0ac\\uc5b4\",\"\\ub2f5\",\"\\ub9e4\\uc77c_\\ub9e4\\uc77c\",\"\\ub178\\ub7a0\",\"\\ud0dc\\uc6cc\",\"\\uc788\\ub098\",\"fresh\",\"try\",\"\\uc624\\ub298\\uc758\",\"\\ub098_\\uc5ed\\uc2dc\",\"\\ub0a0\\uc544\",\"\\uc624\\ub79c\\ub9cc\\uc5d0\",\"\\ucd94\\uc5b5\\uc744\",\"\\ub0a0\\ub4e4\",\"\\ud798\\ub4e4\\uac8c\",\"your_mind\",\"\\uc640\\uc11c\",\"\\uc2dc\\uac04\\uc758\",\"\\ub9d0\\ud558\\uace0\",\"\\ubc24\\ub9c8\\ub2e4\",\"we_go\",\"\\ub0b4\\uaebc\",\"\\uc218_\\uc788\\uc744\\uae4c\",\"\\uc720\\ub09c\\ud788\",\"\\ub77c\\ub294\",\"\\ubabb\\ud558\\uac8c\",\"\\ud55c\\uc5c6\\uc774\",\"\\uc654\\uc9c0\",\"\\ubd04\",\"She\",\"\\ub9c8\\uc800\",\"\\ud2b9\\ubcc4\\ud55c\",\"\\uc27f\",\"\\uc0b0\",\"\\uc774\\uacf3\\uc5d0\",\"\\ub2ee\\uc740\",\"\\ub0b4_\\ub9d8\\ub300\\ub85c\",\"\\ubb34\\uc11c\\uc6cc\",\"\\ubcf4\\ub124\",\"\\uadf8\\ub7ec\\uba74\",\"\\ub208\\uc744_\\uac10\\uc544\",\"\\uc0ac\\ub791\\ud55c\\ub2e4\\uace0\",\"lonely\",\"\\uc544\\ud504\\uac8c\",\"\\uc5bc\\uad74\\uc774\",\"\\uc5b8\\uc81c\\ub4e0\",\"ur\",\"\\ub2f5\\uc740\",\"\\uc8fc\\ubcc0\",\"\\uc0c1\\ud0dc\",\"\\ud14c\\ub2c8\\uae4c\",\"\\ubaa8\\ub974\\uaca0\\uc9c0\\ub9cc\",\"\\uae38\\uc5d0\",\"\\uac10\\uc815\\uc740\",\"\\uace8\\ub77c\",\"\\ub458\\ub9cc\\uc758\",\"\\uc5b4\\ucc0c\",\"\\uadf8\\uac70\",\"\\uc798\\ubabb\",\"pain\",\"\\ud55c\\ub2e4\\uba74\",\"\\ub354\\ub7ec\\uc6b4\",\"Hello\",\"\\uc544\\ub4e4\",\"Fly\",\"Cause\",\"he\",\"\\uc790\\ub9ac\\ub97c\",\"\\uc5f4\",\"\\uc0b4_\\uc218\",\"\\uba4b\\uc9c0\\uac8c\",\"\\ube44\\uce5c\",\"\\ud655\",\"\\ub0b4_\\ub208\\uc5d4\",\"morning\",\"\\uac00\\uc871\",\"\\uc9c4\",\"hit\",\"\\ubb38\",\"\\uc5b4\\ub51c\",\"\\uc2eb\\uc740\",\"\\uae30\\ub2e4\\ub9ac\\ub294\",\"\\uc801\\uc5b4\\ub3c4\",\"Give_me\",\"\\uc0dd\\uac01\\ub3c4\",\"\\uc9c4\\uc2ec\\uc744\",\"La_La\",\"\\uc778\\ub9c8\",\"\\ub204\\uad70\",\"\\uc77c\\ub3c4\",\"\\ud558\\ub098\\ub85c\",\"\\ubb50\\ub4e0\\uc9c0\",\"\\uc2dc\\uc791\\uc740\",\"\\ubd84\\uba85\\ud788\",\"\\ubbf8\\uc18c\\uac00\",\"wow\",\"\\ube7c\",\"\\ud55c\\ucc38\",\"OH\",\"\\uac00\\ubcbc\\uc6b4\",\"\\uac83\\ub4e4\\uc740\",\"\\ub2e4\\uac00\\uac00\",\"\\uacf5\\uae30\",\"wave\",\"\\ucda9\\ubd84\\ud574\",\"4\",\"\\ub530\\uc704\\ub294\",\"\\ub9de\\ub294\",\"\\ub2ec\\ub9ac\\ub294\",\"only_one\",\"\\uc5b4\\uba38\\ub2c8\",\"\\uc790\\uc2e0\",\"\\uac10\\ud788\",\"rappers\",\"back_in\",\"If\",\"\\uc778\\uc0dd\\uc774\",\"\\ubb50\\ub77c\",\"mirror\",\"\\uac10\\uc815\\uc774\",\"\\uba40\\uc5b4\",\"Get_it\",\"maybe\",\"my_lady\",\"\\uc0ac\\ub791\\ud574_\\uc0ac\\ub791\\ud574\",\"\\uc774_\\ub178\\ub79c\",\"\\uc804\\ud574\",\"made\",\"\\ucee4\\ub2e4\\ub780\",\"\\ud150\\ub370\",\"\\ub290\\uaef4\\ubd10\",\"\\ud754\\ub4e4\\ub9ac\\ub294\",\"\\ub0b4\\uac00_\\uba3c\\uc800\",\"We_are\",\"\\ub9c8\\uc694\",\"\\uc2f6\\uc5b4\\uc11c\",\"\\uc785\\uc220\\uc744\",\"\\ubb38\\uc790\",\"\\ub208\\ubb3c\\uc740\",\"Love_is\",\"\\uadc0\",\"i_need\",\"\\uc5c6\\uc744\",\"wait\",\"\\uc774_\\ub178\\ub798\\ub294\",\"\\uac04\\uc9c0\",\"Music\",\"\\ubc00\\uc5b4\",\"\\uc774\\uae30\\uc801\\uc778\",\"talk\",\"Who\",\"\\uc54c\",\"\\ubc1d\\uac8c\",\"\\ubcf4\\uae30\",\"\\uace1\",\"\\ud560_\\ub9d0\\uc774\",\"\\ubcfc\\uae4c\",\"\\uc220\\uc774\",\"all_right\",\"\\ubc14\\ub77c\\ubcf4\\uba70\",\"\\ubcf4\\uba74\\uc11c\",\"\\ub450_\\ubc88\",\"\\uc7a0\\ub4e0\",\"give_up\",\"\\uc18d\\uc774\",\"\\ubaa8\\uc544\",\"\\ud1b5\\ud574\",\"things\",\"\\uc6d0\\ud55c\\ub2e4\\uba74\",\"\\ub5a8\\ub9ac\\ub294\",\"\\ubd24\\ub358\",\"\\ubabb\\ud574\\ub3c4\",\"\\uc788\\uc5c8\\uc9c0\",\"even\",\"Come\",\"\\uc6b0\\ub9ac\\ub4e4\\uc758\",\"getting\",\"\\ub0a0\\uc544\\uac00\",\"\\ubc1f\\uace0\",\"\\ub4e0\",\"Look_at\",\"\\ubcf4\\ub2e4_\\ub354\",\"said\",\"\\ubd88\\uc548\\ud574\",\"P\",\"bang\",\"fame\",\"\\ub9e4\",\"\\ub354_\\uc774\\uc0c1\\uc740\",\"Im_feelin\",\"\\uc5f4\\uc5b4\",\"\\ud588\\ub294\\ub370\",\"\\ub9d0\\ud588\\uc796\\uc544\",\"\\ud559\\uad50\",\"give_it\",\"line\",\"Day\",\"fire\",\"goin\",\"\\ud589\\ub3d9\",\"\\uac70\\uae30\\uc11c\",\"\\uc5c6\\uc5c8\\uc9c0\",\"\\ubd99\\uc7a1\\uace0\",\"walk\",\"\\ub4e4\\uc774\",\"\\ub108_\\uc5c6\\uc778\",\"\\ub9d0\\ub4e4\",\"\\ub2e8\\uc5b4\",\"THE\",\"MC\",\"\\ub530\\uc2a4\\ud55c\",\"Oh_baby\",\"\\uc9c0\\uaca8\\uc6cc\",\"\\ub0a8\\uc790\\ub4e4\\uc740\",\"about_me\",\"\\uace0\\uac24\",\"\\uc6d0\\ud558\\uc9c0\",\"\\ucda4\\uc744_\\ucdb0\",\"\\uac78\\uc5b4\\uac00\\ub294\",\"\\ubabb\\ud588\\ub358\",\"Stop\",\"our\",\"\\uc5f4\\uc815\",\"\\uc548_\\ub418\\ub294\",\"\\uac77\\uace0\",\"\\uc9d1\\uc73c\\ub85c\",\"\\uc2dc\\uac04\\ub3c4\",\"\\ud558\\ub2c8\\uae4c\",\"lie\",\"\\uad1c\\ud55c\",\"\\uac74\\ubc30\",\"lets_get\",\"\\uc62c\\ub77c\\uac00\\ub294\",\"Hot\",\"\\uc774_\\uc138\\uc0c1\",\"break\",\"\\ucc0d\\uace0\",\"\\uc228\\uc5b4\",\"together\",\"\\uae68\",\"\\uc5b4\\uc0c9\\ud55c\",\"Lady\",\"BABY\",\"\\uc544\\ubb34_\\uac83\\ub3c4\",\"\\ub9cc\\ub0a8\",\"\\ube60\\uc9c4\",\"\\ub54c\\ub824\",\"\\ub110_\\ubcf4\\uba74\",\"get_low\",\"\\ub204\\uad70\\uac00\\uc758\",\"\\uc369\\uc740\",\"peace\",\"\\uc218\\uac00\",\"\\uc5c6\\ub2e4\\uba74\",\"\\uc57d\\uc18d\\ud574\",\"Make\",\"\\ud574\\uc904\\uac8c\",\"\\uc774\\uc720\\uac00\",\"\\uc911\\uc5d0\",\"Still\",\"\\ub0b4_\\ud488\\uc5d0\",\"rain\",\"\\uc798\\ub09c\",\"\\ub611\\uac19\\uc544\",\"\\ub5a0\\ub098\\uac00\",\"\\uc120\\ubb3c\",\"\\uadf8\\ub140\\uc640\",\"the_real\",\"\\uc560\\ucd08\\uc5d0\",\"true\",\"\\ubc18\\ub4dc\\uc2dc\",\"\\ub2ec\\ub824\\uac00\",\"dont_give\",\"\\ubb3b\\uc9c0\",\"\\ubd80\\uc871\\ud574\",\"\\ubcf4\\ub0b4\\ub294\",\"\\uc54a\\uc744\\uac8c\",\"\\uc131\\uacf5\",\"\\ubbf8\\uce5c_\\ub4ef\\uc774\",\"\\ub208\\ubb3c\\ub85c\",\"\\ub20c\\ub7ec\",\"\\uadf8\\ub7ac\\uc5b4\",\"You_dont\",\"\\ub2f4\\uc740\",\"\\uc11c\\uc788\\uc5b4\",\"S\",\"UP\",\"the_only\",\"New\",\"\\ub098\\ub3c4_\\uc54c\\uc544\",\"\\ub9d0\\ud574\\ub3c4\",\"Real\",\"\\ubfd0\\uc57c\",\"\\ucf54\",\"\\ud568\\ubd80\\ub85c\",\"\\uc790\\uc874\\uc2ec\",\"\\ub208\\uc73c\\ub85c\",\"\\uac00\\ub824\",\"wanna_get\",\"\\uafc8\\uc5d0\\uc11c\",\"\\ub35c\",\"\\ub05d\\uc5c6\\ub294\",\"\\uc815\\ub3c4\\ub85c\",\"\\uc81c\",\"\\ubcf4\\uc790\",\"bye\",\"\\ubb58_\\ud574\\ub3c4\",\"\\uadfc\\ub370_\\uc65c\",\"\\uc0ac\\ub77c\\uc9c4\",\"Tonight\",\"\\uc544\\ud514\\uc744\",\"\\ubcf4\\uc774\\uc9c0\",\"\\ubc88\",\"\\ub9d0\\ud574\\ubd10\",\"\\ucc28\\uc774\",\"feelin\",\"\\uc774_\\ub178\\ub7a0\",\"club\",\"\\ud604\\uc7ac\",\"N\",\"\\uc54a\\ub358\",\"\\ubcf4\\uace0\\uc2f6\\uc5b4\",\"\\uc5bc\\ub9c8\",\"a_good\",\"\\ubc14\\ub78c\\uc774\",\"fuck_that\",\"groove\",\"\\uc313\\uc778\",\"\\uc774\\ubc88\\uc5d4\",\"its_all\",\"team\",\"\\uc548\\ub418\\ub294\",\"\\uc798_\\ubab0\\ub77c\",\"coming\",\"\\ud55c\\uad6d\",\"\\uc2e0\\ubc1c\",\"so_good\",\"\\uc131\\uaca9\",\"\\uc624\\ub298\\uc744\",\"\\uc640\\ub3c4\",\"\\ub0a0\\uac1c\\ub97c\",\"\\uac10\\uc0ac\\ud574\",\"want_to\",\"V\",\"\\uc800\\uae30_\\uc800\",\"\\ub798\\ud37c\",\"\\ub3cc\\uc544\\uac00\\ub294\",\"home\",\"\\uc544\\ubb34_\\ub9d0\\ub3c4\",\"Stand_up\",\"aye\",\"\\ud074\\ub7fd\",\"\\ud799\\ud569\\uc740\",\"em\",\"\\uba4d\\uccad\\ud55c\",\"\\uac83\\ub4e4\\uc744\",\"a_dream\",\"\\ub9c8\\uc74c\\uc758\",\"\\ubaa8\\ub97c\",\"\\ub0b4\\uc77c\\uc744\",\"burn\",\"\\uc0ac\\ub791\\ub3c4\",\"\\uac19\\uc544\\uc11c\",\"\\uc6b8\\ub824\",\"\\uc904_\\uc218\",\"easy\",\"\\uc62c\\ub77c\\ud0c0\",\"\\uc138\\uc6cc\",\"\\ubc14\\ub78c\\uc5d0\",\"\\ubc29\\uc5d0\",\"\\uc870\\uc2ec\\ud574\",\"\\uc544\\uce68\\uc774\",\"\\ub418\\ub824\",\"Im_doing\",\"\\uac01\\uc790\\uc758\",\"been\",\"\\uc4f8\\ub370\\uc5c6\\ub294\",\"\\uc804\\ud654\\ud574\",\"\\uba3c\\uc9c0\",\"\\ub0a8\\uaca8\\uc9c4\",\"\\uc54a\\uc558\\uc9c0\",\"\\uc788\\uc5c8\\uc5b4\",\"\\uc0c1\\ucc98\\uac00\",\"\\uacf3\\uc774\",\"\\uc5b4\\ub460\\uc774\",\"\\uc2e0\\uc774\",\"\\ubb3c\\uace0\",\"\\uc544\\uae4c\\uc6cc\",\"\\uc0c1\\uc0c1\",\"\\ubc14\\ubcf4_\\uac19\\uc740\",\"my_everything\",\"\\uc2dc\\uc120\\uc744\",\"\\uac00\\uc9dc\",\"\\uc5ec\\ub984\",\"zone\",\"\\uc5b4\\ub824\\uc6cc\",\"hold_up\",\"\\uc55e\\uc744\",\"Woo\",\"\\ub193\\uc740\",\"Oh_yeah\",\"talk_about\",\"\\ube44\\uc2b7\\ud55c\",\"\\ud55c\\ucc38\\uc744\",\"soul\",\"of_my\",\"\\ubbf8\\uce5c\\ub4ef\\uc774\",\"\\uadf8\\ub54c\\ub294\",\"\\ud758\\ub7ec\\uac00\\ub294\",\"\\uc774\\uc0c1\\ud574\",\"haters\",\"\\ud558\\ub098\\ub9cc\",\"\\uc2e0\\uc740\",\"Rock\",\"\\ub9cc\\ub098\\uc11c\",\"\\ubd24\\uc790\",\"\\uc5c6\\uaca0\\uc9c0\",\"\\uc774\\uc0c1\",\"\\uc758\\ubbf8\",\"\\uadf8\\ub54c\\uc758\",\"\\ud558\\ub298\\uc774\",\"life_is\",\"\\ub2f9\\ub2f9\\ud788\",\"\\uac8c_\\uc544\\ub0d0\",\"\\uc5ec\\uc790\\ub4e4\\uc740\",\"Take\",\"i_aint\",\"\\uc2dc\\uc791\\ub41c\",\"every_night\",\"\\ub180\\ub798\",\"\\ub9e4\\uc77c\\uac19\\uc774\",\"\\ub110_\\ubcfc\",\"\\uc5c6\\uc5c8\\ub358\",\"I_mean\",\"\\ub0a8\\ub4e4\",\"\\ub9d0\\uc5c6\\uc774\",\"Hey_Hey\",\"\\ubaa9\\uc18c\\ub9ac\\uac00\",\"\\ud488\\uc5d0\",\"\\uc5ec\\uae30\\ub294\",\"\\ud758\\ub824\",\"\\ubd80\\ub4dc\\ub7ec\\uc6b4\",\"\\ub300\\ud55c\\ubbfc\\uad6d\",\"\\ubfd0\\uc778\",\"Baby_Baby\",\"\\uc0ac\\uc18c\\ud55c\",\"leave\",\"\\uc5f0\\uc560\",\"\\ubd80\\ubaa8\\ub2d8\",\"\\uc788\\ub2c8\",\"\\uc783\\uace0\",\"\\uc774\\ubcc4\\uc758\",\"\\uc21c\\uac04\\uc5d0\",\"\\uc11c\\uc11c\\ud788\",\"we_gonna\",\"\\ub418\\uaca0\\uc9c0\",\"\\uc788\\ub294_\\uac74\",\"\\uc608\\uc804\",\"Bitch\",\"\\uc14b\",\"\\uc5ec\\uc790\\ub97c\",\"best\",\"\\ub192\\uc544\",\"\\uc9c0\\uae08\\ucc98\\ub7fc\",\"king\",\"\\ub098\\uc9c0\",\"\\ucda4\\uc744\",\"\\ub204\\uad70\\uac00\\ub294\",\"\\uc881\\uc740\",\"smile\",\"\\ubb38\\uc744\",\"\\ub110_\\ucc98\\uc74c\",\"\\uc0b4\\uc544\\uac00\",\"\\uac07\\ud600\",\"\\uc774\\uc0c1\\ud55c\",\"favorite\",\"\\ub108\\ub97c_\\uc0ac\\ub791\\ud574\",\"\\uc788\\uc73c\\ub2c8\",\"\\ub0a0_\\ub450\\uace0\",\"blue\",\"\\uc5c6\\ub2e4\\ub294\",\"\\ubaa8\\ub974\\uc9c0\",\"\\uca54\\uc5b4\",\"Be\",\"\\ud5c8\\ub9ac\",\"\\ub9e4\\ub825\",\"\\uc5ec\\uc790\\ub4e4\",\"\\ubc14\\ubed0\",\"\\ub7a9\\uc740\",\"\\uc5b4\\uca0c\\ub4e0\",\"Got\",\"ye_ye\",\"\\ubb3c\\uc744\",\"\\ud2f0\",\"\\uc788\\uc74c\",\"\\ub300\\ud654\",\"\\uc704\\uce58\",\"doing\",\"\\uc8fd\\uc5b4\",\"\\uc80a\\uc740\",\"\\uc5ec\\ud0dc\\uaecf\",\"\\uac70\\ub9b4\",\"\\ub9d0\\uc544\\uc694\",\"go_back\",\"\\uc950\\uace0\",\"gotta\",\"\\uacf3\\uc73c\\ub85c\",\"\\uac70\\ub2c8\",\"mean\",\"\\uc6c3\\uc74c\\uc774\",\"\\uc9d1\\uc5d0\\uc11c\",\"\\ub450_\\ub208\",\"\\ub531\\ud788\",\"\\uae30\\uc5b5\\uc740\",\"\\ub9e1\\uaca8\",\"\\ub0b4\\ub9ac\\ub294\",\"\\uadf8\\ub9cc\\ud07c\",\"\\uc54a\\uc744\\uae4c\",\"Time\",\"\\uc778\\uc815\",\"\\uc65c_\\uc774\\ub9ac\",\"\\uc6cc\",\"\\ud3b8\\ud788\",\"\\ube44\\ucdb0\",\"\\uae30\\ud68c\",\"\\ubcfc\\ub798\",\"\\ub54c\\ubd80\\ud130\",\"\\ubcf5\\uc7a1\\ud55c\",\"\\uc2f8\\uc6c0\",\"\\ub0b4_\\uc774\\ub984\\uc744\",\"hands_in\",\"\\ubcc4\\uc774\",\"\\ub108\\ubcf4\\ub2e4\",\"\\ud76c\\ub9dd\\uc744\",\"\\uc6b8\\ub9ac\\ub294\",\"\\uc9c0\\ub098\\ub3c4\",\"\\ubc1c\\uac78\\uc74c\",\"\\ud604\\uc2e4\\uc758\",\"\\ubd80\\ub974\\ub294\",\"For\",\"we_gon\",\"imma\",\"\\ub9cc\\ub4e4\\uace0\",\"a_lot\",\"\\ub2e4\\ub140\",\"\\ub9e4\\uc77c\\ub9e4\\uc77c\",\"\\uc774_\\ub290\\ub08c\",\"\\ub4e4\\uc5b4\\ub3c4\",\"\\ucc38\\uace0\",\"Please\",\"\\ubc49\\uace0\",\"\\ub178\\ub294\",\"\\uac83\\ubcf4\\ub2e4\",\"\\ub0a0\\uc744\",\"Boy\",\"first\",\"these\",\"\\ub7a9\\uc774\",\"\\ud574\\uc694\",\"\\uc775\\uc219\\ud574\",\"They\",\"\\uc0b4\\uba70\\uc2dc\",\"J\",\"\\uc2f6\\uc9c0_\\uc54a\\uc544\",\"call_it\",\"\\uc9c0\\ucf1c\\ubd10\",\"\\ubaa9\\uc774\",\"L_O\",\"hand\",\"\\ub2f5\\ub2f5\\ud55c\",\"Eh_Oh\",\"\\uadf8_\\uc790\\ub9ac\\uc5d0\",\"\\ub180\\uace0\",\"wanna_go\",\"\\uc800_\\ud558\\ub298\",\"\\uac83\\uc5d0\",\"\\ub4e4\",\"\\ubc24\\uc758\",\"\\uac71\\uc815_\\ub9c8\",\"\\uadf8\\ub9ac\\uc6b4\",\"understand\",\"\\ube44\\ud2b8\",\"place\",\"tight\",\"\\uae30\\ub3c4\",\"\\ub0b4_\\uc0b6\\uc5d0\",\"\\uad6c\\ub984\",\"doin\",\"\\uadf8\\ub4e4\\uc774\",\"\\ub2a6\\uc740\",\"\\uc5b4\\ub518\\uac00\",\"\\uc54c\\uaca0\\uc5b4\",\"\\ud799\\ud569\\uc744\",\"\\ub300\\uccb4_\\uc65c\",\"\\uc544\\ubb34\\ub807\\uc9c0_\\uc54a\\uc740\",\"\\uadf8\\ub300\\uc5d0\\uac8c\",\"T\",\"sing\",\"\\ub2c8_\\uc606\\uc5d0\",\"\\uc2dc\\uc120\\uc740\",\"\\ubc1b\\uc9c0\",\"\\uc9c0\\ub3c5\\ud55c\",\"\\ub0a8\\uc744\",\"without_you\",\"Good_bye\",\"With\",\"\\ub188\\ub4e4\\uc774\",\"\\ub0a0\\ub824\",\"\\uac01\\uc790\",\"\\uacf5\\uac04\",\"\\ud3b4\",\"sleep\",\"\\uadf8\\ub54c\\uac00\",\"\\ub2f9\\uc5f0\\ud55c\",\"\\ub178\\uc608\",\"Like_a\",\"respect\",\"\\ub54c\\ucbe4\",\"\\uc5ec\\uae38\",\"\\ub0a0\\uc740\",\"\\uac00\\uce58\\ub97c\",\"\\ud558\\ud558\",\"\\ud558\\ub8e8\\ub294\",\"Thats_right\",\"\\ub2f4\\uae34\",\"\\uc774\\uc0c1\\ud558\\uac8c\",\"ME\",\"\\ub5a0\\ub098\\uace0\",\"\\uadf8_\\uc548\\uc5d0\",\"\\uad1c\\ucc2e\\uc740\",\"\\ucee4\",\"Right\",\"\\uc8fc\\uc704\",\"\\ub108\\ub124\\uac00\",\"\\ubcf4\\ub2e4\\ub294\",\"\\ud3b8\\ud55c\",\"\\ubc16\\uc73c\\ub85c\",\"\\uc88b\\uc558\\ub358\",\"\\ub9de\\uc9c0\",\"\\uc0dd\\uae34\",\"\\ud5a5\\uae30\\uac00\",\"\\uc2e4\\ub825\",\"\\uc815\\ub3c4\",\"turn_it\",\"\\ud544\\uc694\\ud55c_\\uac74\",\"\\uc801\\ub2f9\\ud788\",\"How\",\"\\ub108\\ub97c_\\uc704\\ud55c\",\"shut_up\",\"\\ub610\\ub2e4\\uc2dc\",\"\\uc790\\uc720\\ub86d\\uac8c\",\"\\uacfc\\uac70\",\"\\ube44\\ub85c\\uc18c\",\"\\uc644\\ubcbd\\ud574\",\"hands\",\"\\uadf8\\ud1a0\\ub85d\",\"\\ub294\",\"\\uc0ac\",\"chillin\",\"\\uc800\\ub141\",\"\\ub530\\ub77c\\uac00\",\"\\uc758\",\"\\ucc3e\\uc9c0\",\"\\uc3df\\uc544\\uc9c0\\ub294\",\"\\ud574\\uc57c\",\"\\ucc2c\",\"street\",\"\\ub290\\ub08c\\uc744\",\"\\uae30\\ubd84_\\uc88b\\uc740\",\"\\ud578\\ub4dc\\ud3f0\",\"\\ubc88\\ud638\",\"know_that\",\"\\uc0c8\\ub86d\\uac8c\",\"\\ubaa8\\ub974\\uc9c0\\ub9cc\",\"\\ub46c\",\"no_matter\",\"\\ub77c\\uba74\",\"listen\",\"\\uc131\\uacf5\\uc758\",\"\\uc190\\uc744_\\uc7a1\\uc544\",\"\\uc65c_\\uc774\\ub798\",\"work_it\",\"\\ub9f4\\ub3cc\\uc544\",\"alive\",\"\\uc548\\ubcf4\\uc5ec\",\"\\ub9d0\\uc790\",\"\\ubcf4\\uc774\\ub124\",\"\\ud574\\ubd10\\ub3c4\",\"\\ud3b8\\ud574\",\"\\uc26c\\uace0\",\"No_more\",\"an\",\"\\ubd88\\uc548\\ud55c\",\"\\uc5c6\\uae30\\uc5d0\",\"\\ube44\",\"\\ud145\\ube48\",\"\\ub098\\uc911\\uc5d0\",\"my_soul\",\"\\uae30\\ub2e4\\ub9b4\\uac8c\",\"for_ma\",\"\\uc740\",\"\\ub5a8\\uc5b4\\uc9c4\",\"\\uc5b4\\uae40\\uc5c6\\uc774\",\"\\ub113\\uc740\",\"\\ub098\\uc774\\uac00\",\"\\ud55c_\\ubc88\\ub9cc\",\"Ye\",\"\\uc8fd\\uc5ec\",\"\\uc7a1\\uc9c0\",\"\\uc8fc\\ubcc0\\uc5d0\",\"\\uac78\\ub9b0\",\"\\ud53c\\uace4\\ud574\",\"\\uc624\\ub298\\ubc24\\uc740\",\"\\uc6b0\\uc5f0\\ud788\",\"\\ud3b8\\uc9c0\",\"R\",\"movin\",\"whatever\",\"\\ub118\\uce58\\ub294\",\"good_life\",\"\\ube60\\ub978\",\"\\ub0b4\\ub9b0\",\"\\uac77\\uc9c0\",\"I_could\",\"\\ub300\\ub2f5\\ud574\",\"\\uc218\\ub3c4\",\"\\ub9c8\\uc774\\ud06c\",\"\\uba5c\\ub85c\\ub514\",\"Good_Night\",\"\\uac00\\uc838\",\"we_do\",\"\\ub108_\\ub55c\\uc5d0\",\"\\uc544\\ud514\",\"\\ub0b4\\ubc84\\ub824\\ub46c\",\"\\uc624\\ub798_\\uc624\\ub798\",\"\\uae38\\ub85c\",\"\\uc783\\uc5b4\",\"\\ud588\\uace0\",\"\\uc54c\\uace0_\\uc788\\uc5b4\",\"\\uc8fc\\uba38\\ub2c8\",\"\\uc885\\uc774\",\"\\ub0b4\\uace0\",\"\\uc624\\ub298\\ubd80\\ud130\",\"boys\",\"\\ub9c8\\uad6c\",\"\\uc606\",\"\\uc790\\uace0\",\"\\ub2ec\\uc774\",\"\\uafc8\\uc744_\\uafd4\",\"\\ud544\\uc694\",\"the_sky\",\"No_No\",\"\\uadf8\\uac8c_\\ubc14\\ub85c\",\"\\uc11c\\ub85c\\uc5d0\\uac8c\",\"Cant\",\"\\ub09c\\ub370\",\"\\uc2f6\\uc5c8\\uc5b4\",\"\\uce5c\\uad6c\\ub294\",\"\\uce5c\\uad6c\\uc57c\",\"eh\",\"Turn_up\",\"\\ub9cc\\ub098\\uba74\",\"gold\",\"somebody\",\"\\ubc29\\uae08\",\"\\uc2dc\\uacc4\",\"\\uc801\\uc5b4\",\"believe\",\"everywhere\",\"start\",\"Ay\",\"Ah\",\"\\uadf8\\ub807\\uc9c0\",\"smoke\",\"\\uc54c\\uac8c\",\"\\uc5b8\\uc81c\\ucbe4\",\"\\uc654\\ub2e4\",\"\\uc5f0\\uacb0\\uace0\\ub9ac\",\"nice\",\"\\ub2e4\\ub978_\\uc0ac\\ub78c\",\"\\uc8fc\\uc704\\ub97c\",\"\\uc6b4\\uba85\",\"find\",\"\\ucc28\\ub9c8\",\"\\uc8fc\\uc9c0\",\"\\uc26c\\uc5b4\",\"sexy\",\"\\uae30\\ubd84\\uc744\",\"\\ub3c8\\uc73c\\ub85c\",\"youre_my\",\"Dont_be\",\"through\",\"\\ub108\\ub9cc_\\uc788\\uc73c\\uba74\",\"\\ubd04\\uc774\",\"\\ub3c8_\\ub3c8\",\"\\uba40\\ub9ac\\uc11c\",\"\\uc2eb\\uc5b4\\uc11c\",\"your_hands\",\"got_no\",\"\\uc544\\ub2d0\\uae4c\",\"\\ub2e5\\uce58\\uace0\",\"\\uc9c4\\uc815\\ud55c\",\"\\uc790\\uc5f0\\uc2a4\\ub808\",\"\\uace0\\uc791\",\"\\uadc0\\uc5ec\\uc6b4\",\"\\uc9c0\\ub098\\uac00\",\"alright_alright\",\"\\uadf8\\ub7ec\\ub098\",\"wit\",\"\\uc5b8\\uc820\\uac00\\ub294\",\"\\ub0b4_\\ub7a9\\uc740\",\"\\uc794\\ub729\",\"\\ub9cc\\ub0a0\",\"and_only\",\"\\ub4dc\\ub294\",\"\\uc790\\ub9b4\",\"\\uc785\\uc220\\uc5d0\",\"\\uc785\\uc220\\uc774\",\"\\uc8fd\\uc5b4\\ub3c4\",\"\\uc5b4\\ub978\\uc774\",\"\\ucde8\\ud55c\",\"\\uae38\\uc5b4\",\"Youre\",\"\\ucd5c\\uace0\",\"\\ucc98\\uc74c\\uc5d4\",\"\\uc5f4\\uc815\\uc744\",\"You_make\",\"\\uba38\\ub9ac\\ub294\",\"im_so\",\"\\ub5a0\\ub098\\uac04\",\"\\uc774\\uc81c\\uc640\",\"\\uc0dd\\uac01\\ud558\\uba74\",\"\\ubc29\\ubc95\",\"\\uc54c\\uc558\\uc9c0\",\"\\ubc30\\uc6cc\",\"\\ud558\\ub298\\uc740\",\"\\ubcf4\\uc774\\uc9c0_\\uc54a\\ub294\",\"\\ub9db\",\"\\ud558\\uc790\",\"\\ub5a0\\uc624\\ub974\\ub294\",\"\\ub2f9\\uc2e0\\uc744\",\"\\uc0ac\\ub294\\uac8c\",\"\\ud0a4\\uc6cc\",\"Nah_Nah\",\"\\ud65c\\uc9dd\",\"\\ub098\\ub97c_\\uc704\\ud55c\",\"\\uc790\\uccb4\\uac00\",\"\\uac70\\ub294\",\"\\uacb0\\uacfc\\ub294\",\"\\uae4c\\ub9cc\",\"\\uadf8\\ub54c\\ub85c\",\"\\ub97c\",\"\\uc77c\\uc0c1\",\"\\uc77c\\uc5b4\\uc11c\",\"\\uc88b\\uc9c0\",\"E\",\"don\\u2019t\",\"good_bye\",\"\\ubcf4\\uc5ec\\ub3c4\",\"I_said\",\"\\uc791\\uc5c5\\uc2e4\",\"so_much\",\"\\uac70\\uae30\\uc5d0\",\"\\ub9ce\\uc9c0\",\"\\ud55c\\ubc88\\ub3c4\",\"remember\",\"\\uace0\\ubbfc\\uc740\",\"\\uc54c\\uc9c0\\ub9cc\",\"gonna_do\",\"\\uc5ec\\uae30\\uac00\",\"\\uc190\\uc740\",\"dont_stop\",\"\\uc190\\uc7a1\\uace0\",\"\\uc774\\ubcc4\\uc740\",\"Peace\",\"\\uadf8\\ub9cc\\ud574\",\"\\ub204\\uad6c\\ub294\",\"better_than\",\"talk_to\"],\"x_coord\":{\"__ndarray__\":\"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\",\"dtype\":\"float64\",\"shape\":[2876]},\"y_coord\":{\"__ndarray__\":\"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\",\"dtype\":\"float64\",\"shape\":[2876]}}},\"id\":\"14e45f2c-7469-4ecc-ba67-e73f61fefa71\",\"type\":\"ColumnDataSource\"},{\"attributes\":{\"fill_color\":{\"value\":\"#1f77b4\"},\"line_color\":{\"value\":\"orange\"},\"size\":{\"units\":\"screen\",\"value\":10},\"x\":{\"field\":\"x_coord\"},\"y\":{\"field\":\"y_coord\"}},\"id\":\"2bbca820-1fff-428c-b9ff-2d18e6c46598\",\"type\":\"Circle\"},{\"attributes\":{\"bottom_units\":\"screen\",\"fill_alpha\":{\"value\":0.5},\"fill_color\":{\"value\":\"lightgrey\"},\"left_units\":\"screen\",\"level\":\"overlay\",\"line_alpha\":{\"value\":1.0},\"line_color\":{\"value\":\"black\"},\"line_dash\":[4,4],\"line_width\":{\"value\":2},\"plot\":null,\"render_mode\":\"css\",\"right_units\":\"screen\",\"top_units\":\"screen\"},\"id\":\"9e1e224a-5791-457e-8802-99de6e5f3c65\",\"type\":\"BoxAnnotation\"},{\"attributes\":{\"formatter\":{\"id\":\"b39ff9a1-bfa1-4166-910a-bb23d01c8cf2\",\"type\":\"BasicTickFormatter\"},\"plot\":{\"id\":\"04dd008c-0566-48be-811a-7442a6131c09\",\"subtype\":\"Figure\",\"type\":\"Plot\"},\"ticker\":{\"id\":\"16354511-40f4-495f-a2c7-a672f38fd2c4\",\"type\":\"BasicTicker\"},\"visible\":false},\"id\":\"913de1bf-f201-4954-8144-ddfb114efacf\",\"type\":\"LinearAxis\"},{\"attributes\":{\"plot\":{\"id\":\"04dd008c-0566-48be-811a-7442a6131c09\",\"subtype\":\"Figure\",\"type\":\"Plot\"}},\"id\":\"ff3dc4e3-75f7-4e11-91ce-d9e8ece0fd7d\",\"type\":\"SaveTool\"},{\"attributes\":{},\"id\":\"16354511-40f4-495f-a2c7-a672f38fd2c4\",\"type\":\"BasicTicker\"},{\"attributes\":{\"fill_alpha\":{\"value\":0.1},\"fill_color\":{\"value\":\"red\"},\"line_alpha\":{\"value\":0.2},\"line_color\":{\"value\":\"red\"},\"size\":{\"units\":\"screen\",\"value\":10},\"x\":{\"field\":\"x_coord\"},\"y\":{\"field\":\"y_coord\"}},\"id\":\"6a4b8ae3-6ae7-422b-8aa1-1ac01e207240\",\"type\":\"Circle\"},{\"attributes\":{\"plot\":{\"id\":\"04dd008c-0566-48be-811a-7442a6131c09\",\"subtype\":\"Figure\",\"type\":\"Plot\"}},\"id\":\"b1d24500-6264-413c-b24f-1c997421f03a\",\"type\":\"WheelZoomTool\"},{\"attributes\":{\"plot\":null,\"text\":\"t-SNE Word Embeddings\",\"text_font_size\":{\"value\":\"16pt\"}},\"id\":\"d5bac140-3e47-4013-bbc0-cba231188fe0\",\"type\":\"Title\"},{\"attributes\":{\"formatter\":{\"id\":\"56092a0d-9873-4c65-b385-524211bf677c\",\"type\":\"BasicTickFormatter\"},\"plot\":{\"id\":\"04dd008c-0566-48be-811a-7442a6131c09\",\"subtype\":\"Figure\",\"type\":\"Plot\"},\"ticker\":{\"id\":\"a46a2ce8-48cd-449d-8358-62972129e31d\",\"type\":\"BasicTicker\"},\"visible\":false},\"id\":\"9abb7df3-f51c-452b-ac34-5a0386ff1cf1\",\"type\":\"LinearAxis\"}],\"root_ids\":[\"04dd008c-0566-48be-811a-7442a6131c09\"]},\"title\":\"Bokeh Application\",\"version\":\"0.12.6\"}};\n",
       "            var render_items = [{\"docid\":\"1946e8ff-ecd6-4087-aca7-51fb9a5994b2\",\"elementid\":\"20a6bd10-5ebe-441a-9e80-e19953162484\",\"modelid\":\"04dd008c-0566-48be-811a-7442a6131c09\"}];\n",
       "            \n",
       "            Bokeh.embed.embed_items(docs_json, render_items);\n",
       "          };\n",
       "          if (document.readyState != \"loading\") fn();\n",
       "          else document.addEventListener(\"DOMContentLoaded\", fn);\n",
       "        })();\n",
       "      },\n",
       "      function(Bokeh) {\n",
       "      }\n",
       "    ];\n",
       "  \n",
       "    function run_inline_js() {\n",
       "      \n",
       "      if ((window.Bokeh !== undefined) || (force === true)) {\n",
       "        for (var i = 0; i < inline_js.length; i++) {\n",
       "          inline_js[i](window.Bokeh);\n",
       "        }if (force === true) {\n",
       "          display_loaded();\n",
       "        }} else if (Date.now() < window._bokeh_timeout) {\n",
       "        setTimeout(run_inline_js, 100);\n",
       "      } else if (!window._bokeh_failed_load) {\n",
       "        console.log(\"Bokeh: BokehJS failed to load within specified timeout.\");\n",
       "        window._bokeh_failed_load = true;\n",
       "      } else if (force !== true) {\n",
       "        var cell = $(document.getElementById(\"20a6bd10-5ebe-441a-9e80-e19953162484\")).parents('.cell').data().cell;\n",
       "        cell.output_area.append_execute_result(NB_LOAD_WARNING)\n",
       "      }\n",
       "  \n",
       "    }\n",
       "  \n",
       "    if (window._bokeh_is_loading === 0) {\n",
       "      console.log(\"Bokeh: BokehJS loaded, going straight to plotting\");\n",
       "      run_inline_js();\n",
       "    } else {\n",
       "      load_libs(js_urls, function() {\n",
       "        console.log(\"Bokeh: BokehJS plotting callback run at\", now());\n",
       "        run_inline_js();\n",
       "      });\n",
       "    }\n",
       "  }(this));\n",
       "</script>"
      ]
     },
     "metadata": {},
     "output_type": "display_data"
    }
   ],
   "source": [
    "# prepare the data in a form suitable for bokeh.\n",
    "plot_data = ColumnDataSource(tsne_df)\n",
    "\n",
    "# create the plot and configure it\n",
    "tsne_plot = figure(title='t-SNE Word Embeddings',\n",
    "                   plot_width = 800,\n",
    "                   plot_height = 800,\n",
    "                   active_scroll='wheel_zoom'\n",
    "                  )\n",
    "\n",
    "# add a hover tool to display words on roll-over\n",
    "tsne_plot.add_tools( HoverTool(tooltips = '@word') )\n",
    "\n",
    "tsne_plot.circle('x_coord', 'y_coord', source=plot_data,\n",
    "                 color='red', line_alpha=0.2, fill_alpha=0.1,\n",
    "                 size=10, hover_line_color='orange')\n",
    "\n",
    "# adjust visual elements of the plot\n",
    "tsne_plot.title.text_font_size = value('16pt')\n",
    "tsne_plot.xaxis.visible = False\n",
    "tsne_plot.yaxis.visible = False\n",
    "tsne_plot.grid.grid_line_color = None\n",
    "tsne_plot.outline_line_color = None\n",
    "\n",
    "# show time!\n",
    "show(tsne_plot);"
   ]
  },
  {
   "cell_type": "markdown",
   "metadata": {},
   "source": [
    "> - 각 데이터 포인트에 마우스를 올리면 어떤 단어들이 함께 맵핑되어 있는지 확인 가능하다. 특히 진한 부분일 수록 비슷한 단어들이 많이 모여 있음을 알 수 있다.\n",
    "- [꽤, 뭔가, 생각보다] 와 같이 단어 자체는 다르지만 의미가 비슷한 것들이 함께 매칭되어 있다.\n",
    "- [됐지, 된, 되는, 됐어] 와 같이 '되다' 에서 파생된 단어들이 함께 모여있다.\n",
    "- [귀를, 손을, 손과] 와 같이 단어의 모양과 뜻 모두 다르지만 신체 부위를 일컫는 공통점이 있는 포인트들도 있다.\n",
    "- 이것으로 보아 텍스트의 Word2Vec 처리와 t-SNE 모델링이 우수하게 이뤄진 것이 확인 가능하다."
   ]
  },
  {
   "cell_type": "markdown",
   "metadata": {},
   "source": [
    "## 6. RNN - LSTM으로 가사 생성\n",
    "- 일반적인 뉴럴넷에 비해 RNN은 파라미터가 공유되며, backpropagation through time 이라는 특징이 있다\n",
    "- 하지만 기존의 RNN은 긴 시퀀스를 잘 처리하지 못하며, 그라디언트가 소멸되는 현상이 발생함\n",
    "- LSTM이라는 RNN의 변형 모델이 등장\n",
    "- LSTM은 '게이트'를 통해 상태값을 계산 시 내부의 상태값을 얼마나 기억하고 사용할지 정한다\n",
    "- 그라디언트 흐름을 좋게 만들고 베니싱 현상을 완화시켜 먼 과거에 대한 단어나 정보도 잘 기억할 수 있게 되었다"
   ]
  },
  {
   "cell_type": "markdown",
   "metadata": {},
   "source": [
    "### 1) 1000곡의 가사로 학습시킴\n",
    "- Hiphop장르 1000곡의 가사를 RNN - LSTM 방식으로 학습\n",
    "- 23만회 학습시킨 모델을 생성\n",
    "- 초반 단어 3,4개를 입력하여 차후 나올 단어들을 예측"
   ]
  },
  {
   "cell_type": "markdown",
   "metadata": {},
   "source": [
    "![가사캡쳐](capture/3.png)"
   ]
  },
  {
   "cell_type": "markdown",
   "metadata": {},
   "source": [
    "![가사캡쳐](capture/4.png)"
   ]
  },
  {
   "cell_type": "markdown",
   "metadata": {},
   "source": [
    "![가사캡쳐](capture/8.png)"
   ]
  },
  {
   "cell_type": "markdown",
   "metadata": {},
   "source": [
    "![가사캡쳐](capture/10.png)"
   ]
  },
  {
   "cell_type": "markdown",
   "metadata": {},
   "source": [
    "### 2) 보완할 점"
   ]
  },
  {
   "cell_type": "markdown",
   "metadata": {},
   "source": [
    "![가사캡쳐](capture/잘못된_예.png)"
   ]
  },
  {
   "cell_type": "markdown",
   "metadata": {},
   "source": [
    "> - 자주 나오는 단어를 입력할수록 출력 단어가 자꾸 반복되는 현상을 발견\n",
    "- 23만회 이상으로 학습시키는 것이 목표\n",
    "- 차후 Beam Search 등의 알고리즘 적용하여 더 말이 되게끔 만드는 작업이 필요하다!"
   ]
  },
  {
   "cell_type": "markdown",
   "metadata": {},
   "source": [
    "## 7. Python Flask를 이용한 웹페이지 구현\n",
    "- Flask 모듈은 웹 개발을 위한 모듈\n",
    "- Micro-Framework 를 사용함으로써 핵심적인 기능만 자체적으로 지원하고 나머지는 기존에 존재하는 모듈을 사용\n",
    "- 학습이나 구현에 편리함"
   ]
  }
 ],
 "metadata": {
  "kernelspec": {
   "display_name": "Python 3",
   "language": "python",
   "name": "python3"
  },
  "language_info": {
   "codemirror_mode": {
    "name": "ipython",
    "version": 3
   },
   "file_extension": ".py",
   "mimetype": "text/x-python",
   "name": "python",
   "nbconvert_exporter": "python",
   "pygments_lexer": "ipython3",
   "version": "3.6.2rc1"
  }
 },
 "nbformat": 4,
 "nbformat_minor": 2
}
